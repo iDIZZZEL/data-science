{
 "cells": [
  {
   "cell_type": "markdown",
   "source": [
    "# \"50 startups.\""
   ],
   "metadata": {}
  },
  {
   "cell_type": "markdown",
   "source": [
    "### _\"Predict which companies to invest for maximizing profit\" (Regression task)._"
   ],
   "metadata": {}
  },
  {
   "cell_type": "markdown",
   "source": [
    "## Table of Contents\n",
    "\n",
    "\n",
    "## Part 0: Introduction\n",
    "\n",
    "### Overview\n",
    "The dataset that's we see here contains data about 50 startups. It has 7 columns: “ID”, “R&D Spend”, “Administration”, “Marketing Spend”, “State”, “Category”  “Profit”.\n",
    "\n",
    "    \n",
    "**Метаданные:**\n",
    "    \n",
    "* **ID** - startup ID\n",
    "\n",
    "* **R&D Spend** - how much each startup spends on Research and Development\n",
    "\n",
    "* **Administration** - how much they spend on Administration cost\n",
    "\n",
    "* **Marketing Spend** - how much they spend on Marketing\n",
    "\n",
    "* **State** - which state the startup is based in\n",
    "\n",
    "* **Category** - which business category the startup belong to\n",
    "\n",
    "* **Profit** - the profit made by the startup\n",
    "   \n",
    "\n",
    "### Questions:\n",
    "    \n",
    "\n",
    "* #### Predict which companies to invest for maximizing profit (choose model with the best score; create predictions; choose companies)\n",
    "\n",
    "\n",
    "## [Part 1: Import, Load Data](#Part-1:-Import,-Load-Data.)\n",
    "* ### Import libraries, Read data from ‘.csv’ file\n",
    "\n",
    "## [Part 2: Exploratory Data Analysis](#Part-2:-Exploratory-Data-Analysis.)\n",
    "* ### Info, Head\n",
    "* ### Observation of target variable (describe + visualisation:distplot)\n",
    "* ### Numerical and Categorical features\n",
    "    * #### List of Numerical and Categorical features\n",
    "* ### Missing Data\n",
    "    * #### List of data features with missing values  \n",
    "    * #### Filling missing values\n",
    "* ### Numerical and Categorical features    \n",
    "    * #### Visualisation  of Numerical and categorical features (regplot + barplot)\n",
    "\n",
    "## [Part 3: Data Wrangling and Transformation](#Part-3:-Data-Wrangling-and-Transformation.)\n",
    "* ### One-Hot Encoding \n",
    "* ### Standard Scaler (optional)\n",
    "* ### Creating datasets for ML part\n",
    "* ### 'Train\\Test' splitting method\n",
    "\n",
    "## [Part 4: Machine Learning](#Part-4:-Machine-Learning.)\n",
    "* ### ML Models (Linear regression, Gradient Boosting Regression)\n",
    "* ### Build, train, evaluate and visualise models\n",
    "* ### Creating final predictions with Test set\n",
    "* ### Model comparison\n",
    "\n",
    "\n",
    "## [Conclusion](#Conclusion.)\n",
    "* ### Submission of ‘.csv’ file with predictions"
   ],
   "metadata": {}
  },
  {
   "cell_type": "markdown",
   "source": [
    "## Part 1: Import, Load Data."
   ],
   "metadata": {}
  },
  {
   "cell_type": "markdown",
   "source": [
    "* ### Import "
   ],
   "metadata": {}
  },
  {
   "cell_type": "code",
   "execution_count": 98,
   "source": [
    "# import standard libraries\r\n",
    "import numpy as np \r\n",
    "import pandas as pd \r\n",
    "import seaborn as sns\r\n",
    "import matplotlib.pyplot as plt\r\n",
    "import pylab as pl\r\n",
    "from scipy import stats                                                                                                                                                                                                                                                                                                                                                                                                                                                                                                                                                                                                                                                                                                                                                                                                                                                                                                                                                                                                                                                                        \r\n",
    "\r\n",
    "# import models and metrics\r\n",
    "from sklearn import metrics, linear_model, model_selection\r\n",
    "from sklearn.metrics import r2_score, mean_squared_error, mean_squared_log_error, mean_absolute_error\r\n",
    "from sklearn.model_selection import cross_val_score\r\n",
    "from sklearn.linear_model import LinearRegression\r\n",
    "from sklearn.ensemble import GradientBoostingRegressor"
   ],
   "outputs": [],
   "metadata": {}
  },
  {
   "cell_type": "markdown",
   "source": [
    "* ### Load Data"
   ],
   "metadata": {}
  },
  {
   "cell_type": "code",
   "execution_count": 99,
   "source": [
    "# read data from '.csv' files\r\n",
    "train = pd.read_csv(\"train.csv\")\r\n",
    "test = pd.read_csv(\"test.csv\")\r\n",
    "\r\n",
    "# identify target\r\n",
    "target = train['Profit']"
   ],
   "outputs": [],
   "metadata": {
    "_cell_guid": "79c7e3d0-c299-4dcb-8224-4455121ee9b0",
    "_uuid": "d629ff2d2480ee46fbb7e2d37f6b5fab8052498a"
   }
  },
  {
   "cell_type": "markdown",
   "source": [
    "## Part 2: Exploratory Data Analysis."
   ],
   "metadata": {}
  },
  {
   "cell_type": "markdown",
   "source": [
    "* ### Info"
   ],
   "metadata": {}
  },
  {
   "cell_type": "code",
   "execution_count": 100,
   "source": [
    "# print the full summary of the Train dataset\r\n",
    "train.info()"
   ],
   "outputs": [
    {
     "output_type": "stream",
     "name": "stdout",
     "text": [
      "<class 'pandas.core.frame.DataFrame'>\n",
      "RangeIndex: 50 entries, 0 to 49\n",
      "Data columns (total 7 columns):\n",
      " #   Column           Non-Null Count  Dtype  \n",
      "---  ------           --------------  -----  \n",
      " 0   ID               50 non-null     int64  \n",
      " 1   R&D Spend        48 non-null     float64\n",
      " 2   Administration   50 non-null     float64\n",
      " 3   Marketing Spend  47 non-null     float64\n",
      " 4   State            50 non-null     object \n",
      " 5   Category         49 non-null     object \n",
      " 6   Profit           50 non-null     float64\n",
      "dtypes: float64(4), int64(1), object(2)\n",
      "memory usage: 2.9+ KB\n"
     ]
    }
   ],
   "metadata": {}
  },
  {
   "cell_type": "code",
   "execution_count": 101,
   "source": [
    "# print the full summary of the Test dataset\r\n",
    "test.info()"
   ],
   "outputs": [
    {
     "output_type": "stream",
     "name": "stdout",
     "text": [
      "<class 'pandas.core.frame.DataFrame'>\n",
      "RangeIndex: 50 entries, 0 to 49\n",
      "Data columns (total 6 columns):\n",
      " #   Column           Non-Null Count  Dtype  \n",
      "---  ------           --------------  -----  \n",
      " 0   ID               50 non-null     int64  \n",
      " 1   R&D Spend        48 non-null     float64\n",
      " 2   Administration   48 non-null     float64\n",
      " 3   Marketing Spend  50 non-null     float64\n",
      " 4   State            49 non-null     object \n",
      " 5   Category         50 non-null     object \n",
      "dtypes: float64(3), int64(1), object(2)\n",
      "memory usage: 2.5+ KB\n"
     ]
    }
   ],
   "metadata": {}
  },
  {
   "cell_type": "markdown",
   "source": [
    "* ### Head"
   ],
   "metadata": {}
  },
  {
   "cell_type": "code",
   "execution_count": 102,
   "source": [
    "# preview of the first 5 lines of the loaded Train data \r\n",
    "train.head()"
   ],
   "outputs": [
    {
     "output_type": "execute_result",
     "data": {
      "text/plain": [
       "   ID  R&D Spend  Administration  Marketing Spend       State     Category  \\\n",
       "0   0  165349.20       136897.80        471784.10    New York  Industrials   \n",
       "1   1  162597.70       151377.59        443898.53  California   Technology   \n",
       "2   2  153441.51       101145.55        407934.54     Florida   Healthcare   \n",
       "3   3  144372.41       118671.85        383199.62    New York   Financials   \n",
       "4   4  142107.34        91391.77        366168.42     Florida  Industrials   \n",
       "\n",
       "      Profit  \n",
       "0  192261.83  \n",
       "1  191792.06  \n",
       "2  191050.39  \n",
       "3  182901.99  \n",
       "4  166187.94  "
      ],
      "text/html": [
       "<div>\n",
       "<style scoped>\n",
       "    .dataframe tbody tr th:only-of-type {\n",
       "        vertical-align: middle;\n",
       "    }\n",
       "\n",
       "    .dataframe tbody tr th {\n",
       "        vertical-align: top;\n",
       "    }\n",
       "\n",
       "    .dataframe thead th {\n",
       "        text-align: right;\n",
       "    }\n",
       "</style>\n",
       "<table border=\"1\" class=\"dataframe\">\n",
       "  <thead>\n",
       "    <tr style=\"text-align: right;\">\n",
       "      <th></th>\n",
       "      <th>ID</th>\n",
       "      <th>R&amp;D Spend</th>\n",
       "      <th>Administration</th>\n",
       "      <th>Marketing Spend</th>\n",
       "      <th>State</th>\n",
       "      <th>Category</th>\n",
       "      <th>Profit</th>\n",
       "    </tr>\n",
       "  </thead>\n",
       "  <tbody>\n",
       "    <tr>\n",
       "      <th>0</th>\n",
       "      <td>0</td>\n",
       "      <td>165349.20</td>\n",
       "      <td>136897.80</td>\n",
       "      <td>471784.10</td>\n",
       "      <td>New York</td>\n",
       "      <td>Industrials</td>\n",
       "      <td>192261.83</td>\n",
       "    </tr>\n",
       "    <tr>\n",
       "      <th>1</th>\n",
       "      <td>1</td>\n",
       "      <td>162597.70</td>\n",
       "      <td>151377.59</td>\n",
       "      <td>443898.53</td>\n",
       "      <td>California</td>\n",
       "      <td>Technology</td>\n",
       "      <td>191792.06</td>\n",
       "    </tr>\n",
       "    <tr>\n",
       "      <th>2</th>\n",
       "      <td>2</td>\n",
       "      <td>153441.51</td>\n",
       "      <td>101145.55</td>\n",
       "      <td>407934.54</td>\n",
       "      <td>Florida</td>\n",
       "      <td>Healthcare</td>\n",
       "      <td>191050.39</td>\n",
       "    </tr>\n",
       "    <tr>\n",
       "      <th>3</th>\n",
       "      <td>3</td>\n",
       "      <td>144372.41</td>\n",
       "      <td>118671.85</td>\n",
       "      <td>383199.62</td>\n",
       "      <td>New York</td>\n",
       "      <td>Financials</td>\n",
       "      <td>182901.99</td>\n",
       "    </tr>\n",
       "    <tr>\n",
       "      <th>4</th>\n",
       "      <td>4</td>\n",
       "      <td>142107.34</td>\n",
       "      <td>91391.77</td>\n",
       "      <td>366168.42</td>\n",
       "      <td>Florida</td>\n",
       "      <td>Industrials</td>\n",
       "      <td>166187.94</td>\n",
       "    </tr>\n",
       "  </tbody>\n",
       "</table>\n",
       "</div>"
      ]
     },
     "metadata": {},
     "execution_count": 102
    }
   ],
   "metadata": {
    "scrolled": false
   }
  },
  {
   "cell_type": "code",
   "execution_count": 103,
   "source": [
    "# preview of the first 5 lines of the loaded Test data \r\n",
    "test.head()"
   ],
   "outputs": [
    {
     "output_type": "execute_result",
     "data": {
      "text/plain": [
       "   ID  R&D Spend  Administration  Marketing Spend       State     Category\n",
       "0   0  165349.20       136897.80        471784.10    New York  Industrials\n",
       "1   1  162597.70       151377.59        443898.53  California   Technology\n",
       "2   2  153441.51       101145.55        407934.54     Florida   Healthcare\n",
       "3   3  144372.41       118671.85        383199.62    New York   Financials\n",
       "4   4  142107.34        91391.77        366168.42     Florida  Industrials"
      ],
      "text/html": [
       "<div>\n",
       "<style scoped>\n",
       "    .dataframe tbody tr th:only-of-type {\n",
       "        vertical-align: middle;\n",
       "    }\n",
       "\n",
       "    .dataframe tbody tr th {\n",
       "        vertical-align: top;\n",
       "    }\n",
       "\n",
       "    .dataframe thead th {\n",
       "        text-align: right;\n",
       "    }\n",
       "</style>\n",
       "<table border=\"1\" class=\"dataframe\">\n",
       "  <thead>\n",
       "    <tr style=\"text-align: right;\">\n",
       "      <th></th>\n",
       "      <th>ID</th>\n",
       "      <th>R&amp;D Spend</th>\n",
       "      <th>Administration</th>\n",
       "      <th>Marketing Spend</th>\n",
       "      <th>State</th>\n",
       "      <th>Category</th>\n",
       "    </tr>\n",
       "  </thead>\n",
       "  <tbody>\n",
       "    <tr>\n",
       "      <th>0</th>\n",
       "      <td>0</td>\n",
       "      <td>165349.20</td>\n",
       "      <td>136897.80</td>\n",
       "      <td>471784.10</td>\n",
       "      <td>New York</td>\n",
       "      <td>Industrials</td>\n",
       "    </tr>\n",
       "    <tr>\n",
       "      <th>1</th>\n",
       "      <td>1</td>\n",
       "      <td>162597.70</td>\n",
       "      <td>151377.59</td>\n",
       "      <td>443898.53</td>\n",
       "      <td>California</td>\n",
       "      <td>Technology</td>\n",
       "    </tr>\n",
       "    <tr>\n",
       "      <th>2</th>\n",
       "      <td>2</td>\n",
       "      <td>153441.51</td>\n",
       "      <td>101145.55</td>\n",
       "      <td>407934.54</td>\n",
       "      <td>Florida</td>\n",
       "      <td>Healthcare</td>\n",
       "    </tr>\n",
       "    <tr>\n",
       "      <th>3</th>\n",
       "      <td>3</td>\n",
       "      <td>144372.41</td>\n",
       "      <td>118671.85</td>\n",
       "      <td>383199.62</td>\n",
       "      <td>New York</td>\n",
       "      <td>Financials</td>\n",
       "    </tr>\n",
       "    <tr>\n",
       "      <th>4</th>\n",
       "      <td>4</td>\n",
       "      <td>142107.34</td>\n",
       "      <td>91391.77</td>\n",
       "      <td>366168.42</td>\n",
       "      <td>Florida</td>\n",
       "      <td>Industrials</td>\n",
       "    </tr>\n",
       "  </tbody>\n",
       "</table>\n",
       "</div>"
      ]
     },
     "metadata": {},
     "execution_count": 103
    }
   ],
   "metadata": {}
  },
  {
   "cell_type": "markdown",
   "source": [
    "* ### Observation of target variable"
   ],
   "metadata": {}
  },
  {
   "cell_type": "code",
   "execution_count": 104,
   "source": [
    "# target variable\r\n",
    "train['Profit'].describe()"
   ],
   "outputs": [
    {
     "output_type": "execute_result",
     "data": {
      "text/plain": [
       "count        50.000000\n",
       "mean     112012.639200\n",
       "std       40306.180338\n",
       "min       14681.400000\n",
       "25%       90138.902500\n",
       "50%      107978.190000\n",
       "75%      139765.977500\n",
       "max      192261.830000\n",
       "Name: Profit, dtype: float64"
      ]
     },
     "metadata": {},
     "execution_count": 104
    }
   ],
   "metadata": {}
  },
  {
   "cell_type": "code",
   "execution_count": 105,
   "source": [
    "# visualisation of 'Profit' distribution\r\n",
    "sns.distplot(train['Profit'], color='g')"
   ],
   "outputs": [
    {
     "output_type": "stream",
     "name": "stderr",
     "text": [
      "C:\\Users\\golovkin\\AppData\\Local\\Programs\\Python\\Python39\\lib\\site-packages\\seaborn\\distributions.py:2557: FutureWarning: `distplot` is a deprecated function and will be removed in a future version. Please adapt your code to use either `displot` (a figure-level function with similar flexibility) or `histplot` (an axes-level function for histograms).\n",
      "  warnings.warn(msg, FutureWarning)\n"
     ]
    },
    {
     "output_type": "execute_result",
     "data": {
      "text/plain": [
       "<AxesSubplot:xlabel='Profit', ylabel='Density'>"
      ]
     },
     "metadata": {},
     "execution_count": 105
    },
    {
     "output_type": "display_data",
     "data": {
      "text/plain": [
       "<Figure size 432x288 with 1 Axes>"
      ],
      "image/svg+xml": "<?xml version=\"1.0\" encoding=\"utf-8\" standalone=\"no\"?>\r\n<!DOCTYPE svg PUBLIC \"-//W3C//DTD SVG 1.1//EN\"\r\n  \"http://www.w3.org/Graphics/SVG/1.1/DTD/svg11.dtd\">\r\n<svg height=\"272.794688pt\" version=\"1.1\" viewBox=\"0 0 392.229245 272.794688\" width=\"392.229245pt\" xmlns=\"http://www.w3.org/2000/svg\" xmlns:xlink=\"http://www.w3.org/1999/xlink\">\r\n <metadata>\r\n  <rdf:RDF xmlns:cc=\"http://creativecommons.org/ns#\" xmlns:dc=\"http://purl.org/dc/elements/1.1/\" xmlns:rdf=\"http://www.w3.org/1999/02/22-rdf-syntax-ns#\">\r\n   <cc:Work>\r\n    <dc:type rdf:resource=\"http://purl.org/dc/dcmitype/StillImage\"/>\r\n    <dc:date>2021-08-06T16:35:18.436238</dc:date>\r\n    <dc:format>image/svg+xml</dc:format>\r\n    <dc:creator>\r\n     <cc:Agent>\r\n      <dc:title>Matplotlib v3.4.2, https://matplotlib.org/</dc:title>\r\n     </cc:Agent>\r\n    </dc:creator>\r\n   </cc:Work>\r\n  </rdf:RDF>\r\n </metadata>\r\n <defs>\r\n  <style type=\"text/css\">*{stroke-linecap:butt;stroke-linejoin:round;}</style>\r\n </defs>\r\n <g id=\"figure_1\">\r\n  <g id=\"patch_1\">\r\n   <path d=\"M 0 272.794688 \r\nL 392.229245 272.794688 \r\nL 392.229245 0 \r\nL 0 0 \r\nz\r\n\" style=\"fill:none;\"/>\r\n  </g>\r\n  <g id=\"axes_1\">\r\n   <g id=\"patch_2\">\r\n    <path d=\"M 43.78125 235.238438 \r\nL 378.58125 235.238438 \r\nL 378.58125 17.798438 \r\nL 43.78125 17.798438 \r\nz\r\n\" style=\"fill:#ffffff;\"/>\r\n   </g>\r\n   <g id=\"patch_3\">\r\n    <path clip-path=\"url(#pe232db526c)\" d=\"M 117.402713 235.238438 \r\nL 144.19658 235.238438 \r\nL 144.19658 207.627009 \r\nL 117.402713 207.627009 \r\nz\r\n\" style=\"fill:#008000;opacity:0.4;\"/>\r\n   </g>\r\n   <g id=\"patch_4\">\r\n    <path clip-path=\"url(#pe232db526c)\" d=\"M 144.19658 235.238438 \r\nL 170.990448 235.238438 \r\nL 170.990448 180.01558 \r\nL 144.19658 180.01558 \r\nz\r\n\" style=\"fill:#008000;opacity:0.4;\"/>\r\n   </g>\r\n   <g id=\"patch_5\">\r\n    <path clip-path=\"url(#pe232db526c)\" d=\"M 170.990448 235.238438 \r\nL 197.784316 235.238438 \r\nL 197.784316 124.792723 \r\nL 170.990448 124.792723 \r\nz\r\n\" style=\"fill:#008000;opacity:0.4;\"/>\r\n   </g>\r\n   <g id=\"patch_6\">\r\n    <path clip-path=\"url(#pe232db526c)\" d=\"M 197.784316 235.238438 \r\nL 224.578184 235.238438 \r\nL 224.578184 28.152723 \r\nL 197.784316 28.152723 \r\nz\r\n\" style=\"fill:#008000;opacity:0.4;\"/>\r\n   </g>\r\n   <g id=\"patch_7\">\r\n    <path clip-path=\"url(#pe232db526c)\" d=\"M 224.578184 235.238438 \r\nL 251.372052 235.238438 \r\nL 251.372052 124.792723 \r\nL 224.578184 124.792723 \r\nz\r\n\" style=\"fill:#008000;opacity:0.4;\"/>\r\n   </g>\r\n   <g id=\"patch_8\">\r\n    <path clip-path=\"url(#pe232db526c)\" d=\"M 251.372052 235.238438 \r\nL 278.16592 235.238438 \r\nL 278.16592 110.987009 \r\nL 251.372052 110.987009 \r\nz\r\n\" style=\"fill:#008000;opacity:0.4;\"/>\r\n   </g>\r\n   <g id=\"patch_9\">\r\n    <path clip-path=\"url(#pe232db526c)\" d=\"M 278.16592 235.238438 \r\nL 304.959787 235.238438 \r\nL 304.959787 180.01558 \r\nL 278.16592 180.01558 \r\nz\r\n\" style=\"fill:#008000;opacity:0.4;\"/>\r\n   </g>\r\n   <g id=\"matplotlib.axis_1\">\r\n    <g id=\"xtick_1\">\r\n     <g id=\"line2d_1\">\r\n      <defs>\r\n       <path d=\"M 0 0 \r\nL 0 3.5 \r\n\" id=\"mf992904415\" style=\"stroke:#000000;stroke-width:0.8;\"/>\r\n      </defs>\r\n      <g>\r\n       <use style=\"stroke:#000000;stroke-width:0.8;\" x=\"49.087447\" xlink:href=\"#mf992904415\" y=\"235.238438\"/>\r\n      </g>\r\n     </g>\r\n     <g id=\"text_1\">\r\n      <!-- −50000 -->\r\n      <g transform=\"translate(28.991354 249.836875)scale(0.1 -0.1)\">\r\n       <defs>\r\n        <path d=\"M 678 2272 \r\nL 4684 2272 \r\nL 4684 1741 \r\nL 678 1741 \r\nL 678 2272 \r\nz\r\n\" id=\"DejaVuSans-2212\" transform=\"scale(0.015625)\"/>\r\n        <path d=\"M 691 4666 \r\nL 3169 4666 \r\nL 3169 4134 \r\nL 1269 4134 \r\nL 1269 2991 \r\nQ 1406 3038 1543 3061 \r\nQ 1681 3084 1819 3084 \r\nQ 2600 3084 3056 2656 \r\nQ 3513 2228 3513 1497 \r\nQ 3513 744 3044 326 \r\nQ 2575 -91 1722 -91 \r\nQ 1428 -91 1123 -41 \r\nQ 819 9 494 109 \r\nL 494 744 \r\nQ 775 591 1075 516 \r\nQ 1375 441 1709 441 \r\nQ 2250 441 2565 725 \r\nQ 2881 1009 2881 1497 \r\nQ 2881 1984 2565 2268 \r\nQ 2250 2553 1709 2553 \r\nQ 1456 2553 1204 2497 \r\nQ 953 2441 691 2322 \r\nL 691 4666 \r\nz\r\n\" id=\"DejaVuSans-35\" transform=\"scale(0.015625)\"/>\r\n        <path d=\"M 2034 4250 \r\nQ 1547 4250 1301 3770 \r\nQ 1056 3291 1056 2328 \r\nQ 1056 1369 1301 889 \r\nQ 1547 409 2034 409 \r\nQ 2525 409 2770 889 \r\nQ 3016 1369 3016 2328 \r\nQ 3016 3291 2770 3770 \r\nQ 2525 4250 2034 4250 \r\nz\r\nM 2034 4750 \r\nQ 2819 4750 3233 4129 \r\nQ 3647 3509 3647 2328 \r\nQ 3647 1150 3233 529 \r\nQ 2819 -91 2034 -91 \r\nQ 1250 -91 836 529 \r\nQ 422 1150 422 2328 \r\nQ 422 3509 836 4129 \r\nQ 1250 4750 2034 4750 \r\nz\r\n\" id=\"DejaVuSans-30\" transform=\"scale(0.015625)\"/>\r\n       </defs>\r\n       <use xlink:href=\"#DejaVuSans-2212\"/>\r\n       <use x=\"83.789062\" xlink:href=\"#DejaVuSans-35\"/>\r\n       <use x=\"147.412109\" xlink:href=\"#DejaVuSans-30\"/>\r\n       <use x=\"211.035156\" xlink:href=\"#DejaVuSans-30\"/>\r\n       <use x=\"274.658203\" xlink:href=\"#DejaVuSans-30\"/>\r\n       <use x=\"338.28125\" xlink:href=\"#DejaVuSans-30\"/>\r\n      </g>\r\n     </g>\r\n    </g>\r\n    <g id=\"xtick_2\">\r\n     <g id=\"line2d_2\">\r\n      <g>\r\n       <use style=\"stroke:#000000;stroke-width:0.8;\" x=\"101.896497\" xlink:href=\"#mf992904415\" y=\"235.238438\"/>\r\n      </g>\r\n     </g>\r\n     <g id=\"text_2\">\r\n      <!-- 0 -->\r\n      <g transform=\"translate(98.715247 249.836875)scale(0.1 -0.1)\">\r\n       <use xlink:href=\"#DejaVuSans-30\"/>\r\n      </g>\r\n     </g>\r\n    </g>\r\n    <g id=\"xtick_3\">\r\n     <g id=\"line2d_3\">\r\n      <g>\r\n       <use style=\"stroke:#000000;stroke-width:0.8;\" x=\"154.705547\" xlink:href=\"#mf992904415\" y=\"235.238438\"/>\r\n      </g>\r\n     </g>\r\n     <g id=\"text_3\">\r\n      <!-- 50000 -->\r\n      <g transform=\"translate(138.799297 249.836875)scale(0.1 -0.1)\">\r\n       <use xlink:href=\"#DejaVuSans-35\"/>\r\n       <use x=\"63.623047\" xlink:href=\"#DejaVuSans-30\"/>\r\n       <use x=\"127.246094\" xlink:href=\"#DejaVuSans-30\"/>\r\n       <use x=\"190.869141\" xlink:href=\"#DejaVuSans-30\"/>\r\n       <use x=\"254.492188\" xlink:href=\"#DejaVuSans-30\"/>\r\n      </g>\r\n     </g>\r\n    </g>\r\n    <g id=\"xtick_4\">\r\n     <g id=\"line2d_4\">\r\n      <g>\r\n       <use style=\"stroke:#000000;stroke-width:0.8;\" x=\"207.514596\" xlink:href=\"#mf992904415\" y=\"235.238438\"/>\r\n      </g>\r\n     </g>\r\n     <g id=\"text_4\">\r\n      <!-- 100000 -->\r\n      <g transform=\"translate(188.427096 249.836875)scale(0.1 -0.1)\">\r\n       <defs>\r\n        <path d=\"M 794 531 \r\nL 1825 531 \r\nL 1825 4091 \r\nL 703 3866 \r\nL 703 4441 \r\nL 1819 4666 \r\nL 2450 4666 \r\nL 2450 531 \r\nL 3481 531 \r\nL 3481 0 \r\nL 794 0 \r\nL 794 531 \r\nz\r\n\" id=\"DejaVuSans-31\" transform=\"scale(0.015625)\"/>\r\n       </defs>\r\n       <use xlink:href=\"#DejaVuSans-31\"/>\r\n       <use x=\"63.623047\" xlink:href=\"#DejaVuSans-30\"/>\r\n       <use x=\"127.246094\" xlink:href=\"#DejaVuSans-30\"/>\r\n       <use x=\"190.869141\" xlink:href=\"#DejaVuSans-30\"/>\r\n       <use x=\"254.492188\" xlink:href=\"#DejaVuSans-30\"/>\r\n       <use x=\"318.115234\" xlink:href=\"#DejaVuSans-30\"/>\r\n      </g>\r\n     </g>\r\n    </g>\r\n    <g id=\"xtick_5\">\r\n     <g id=\"line2d_5\">\r\n      <g>\r\n       <use style=\"stroke:#000000;stroke-width:0.8;\" x=\"260.323646\" xlink:href=\"#mf992904415\" y=\"235.238438\"/>\r\n      </g>\r\n     </g>\r\n     <g id=\"text_5\">\r\n      <!-- 150000 -->\r\n      <g transform=\"translate(241.236146 249.836875)scale(0.1 -0.1)\">\r\n       <use xlink:href=\"#DejaVuSans-31\"/>\r\n       <use x=\"63.623047\" xlink:href=\"#DejaVuSans-35\"/>\r\n       <use x=\"127.246094\" xlink:href=\"#DejaVuSans-30\"/>\r\n       <use x=\"190.869141\" xlink:href=\"#DejaVuSans-30\"/>\r\n       <use x=\"254.492188\" xlink:href=\"#DejaVuSans-30\"/>\r\n       <use x=\"318.115234\" xlink:href=\"#DejaVuSans-30\"/>\r\n      </g>\r\n     </g>\r\n    </g>\r\n    <g id=\"xtick_6\">\r\n     <g id=\"line2d_6\">\r\n      <g>\r\n       <use style=\"stroke:#000000;stroke-width:0.8;\" x=\"313.132695\" xlink:href=\"#mf992904415\" y=\"235.238438\"/>\r\n      </g>\r\n     </g>\r\n     <g id=\"text_6\">\r\n      <!-- 200000 -->\r\n      <g transform=\"translate(294.045195 249.836875)scale(0.1 -0.1)\">\r\n       <defs>\r\n        <path d=\"M 1228 531 \r\nL 3431 531 \r\nL 3431 0 \r\nL 469 0 \r\nL 469 531 \r\nQ 828 903 1448 1529 \r\nQ 2069 2156 2228 2338 \r\nQ 2531 2678 2651 2914 \r\nQ 2772 3150 2772 3378 \r\nQ 2772 3750 2511 3984 \r\nQ 2250 4219 1831 4219 \r\nQ 1534 4219 1204 4116 \r\nQ 875 4013 500 3803 \r\nL 500 4441 \r\nQ 881 4594 1212 4672 \r\nQ 1544 4750 1819 4750 \r\nQ 2544 4750 2975 4387 \r\nQ 3406 4025 3406 3419 \r\nQ 3406 3131 3298 2873 \r\nQ 3191 2616 2906 2266 \r\nQ 2828 2175 2409 1742 \r\nQ 1991 1309 1228 531 \r\nz\r\n\" id=\"DejaVuSans-32\" transform=\"scale(0.015625)\"/>\r\n       </defs>\r\n       <use xlink:href=\"#DejaVuSans-32\"/>\r\n       <use x=\"63.623047\" xlink:href=\"#DejaVuSans-30\"/>\r\n       <use x=\"127.246094\" xlink:href=\"#DejaVuSans-30\"/>\r\n       <use x=\"190.869141\" xlink:href=\"#DejaVuSans-30\"/>\r\n       <use x=\"254.492188\" xlink:href=\"#DejaVuSans-30\"/>\r\n       <use x=\"318.115234\" xlink:href=\"#DejaVuSans-30\"/>\r\n      </g>\r\n     </g>\r\n    </g>\r\n    <g id=\"xtick_7\">\r\n     <g id=\"line2d_7\">\r\n      <g>\r\n       <use style=\"stroke:#000000;stroke-width:0.8;\" x=\"365.941745\" xlink:href=\"#mf992904415\" y=\"235.238438\"/>\r\n      </g>\r\n     </g>\r\n     <g id=\"text_7\">\r\n      <!-- 250000 -->\r\n      <g transform=\"translate(346.854245 249.836875)scale(0.1 -0.1)\">\r\n       <use xlink:href=\"#DejaVuSans-32\"/>\r\n       <use x=\"63.623047\" xlink:href=\"#DejaVuSans-35\"/>\r\n       <use x=\"127.246094\" xlink:href=\"#DejaVuSans-30\"/>\r\n       <use x=\"190.869141\" xlink:href=\"#DejaVuSans-30\"/>\r\n       <use x=\"254.492188\" xlink:href=\"#DejaVuSans-30\"/>\r\n       <use x=\"318.115234\" xlink:href=\"#DejaVuSans-30\"/>\r\n      </g>\r\n     </g>\r\n    </g>\r\n    <g id=\"text_8\">\r\n     <!-- Profit -->\r\n     <g transform=\"translate(198.142188 263.515)scale(0.1 -0.1)\">\r\n      <defs>\r\n       <path d=\"M 1259 4147 \r\nL 1259 2394 \r\nL 2053 2394 \r\nQ 2494 2394 2734 2622 \r\nQ 2975 2850 2975 3272 \r\nQ 2975 3691 2734 3919 \r\nQ 2494 4147 2053 4147 \r\nL 1259 4147 \r\nz\r\nM 628 4666 \r\nL 2053 4666 \r\nQ 2838 4666 3239 4311 \r\nQ 3641 3956 3641 3272 \r\nQ 3641 2581 3239 2228 \r\nQ 2838 1875 2053 1875 \r\nL 1259 1875 \r\nL 1259 0 \r\nL 628 0 \r\nL 628 4666 \r\nz\r\n\" id=\"DejaVuSans-50\" transform=\"scale(0.015625)\"/>\r\n       <path d=\"M 2631 2963 \r\nQ 2534 3019 2420 3045 \r\nQ 2306 3072 2169 3072 \r\nQ 1681 3072 1420 2755 \r\nQ 1159 2438 1159 1844 \r\nL 1159 0 \r\nL 581 0 \r\nL 581 3500 \r\nL 1159 3500 \r\nL 1159 2956 \r\nQ 1341 3275 1631 3429 \r\nQ 1922 3584 2338 3584 \r\nQ 2397 3584 2469 3576 \r\nQ 2541 3569 2628 3553 \r\nL 2631 2963 \r\nz\r\n\" id=\"DejaVuSans-72\" transform=\"scale(0.015625)\"/>\r\n       <path d=\"M 1959 3097 \r\nQ 1497 3097 1228 2736 \r\nQ 959 2375 959 1747 \r\nQ 959 1119 1226 758 \r\nQ 1494 397 1959 397 \r\nQ 2419 397 2687 759 \r\nQ 2956 1122 2956 1747 \r\nQ 2956 2369 2687 2733 \r\nQ 2419 3097 1959 3097 \r\nz\r\nM 1959 3584 \r\nQ 2709 3584 3137 3096 \r\nQ 3566 2609 3566 1747 \r\nQ 3566 888 3137 398 \r\nQ 2709 -91 1959 -91 \r\nQ 1206 -91 779 398 \r\nQ 353 888 353 1747 \r\nQ 353 2609 779 3096 \r\nQ 1206 3584 1959 3584 \r\nz\r\n\" id=\"DejaVuSans-6f\" transform=\"scale(0.015625)\"/>\r\n       <path d=\"M 2375 4863 \r\nL 2375 4384 \r\nL 1825 4384 \r\nQ 1516 4384 1395 4259 \r\nQ 1275 4134 1275 3809 \r\nL 1275 3500 \r\nL 2222 3500 \r\nL 2222 3053 \r\nL 1275 3053 \r\nL 1275 0 \r\nL 697 0 \r\nL 697 3053 \r\nL 147 3053 \r\nL 147 3500 \r\nL 697 3500 \r\nL 697 3744 \r\nQ 697 4328 969 4595 \r\nQ 1241 4863 1831 4863 \r\nL 2375 4863 \r\nz\r\n\" id=\"DejaVuSans-66\" transform=\"scale(0.015625)\"/>\r\n       <path d=\"M 603 3500 \r\nL 1178 3500 \r\nL 1178 0 \r\nL 603 0 \r\nL 603 3500 \r\nz\r\nM 603 4863 \r\nL 1178 4863 \r\nL 1178 4134 \r\nL 603 4134 \r\nL 603 4863 \r\nz\r\n\" id=\"DejaVuSans-69\" transform=\"scale(0.015625)\"/>\r\n       <path d=\"M 1172 4494 \r\nL 1172 3500 \r\nL 2356 3500 \r\nL 2356 3053 \r\nL 1172 3053 \r\nL 1172 1153 \r\nQ 1172 725 1289 603 \r\nQ 1406 481 1766 481 \r\nL 2356 481 \r\nL 2356 0 \r\nL 1766 0 \r\nQ 1100 0 847 248 \r\nQ 594 497 594 1153 \r\nL 594 3053 \r\nL 172 3053 \r\nL 172 3500 \r\nL 594 3500 \r\nL 594 4494 \r\nL 1172 4494 \r\nz\r\n\" id=\"DejaVuSans-74\" transform=\"scale(0.015625)\"/>\r\n      </defs>\r\n      <use xlink:href=\"#DejaVuSans-50\"/>\r\n      <use x=\"58.552734\" xlink:href=\"#DejaVuSans-72\"/>\r\n      <use x=\"97.416016\" xlink:href=\"#DejaVuSans-6f\"/>\r\n      <use x=\"158.597656\" xlink:href=\"#DejaVuSans-66\"/>\r\n      <use x=\"193.802734\" xlink:href=\"#DejaVuSans-69\"/>\r\n      <use x=\"221.585938\" xlink:href=\"#DejaVuSans-74\"/>\r\n     </g>\r\n    </g>\r\n   </g>\r\n   <g id=\"matplotlib.axis_2\">\r\n    <g id=\"ytick_1\">\r\n     <g id=\"line2d_8\">\r\n      <defs>\r\n       <path d=\"M 0 0 \r\nL -3.5 0 \r\n\" id=\"m62f01bfbf1\" style=\"stroke:#000000;stroke-width:0.8;\"/>\r\n      </defs>\r\n      <g>\r\n       <use style=\"stroke:#000000;stroke-width:0.8;\" x=\"43.78125\" xlink:href=\"#m62f01bfbf1\" y=\"235.238438\"/>\r\n      </g>\r\n     </g>\r\n     <g id=\"text_9\">\r\n      <!-- 0.0 -->\r\n      <g transform=\"translate(20.878125 239.037656)scale(0.1 -0.1)\">\r\n       <defs>\r\n        <path d=\"M 684 794 \r\nL 1344 794 \r\nL 1344 0 \r\nL 684 0 \r\nL 684 794 \r\nz\r\n\" id=\"DejaVuSans-2e\" transform=\"scale(0.015625)\"/>\r\n       </defs>\r\n       <use xlink:href=\"#DejaVuSans-30\"/>\r\n       <use x=\"63.623047\" xlink:href=\"#DejaVuSans-2e\"/>\r\n       <use x=\"95.410156\" xlink:href=\"#DejaVuSans-30\"/>\r\n      </g>\r\n     </g>\r\n    </g>\r\n    <g id=\"ytick_2\">\r\n     <g id=\"line2d_9\">\r\n      <g>\r\n       <use style=\"stroke:#000000;stroke-width:0.8;\" x=\"43.78125\" xlink:href=\"#m62f01bfbf1\" y=\"200.215228\"/>\r\n      </g>\r\n     </g>\r\n     <g id=\"text_10\">\r\n      <!-- 0.2 -->\r\n      <g transform=\"translate(20.878125 204.014447)scale(0.1 -0.1)\">\r\n       <use xlink:href=\"#DejaVuSans-30\"/>\r\n       <use x=\"63.623047\" xlink:href=\"#DejaVuSans-2e\"/>\r\n       <use x=\"95.410156\" xlink:href=\"#DejaVuSans-32\"/>\r\n      </g>\r\n     </g>\r\n    </g>\r\n    <g id=\"ytick_3\">\r\n     <g id=\"line2d_10\">\r\n      <g>\r\n       <use style=\"stroke:#000000;stroke-width:0.8;\" x=\"43.78125\" xlink:href=\"#m62f01bfbf1\" y=\"165.192018\"/>\r\n      </g>\r\n     </g>\r\n     <g id=\"text_11\">\r\n      <!-- 0.4 -->\r\n      <g transform=\"translate(20.878125 168.991237)scale(0.1 -0.1)\">\r\n       <defs>\r\n        <path d=\"M 2419 4116 \r\nL 825 1625 \r\nL 2419 1625 \r\nL 2419 4116 \r\nz\r\nM 2253 4666 \r\nL 3047 4666 \r\nL 3047 1625 \r\nL 3713 1625 \r\nL 3713 1100 \r\nL 3047 1100 \r\nL 3047 0 \r\nL 2419 0 \r\nL 2419 1100 \r\nL 313 1100 \r\nL 313 1709 \r\nL 2253 4666 \r\nz\r\n\" id=\"DejaVuSans-34\" transform=\"scale(0.015625)\"/>\r\n       </defs>\r\n       <use xlink:href=\"#DejaVuSans-30\"/>\r\n       <use x=\"63.623047\" xlink:href=\"#DejaVuSans-2e\"/>\r\n       <use x=\"95.410156\" xlink:href=\"#DejaVuSans-34\"/>\r\n      </g>\r\n     </g>\r\n    </g>\r\n    <g id=\"ytick_4\">\r\n     <g id=\"line2d_11\">\r\n      <g>\r\n       <use style=\"stroke:#000000;stroke-width:0.8;\" x=\"43.78125\" xlink:href=\"#m62f01bfbf1\" y=\"130.168808\"/>\r\n      </g>\r\n     </g>\r\n     <g id=\"text_12\">\r\n      <!-- 0.6 -->\r\n      <g transform=\"translate(20.878125 133.968027)scale(0.1 -0.1)\">\r\n       <defs>\r\n        <path d=\"M 2113 2584 \r\nQ 1688 2584 1439 2293 \r\nQ 1191 2003 1191 1497 \r\nQ 1191 994 1439 701 \r\nQ 1688 409 2113 409 \r\nQ 2538 409 2786 701 \r\nQ 3034 994 3034 1497 \r\nQ 3034 2003 2786 2293 \r\nQ 2538 2584 2113 2584 \r\nz\r\nM 3366 4563 \r\nL 3366 3988 \r\nQ 3128 4100 2886 4159 \r\nQ 2644 4219 2406 4219 \r\nQ 1781 4219 1451 3797 \r\nQ 1122 3375 1075 2522 \r\nQ 1259 2794 1537 2939 \r\nQ 1816 3084 2150 3084 \r\nQ 2853 3084 3261 2657 \r\nQ 3669 2231 3669 1497 \r\nQ 3669 778 3244 343 \r\nQ 2819 -91 2113 -91 \r\nQ 1303 -91 875 529 \r\nQ 447 1150 447 2328 \r\nQ 447 3434 972 4092 \r\nQ 1497 4750 2381 4750 \r\nQ 2619 4750 2861 4703 \r\nQ 3103 4656 3366 4563 \r\nz\r\n\" id=\"DejaVuSans-36\" transform=\"scale(0.015625)\"/>\r\n       </defs>\r\n       <use xlink:href=\"#DejaVuSans-30\"/>\r\n       <use x=\"63.623047\" xlink:href=\"#DejaVuSans-2e\"/>\r\n       <use x=\"95.410156\" xlink:href=\"#DejaVuSans-36\"/>\r\n      </g>\r\n     </g>\r\n    </g>\r\n    <g id=\"ytick_5\">\r\n     <g id=\"line2d_12\">\r\n      <g>\r\n       <use style=\"stroke:#000000;stroke-width:0.8;\" x=\"43.78125\" xlink:href=\"#m62f01bfbf1\" y=\"95.145599\"/>\r\n      </g>\r\n     </g>\r\n     <g id=\"text_13\">\r\n      <!-- 0.8 -->\r\n      <g transform=\"translate(20.878125 98.944817)scale(0.1 -0.1)\">\r\n       <defs>\r\n        <path d=\"M 2034 2216 \r\nQ 1584 2216 1326 1975 \r\nQ 1069 1734 1069 1313 \r\nQ 1069 891 1326 650 \r\nQ 1584 409 2034 409 \r\nQ 2484 409 2743 651 \r\nQ 3003 894 3003 1313 \r\nQ 3003 1734 2745 1975 \r\nQ 2488 2216 2034 2216 \r\nz\r\nM 1403 2484 \r\nQ 997 2584 770 2862 \r\nQ 544 3141 544 3541 \r\nQ 544 4100 942 4425 \r\nQ 1341 4750 2034 4750 \r\nQ 2731 4750 3128 4425 \r\nQ 3525 4100 3525 3541 \r\nQ 3525 3141 3298 2862 \r\nQ 3072 2584 2669 2484 \r\nQ 3125 2378 3379 2068 \r\nQ 3634 1759 3634 1313 \r\nQ 3634 634 3220 271 \r\nQ 2806 -91 2034 -91 \r\nQ 1263 -91 848 271 \r\nQ 434 634 434 1313 \r\nQ 434 1759 690 2068 \r\nQ 947 2378 1403 2484 \r\nz\r\nM 1172 3481 \r\nQ 1172 3119 1398 2916 \r\nQ 1625 2713 2034 2713 \r\nQ 2441 2713 2670 2916 \r\nQ 2900 3119 2900 3481 \r\nQ 2900 3844 2670 4047 \r\nQ 2441 4250 2034 4250 \r\nQ 1625 4250 1398 4047 \r\nQ 1172 3844 1172 3481 \r\nz\r\n\" id=\"DejaVuSans-38\" transform=\"scale(0.015625)\"/>\r\n       </defs>\r\n       <use xlink:href=\"#DejaVuSans-30\"/>\r\n       <use x=\"63.623047\" xlink:href=\"#DejaVuSans-2e\"/>\r\n       <use x=\"95.410156\" xlink:href=\"#DejaVuSans-38\"/>\r\n      </g>\r\n     </g>\r\n    </g>\r\n    <g id=\"ytick_6\">\r\n     <g id=\"line2d_13\">\r\n      <g>\r\n       <use style=\"stroke:#000000;stroke-width:0.8;\" x=\"43.78125\" xlink:href=\"#m62f01bfbf1\" y=\"60.122389\"/>\r\n      </g>\r\n     </g>\r\n     <g id=\"text_14\">\r\n      <!-- 1.0 -->\r\n      <g transform=\"translate(20.878125 63.921608)scale(0.1 -0.1)\">\r\n       <use xlink:href=\"#DejaVuSans-31\"/>\r\n       <use x=\"63.623047\" xlink:href=\"#DejaVuSans-2e\"/>\r\n       <use x=\"95.410156\" xlink:href=\"#DejaVuSans-30\"/>\r\n      </g>\r\n     </g>\r\n    </g>\r\n    <g id=\"ytick_7\">\r\n     <g id=\"line2d_14\">\r\n      <g>\r\n       <use style=\"stroke:#000000;stroke-width:0.8;\" x=\"43.78125\" xlink:href=\"#m62f01bfbf1\" y=\"25.099179\"/>\r\n      </g>\r\n     </g>\r\n     <g id=\"text_15\">\r\n      <!-- 1.2 -->\r\n      <g transform=\"translate(20.878125 28.898398)scale(0.1 -0.1)\">\r\n       <use xlink:href=\"#DejaVuSans-31\"/>\r\n       <use x=\"63.623047\" xlink:href=\"#DejaVuSans-2e\"/>\r\n       <use x=\"95.410156\" xlink:href=\"#DejaVuSans-32\"/>\r\n      </g>\r\n     </g>\r\n    </g>\r\n    <g id=\"text_16\">\r\n     <!-- Density -->\r\n     <g transform=\"translate(14.798438 145.527031)rotate(-90)scale(0.1 -0.1)\">\r\n      <defs>\r\n       <path d=\"M 1259 4147 \r\nL 1259 519 \r\nL 2022 519 \r\nQ 2988 519 3436 956 \r\nQ 3884 1394 3884 2338 \r\nQ 3884 3275 3436 3711 \r\nQ 2988 4147 2022 4147 \r\nL 1259 4147 \r\nz\r\nM 628 4666 \r\nL 1925 4666 \r\nQ 3281 4666 3915 4102 \r\nQ 4550 3538 4550 2338 \r\nQ 4550 1131 3912 565 \r\nQ 3275 0 1925 0 \r\nL 628 0 \r\nL 628 4666 \r\nz\r\n\" id=\"DejaVuSans-44\" transform=\"scale(0.015625)\"/>\r\n       <path d=\"M 3597 1894 \r\nL 3597 1613 \r\nL 953 1613 \r\nQ 991 1019 1311 708 \r\nQ 1631 397 2203 397 \r\nQ 2534 397 2845 478 \r\nQ 3156 559 3463 722 \r\nL 3463 178 \r\nQ 3153 47 2828 -22 \r\nQ 2503 -91 2169 -91 \r\nQ 1331 -91 842 396 \r\nQ 353 884 353 1716 \r\nQ 353 2575 817 3079 \r\nQ 1281 3584 2069 3584 \r\nQ 2775 3584 3186 3129 \r\nQ 3597 2675 3597 1894 \r\nz\r\nM 3022 2063 \r\nQ 3016 2534 2758 2815 \r\nQ 2500 3097 2075 3097 \r\nQ 1594 3097 1305 2825 \r\nQ 1016 2553 972 2059 \r\nL 3022 2063 \r\nz\r\n\" id=\"DejaVuSans-65\" transform=\"scale(0.015625)\"/>\r\n       <path d=\"M 3513 2113 \r\nL 3513 0 \r\nL 2938 0 \r\nL 2938 2094 \r\nQ 2938 2591 2744 2837 \r\nQ 2550 3084 2163 3084 \r\nQ 1697 3084 1428 2787 \r\nQ 1159 2491 1159 1978 \r\nL 1159 0 \r\nL 581 0 \r\nL 581 3500 \r\nL 1159 3500 \r\nL 1159 2956 \r\nQ 1366 3272 1645 3428 \r\nQ 1925 3584 2291 3584 \r\nQ 2894 3584 3203 3211 \r\nQ 3513 2838 3513 2113 \r\nz\r\n\" id=\"DejaVuSans-6e\" transform=\"scale(0.015625)\"/>\r\n       <path d=\"M 2834 3397 \r\nL 2834 2853 \r\nQ 2591 2978 2328 3040 \r\nQ 2066 3103 1784 3103 \r\nQ 1356 3103 1142 2972 \r\nQ 928 2841 928 2578 \r\nQ 928 2378 1081 2264 \r\nQ 1234 2150 1697 2047 \r\nL 1894 2003 \r\nQ 2506 1872 2764 1633 \r\nQ 3022 1394 3022 966 \r\nQ 3022 478 2636 193 \r\nQ 2250 -91 1575 -91 \r\nQ 1294 -91 989 -36 \r\nQ 684 19 347 128 \r\nL 347 722 \r\nQ 666 556 975 473 \r\nQ 1284 391 1588 391 \r\nQ 1994 391 2212 530 \r\nQ 2431 669 2431 922 \r\nQ 2431 1156 2273 1281 \r\nQ 2116 1406 1581 1522 \r\nL 1381 1569 \r\nQ 847 1681 609 1914 \r\nQ 372 2147 372 2553 \r\nQ 372 3047 722 3315 \r\nQ 1072 3584 1716 3584 \r\nQ 2034 3584 2315 3537 \r\nQ 2597 3491 2834 3397 \r\nz\r\n\" id=\"DejaVuSans-73\" transform=\"scale(0.015625)\"/>\r\n       <path d=\"M 2059 -325 \r\nQ 1816 -950 1584 -1140 \r\nQ 1353 -1331 966 -1331 \r\nL 506 -1331 \r\nL 506 -850 \r\nL 844 -850 \r\nQ 1081 -850 1212 -737 \r\nQ 1344 -625 1503 -206 \r\nL 1606 56 \r\nL 191 3500 \r\nL 800 3500 \r\nL 1894 763 \r\nL 2988 3500 \r\nL 3597 3500 \r\nL 2059 -325 \r\nz\r\n\" id=\"DejaVuSans-79\" transform=\"scale(0.015625)\"/>\r\n      </defs>\r\n      <use xlink:href=\"#DejaVuSans-44\"/>\r\n      <use x=\"77.001953\" xlink:href=\"#DejaVuSans-65\"/>\r\n      <use x=\"138.525391\" xlink:href=\"#DejaVuSans-6e\"/>\r\n      <use x=\"201.904297\" xlink:href=\"#DejaVuSans-73\"/>\r\n      <use x=\"254.003906\" xlink:href=\"#DejaVuSans-69\"/>\r\n      <use x=\"281.787109\" xlink:href=\"#DejaVuSans-74\"/>\r\n      <use x=\"320.996094\" xlink:href=\"#DejaVuSans-79\"/>\r\n     </g>\r\n    </g>\r\n    <g id=\"text_17\">\r\n     <!-- 1e−5 -->\r\n     <g transform=\"translate(43.78125 14.798437)scale(0.1 -0.1)\">\r\n      <use xlink:href=\"#DejaVuSans-31\"/>\r\n      <use x=\"63.623047\" xlink:href=\"#DejaVuSans-65\"/>\r\n      <use x=\"125.146484\" xlink:href=\"#DejaVuSans-2212\"/>\r\n      <use x=\"208.935547\" xlink:href=\"#DejaVuSans-35\"/>\r\n     </g>\r\n    </g>\r\n   </g>\r\n   <g id=\"line2d_15\">\r\n    <path clip-path=\"url(#pe232db526c)\" d=\"M 58.999432 235.152445 \r\nL 68.176225 234.916791 \r\nL 74.294087 234.548918 \r\nL 78.882483 234.087617 \r\nL 83.47088 233.410511 \r\nL 88.059276 232.470001 \r\nL 92.647673 231.23071 \r\nL 97.23607 229.675909 \r\nL 101.824466 227.809086 \r\nL 106.412863 225.649273 \r\nL 111.001259 223.221396 \r\nL 115.589656 220.545152 \r\nL 120.178052 217.626279 \r\nL 124.766449 214.451993 \r\nL 129.354845 210.989243 \r\nL 133.943242 207.182597 \r\nL 137.002173 204.414487 \r\nL 140.061104 201.425784 \r\nL 143.120035 198.178244 \r\nL 146.178966 194.62809 \r\nL 149.237897 190.727965 \r\nL 152.296828 186.430033 \r\nL 155.355759 181.689943 \r\nL 158.41469 176.471113 \r\nL 161.473621 170.74876 \r\nL 164.532552 164.513177 \r\nL 167.591483 157.772099 \r\nL 170.650414 150.552321 \r\nL 175.238811 138.934185 \r\nL 179.827207 126.603701 \r\nL 190.533466 97.457599 \r\nL 193.592397 89.828749 \r\nL 196.651328 82.900783 \r\nL 198.180793 79.769034 \r\nL 199.710259 76.894029 \r\nL 201.239724 74.300074 \r\nL 202.76919 72.009037 \r\nL 204.298655 70.039776 \r\nL 205.828121 68.407608 \r\nL 207.357586 67.123858 \r\nL 208.887052 66.195503 \r\nL 210.416517 65.624929 \r\nL 211.945983 65.40982 \r\nL 213.475448 65.543178 \r\nL 215.004914 66.013485 \r\nL 216.534379 66.804994 \r\nL 218.063845 67.898153 \r\nL 219.59331 69.270126 \r\nL 221.122776 70.895417 \r\nL 222.652241 72.74655 \r\nL 225.711172 77.010922 \r\nL 228.770103 81.831652 \r\nL 233.3585 89.639091 \r\nL 242.535293 105.493762 \r\nL 250.18262 118.149149 \r\nL 257.829948 130.850119 \r\nL 263.94781 141.474707 \r\nL 274.654069 160.35284 \r\nL 277.713 165.406487 \r\nL 280.771931 170.146612 \r\nL 283.830862 174.520531 \r\nL 286.889793 178.513714 \r\nL 289.948724 182.152333 \r\nL 293.007655 185.498863 \r\nL 297.596051 190.167436 \r\nL 306.772844 199.382346 \r\nL 311.361241 204.308003 \r\nL 323.596965 217.760252 \r\nL 326.655896 220.797384 \r\nL 329.714827 223.557694 \r\nL 332.773758 225.995088 \r\nL 335.832689 228.086009 \r\nL 338.89162 229.828802 \r\nL 341.950551 231.240511 \r\nL 345.009482 232.352116 \r\nL 348.068413 233.203219 \r\nL 351.127344 233.837031 \r\nL 355.715741 234.472775 \r\nL 360.304137 234.842127 \r\nL 363.363068 234.990541 \r\nL 363.363068 234.990541 \r\n\" style=\"fill:none;stroke:#008000;stroke-linecap:square;stroke-width:1.5;\"/>\r\n   </g>\r\n   <g id=\"patch_10\">\r\n    <path d=\"M 43.78125 235.238438 \r\nL 43.78125 17.798437 \r\n\" style=\"fill:none;stroke:#000000;stroke-linecap:square;stroke-linejoin:miter;stroke-width:0.8;\"/>\r\n   </g>\r\n   <g id=\"patch_11\">\r\n    <path d=\"M 378.58125 235.238438 \r\nL 378.58125 17.798437 \r\n\" style=\"fill:none;stroke:#000000;stroke-linecap:square;stroke-linejoin:miter;stroke-width:0.8;\"/>\r\n   </g>\r\n   <g id=\"patch_12\">\r\n    <path d=\"M 43.78125 235.238438 \r\nL 378.58125 235.238438 \r\n\" style=\"fill:none;stroke:#000000;stroke-linecap:square;stroke-linejoin:miter;stroke-width:0.8;\"/>\r\n   </g>\r\n   <g id=\"patch_13\">\r\n    <path d=\"M 43.78125 17.798438 \r\nL 378.58125 17.798438 \r\n\" style=\"fill:none;stroke:#000000;stroke-linecap:square;stroke-linejoin:miter;stroke-width:0.8;\"/>\r\n   </g>\r\n  </g>\r\n </g>\r\n <defs>\r\n  <clipPath id=\"pe232db526c\">\r\n   <rect height=\"217.44\" width=\"334.8\" x=\"43.78125\" y=\"17.798438\"/>\r\n  </clipPath>\r\n </defs>\r\n</svg>\r\n",
      "image/png": "[encoded data removed]"
     },
     "metadata": {
      "needs_background": "light"
     }
    }
   ],
   "metadata": {
    "scrolled": true
   }
  },
  {
   "cell_type": "code",
   "execution_count": 106,
   "source": [
    "# set 'ID' to index\r\n",
    "train = train.set_index('ID')\r\n",
    "test = test.set_index('ID')"
   ],
   "outputs": [],
   "metadata": {}
  },
  {
   "cell_type": "markdown",
   "source": [
    "* ### Numerical and Categorical features\n",
    "#### List of Numerical and Categorical features"
   ],
   "metadata": {}
  },
  {
   "cell_type": "code",
   "execution_count": 107,
   "source": [
    "# check for Numerical and Categorical features in Train\r\n",
    "numerical_feats_train = train.dtypes[train.dtypes != 'object'].index\r\n",
    "print ('Quantity of Numerical features: ', len(numerical_feats_train))\r\n",
    "print ()\r\n",
    "print (train[numerical_feats_train].columns)\r\n",
    "print ()\r\n",
    "categorical_feats_train = train.dtypes[train.dtypes == 'object'].index\r\n",
    "print ('Quantity of Categorical features: ', len(categorical_feats_train))\r\n",
    "print ()\r\n",
    "print (train[categorical_feats_train].columns)"
   ],
   "outputs": [
    {
     "output_type": "stream",
     "name": "stdout",
     "text": [
      "Quantity of Numerical features:  4\n",
      "\n",
      "Index(['R&D Spend', 'Administration', 'Marketing Spend', 'Profit'], dtype='object')\n",
      "\n",
      "Quantity of Categorical features:  2\n",
      "\n",
      "Index(['State', 'Category'], dtype='object')\n"
     ]
    }
   ],
   "metadata": {
    "scrolled": true
   }
  },
  {
   "cell_type": "markdown",
   "source": [
    "* ### Missing values"
   ],
   "metadata": {}
  },
  {
   "cell_type": "markdown",
   "source": [
    "#### List of data features with missing values"
   ],
   "metadata": {}
  },
  {
   "cell_type": "code",
   "execution_count": 108,
   "source": [
    "# check the Train features with missing values \r\n",
    "nan_columns = [i for i in train.columns if train[i].isnull().any()]\r\n",
    "print(train.isnull().sum())\r\n",
    "print()\r\n",
    "print(\"There are \" + str(len(nan_columns)) +\" columns with NAN values for 50 rows.\")\r\n",
    "nan_columns"
   ],
   "outputs": [
    {
     "output_type": "stream",
     "name": "stdout",
     "text": [
      "R&D Spend          2\n",
      "Administration     0\n",
      "Marketing Spend    3\n",
      "State              0\n",
      "Category           1\n",
      "Profit             0\n",
      "dtype: int64\n",
      "\n",
      "There are 3 columns with NAN values for 50 rows.\n"
     ]
    },
    {
     "output_type": "execute_result",
     "data": {
      "text/plain": [
       "['R&D Spend', 'Marketing Spend', 'Category']"
      ]
     },
     "metadata": {},
     "execution_count": 108
    }
   ],
   "metadata": {
    "scrolled": true
   }
  },
  {
   "cell_type": "code",
   "execution_count": 109,
   "source": [
    "# check the Test features with missing values\r\n",
    "nan_columns = [i for i in test.columns if test[i].isnull().any()]\r\n",
    "print(test.isnull().sum())\r\n",
    "print()\r\n",
    "print(\"There are \" + str(len(nan_columns)) +\" columns with NAN values for 50 rows.\")\r\n",
    "nan_columns"
   ],
   "outputs": [
    {
     "output_type": "stream",
     "name": "stdout",
     "text": [
      "R&D Spend          2\n",
      "Administration     2\n",
      "Marketing Spend    0\n",
      "State              1\n",
      "Category           0\n",
      "dtype: int64\n",
      "\n",
      "There are 3 columns with NAN values for 50 rows.\n"
     ]
    },
    {
     "output_type": "execute_result",
     "data": {
      "text/plain": [
       "['R&D Spend', 'Administration', 'State']"
      ]
     },
     "metadata": {},
     "execution_count": 109
    }
   ],
   "metadata": {}
  },
  {
   "cell_type": "markdown",
   "source": [
    "#### Filling missing values"
   ],
   "metadata": {}
  },
  {
   "cell_type": "markdown",
   "source": [
    "Fields where NAN values have meaning.\n",
    "\n",
    "Explaining in further depth:\n",
    "\n",
    "* 'R&D Spend': Numerical - replacement of NAN by 'mean';\n",
    "* 'Administration': Numerical - replacement of NAN by 'mean';\n",
    "* 'Marketing Spend': Numerical - replacement of NAN by 'mean';\n",
    "* 'State': Categorical - replacement of NAN by 'None';\n",
    "* 'Category': Categorical - replacement of NAN by 'None'."
   ],
   "metadata": {}
  },
  {
   "cell_type": "code",
   "execution_count": 110,
   "source": [
    " # Numerical NAN columns to fill in Train and Test datasets\r\n",
    "nan_columns_fill = [\r\n",
    "    'R&D Spend',\r\n",
    "    'Administration',\r\n",
    "    'Marketing Spend'\r\n",
    "    ]\r\n",
    "\r\n",
    "# replace 'NAN' with 'mean' in these columns\r\n",
    "train.fillna(train.mean(), inplace = True)  \r\n",
    "test.fillna(test.mean(), inplace = True)\r\n",
    "\r\n",
    "\r\n",
    "# Categorical NAN columns to fill in Train and Test datasets\r\n",
    "na_columns_fill = [\r\n",
    "    'State', \r\n",
    "    'Category'\r\n",
    "    ]\r\n",
    "\r\n",
    "# replace 'NAN' with 'None' in these columns\r\n",
    "for col in na_columns_fill:\r\n",
    "    train[col].fillna('None', inplace=True)\r\n",
    "    test[col].fillna('None', inplace=True)\r\n"
   ],
   "outputs": [
    {
     "output_type": "stream",
     "name": "stderr",
     "text": [
      "C:\\Users\\golovkin\\AppData\\Local\\Temp/ipykernel_1680/1626683576.py:9: FutureWarning: Dropping of nuisance columns in DataFrame reductions (with 'numeric_only=None') is deprecated; in a future version this will raise TypeError.  Select only valid columns before calling the reduction.\n",
      "  train.fillna(train.mean(), inplace = True)\n",
      "C:\\Users\\golovkin\\AppData\\Local\\Temp/ipykernel_1680/1626683576.py:10: FutureWarning: Dropping of nuisance columns in DataFrame reductions (with 'numeric_only=None') is deprecated; in a future version this will raise TypeError.  Select only valid columns before calling the reduction.\n",
      "  test.fillna(test.mean(), inplace = True)\n"
     ]
    }
   ],
   "metadata": {}
  },
  {
   "cell_type": "code",
   "execution_count": 111,
   "source": [
    "# check is there any mising values left in Train\r\n",
    "train.isnull().sum().sum()"
   ],
   "outputs": [
    {
     "output_type": "execute_result",
     "data": {
      "text/plain": [
       "0"
      ]
     },
     "metadata": {},
     "execution_count": 111
    }
   ],
   "metadata": {}
  },
  {
   "cell_type": "code",
   "execution_count": 112,
   "source": [
    "# check is there any mising values left in Test\r\n",
    "test.isnull().sum().sum()"
   ],
   "outputs": [
    {
     "output_type": "execute_result",
     "data": {
      "text/plain": [
       "0"
      ]
     },
     "metadata": {},
     "execution_count": 112
    }
   ],
   "metadata": {}
  },
  {
   "cell_type": "markdown",
   "source": [
    "#### Visualisation  of Numerical features (regplot)"
   ],
   "metadata": {}
  },
  {
   "cell_type": "code",
   "execution_count": 113,
   "source": [
    "# numerical features visualisation\r\n",
    "nr_rows = 2\r\n",
    "nr_cols = 2\r\n",
    "\r\n",
    "fig, axs = plt.subplots(nr_rows, nr_cols, figsize=(nr_cols*3.5,nr_rows*3))\r\n",
    "\r\n",
    "num_feats = list(numerical_feats_train)\r\n",
    "not_plot = ['Id',  'Profit']\r\n",
    "plot_num_feats = [c for c in list(numerical_feats_train) if c not in not_plot]\r\n",
    "\r\n",
    "\r\n",
    "for r in range(0,nr_rows):\r\n",
    "    for c in range(0,nr_cols):  \r\n",
    "        i = r*nr_cols + c\r\n",
    "        if i < len(plot_num_feats):\r\n",
    "            sns.regplot(train[plot_num_feats[i]], train['Profit'], ax = axs[r][c], color = \"#5081ac\" )\r\n",
    "            stp = stats.pearsonr(train[plot_num_feats[i]], train['Profit'])\r\n",
    "          \r\n",
    "            str_title = \"r = \" + \"{0:.2f}\".format(stp[0]) + \"      \" \"p = \" + \"{0:.2f}\".format(stp[1])\r\n",
    "            axs[r][c].set_title(str_title, fontsize=11)\r\n",
    "\r\n",
    "\r\n",
    "\r\n",
    "plt.tight_layout()    \r\n",
    "plt.show()"
   ],
   "outputs": [
    {
     "output_type": "stream",
     "name": "stderr",
     "text": [
      "C:\\Users\\golovkin\\AppData\\Local\\Programs\\Python\\Python39\\lib\\site-packages\\seaborn\\_decorators.py:36: FutureWarning: Pass the following variables as keyword args: x, y. From version 0.12, the only valid positional argument will be `data`, and passing other arguments without an explicit keyword will result in an error or misinterpretation.\n",
      "  warnings.warn(\n",
      "C:\\Users\\golovkin\\AppData\\Local\\Programs\\Python\\Python39\\lib\\site-packages\\seaborn\\_decorators.py:36: FutureWarning: Pass the following variables as keyword args: x, y. From version 0.12, the only valid positional argument will be `data`, and passing other arguments without an explicit keyword will result in an error or misinterpretation.\n",
      "  warnings.warn(\n",
      "C:\\Users\\golovkin\\AppData\\Local\\Programs\\Python\\Python39\\lib\\site-packages\\seaborn\\_decorators.py:36: FutureWarning: Pass the following variables as keyword args: x, y. From version 0.12, the only valid positional argument will be `data`, and passing other arguments without an explicit keyword will result in an error or misinterpretation.\n",
      "  warnings.warn(\n"
     ]
    },
    {
     "output_type": "display_data",
     "data": {
      "text/plain": [
       "<Figure size 504x432 with 4 Axes>"
      ],
      "image/svg+xml": "<?xml version=\"1.0\" encoding=\"utf-8\" standalone=\"no\"?>\r\n<!DOCTYPE svg PUBLIC \"-//W3C//DTD SVG 1.1//EN\"\r\n  \"http://www.w3.org/Graphics/SVG/1.1/DTD/svg11.dtd\">\r\n<svg height=\"424.514531pt\" version=\"1.1\" viewBox=\"0 0 496.917187 424.514531\" width=\"496.917187pt\" xmlns=\"http://www.w3.org/2000/svg\" xmlns:xlink=\"http://www.w3.org/1999/xlink\">\r\n <metadata>\r\n  <rdf:RDF xmlns:cc=\"http://creativecommons.org/ns#\" xmlns:dc=\"http://purl.org/dc/elements/1.1/\" xmlns:rdf=\"http://www.w3.org/1999/02/22-rdf-syntax-ns#\">\r\n   <cc:Work>\r\n    <dc:type rdf:resource=\"http://purl.org/dc/dcmitype/StillImage\"/>\r\n    <dc:date>2021-08-06T16:35:20.915659</dc:date>\r\n    <dc:format>image/svg+xml</dc:format>\r\n    <dc:creator>\r\n     <cc:Agent>\r\n      <dc:title>Matplotlib v3.4.2, https://matplotlib.org/</dc:title>\r\n     </cc:Agent>\r\n    </dc:creator>\r\n   </cc:Work>\r\n  </rdf:RDF>\r\n </metadata>\r\n <defs>\r\n  <style type=\"text/css\">*{stroke-linecap:butt;stroke-linejoin:round;}</style>\r\n </defs>\r\n <g id=\"figure_1\">\r\n  <g id=\"patch_1\">\r\n   <path d=\"M 0 424.514531 \r\nL 496.917187 424.514531 \r\nL 496.917187 0 \r\nL 0 0 \r\nz\r\n\" style=\"fill:none;\"/>\r\n  </g>\r\n  <g id=\"axes_1\">\r\n   <g id=\"patch_2\">\r\n    <path d=\"M 66.053125 176.358281 \r\nL 237.964662 176.358281 \r\nL 237.964662 21.558281 \r\nL 66.053125 21.558281 \r\nz\r\n\" style=\"fill:#ffffff;\"/>\r\n   </g>\r\n   <g id=\"PathCollection_1\">\r\n    <defs>\r\n     <path d=\"M 0 3 \r\nC 0.795609 3 1.55874 2.683901 2.12132 2.12132 \r\nC 2.683901 1.55874 3 0.795609 3 0 \r\nC 3 -0.795609 2.683901 -1.55874 2.12132 -2.12132 \r\nC 1.55874 -2.683901 0.795609 -3 0 -3 \r\nC -0.795609 -3 -1.55874 -2.683901 -2.12132 -2.12132 \r\nC -2.683901 -1.55874 -3 -0.795609 -3 0 \r\nC -3 0.795609 -2.683901 1.55874 -2.12132 2.12132 \r\nC -1.55874 2.683901 -0.795609 3 0 3 \r\nz\r\n\" id=\"mbdc0ff6fef\" style=\"stroke:#5081ac;stroke-opacity:0.8;\"/>\r\n    </defs>\r\n    <g clip-path=\"url(#pd189d3ac5c)\">\r\n     <use style=\"fill:#5081ac;fill-opacity:0.8;stroke:#5081ac;stroke-opacity:0.8;\" x=\"237.964662\" xlink:href=\"#mbdc0ff6fef\" y=\"28.594645\"/>\r\n     <use style=\"fill:#5081ac;fill-opacity:0.8;stroke:#5081ac;stroke-opacity:0.8;\" x=\"235.094552\" xlink:href=\"#mbdc0ff6fef\" y=\"28.966924\"/>\r\n     <use style=\"fill:#5081ac;fill-opacity:0.8;stroke:#5081ac;stroke-opacity:0.8;\" x=\"225.543664\" xlink:href=\"#mbdc0ff6fef\" y=\"29.554675\"/>\r\n     <use style=\"fill:#5081ac;fill-opacity:0.8;stroke:#5081ac;stroke-opacity:0.8;\" x=\"216.083619\" xlink:href=\"#mbdc0ff6fef\" y=\"36.012043\"/>\r\n     <use style=\"fill:#5081ac;fill-opacity:0.8;stroke:#5081ac;stroke-opacity:0.8;\" x=\"213.720908\" xlink:href=\"#mbdc0ff6fef\" y=\"49.257437\"/>\r\n     <use style=\"fill:#5081ac;fill-opacity:0.8;stroke:#5081ac;stroke-opacity:0.8;\" x=\"203.049462\" xlink:href=\"#mbdc0ff6fef\" y=\"56.545646\"/>\r\n     <use style=\"fill:#5081ac;fill-opacity:0.8;stroke:#5081ac;stroke-opacity:0.8;\" x=\"205.906074\" xlink:href=\"#mbdc0ff6fef\" y=\"57.233994\"/>\r\n     <use style=\"fill:#5081ac;fill-opacity:0.8;stroke:#5081ac;stroke-opacity:0.8;\" x=\"201.402636\" xlink:href=\"#mbdc0ff6fef\" y=\"57.527137\"/>\r\n     <use style=\"fill:#5081ac;fill-opacity:0.8;stroke:#5081ac;stroke-opacity:0.8;\" x=\"191.226488\" xlink:href=\"#mbdc0ff6fef\" y=\"60.333141\"/>\r\n     <use style=\"fill:#5081ac;fill-opacity:0.8;stroke:#5081ac;stroke-opacity:0.8;\" x=\"194.139219\" xlink:href=\"#mbdc0ff6fef\" y=\"62.276128\"/>\r\n     <use style=\"fill:#5081ac;fill-opacity:0.8;stroke:#5081ac;stroke-opacity:0.8;\" x=\"171.793984\" xlink:href=\"#mbdc0ff6fef\" y=\"65.159144\"/>\r\n     <use style=\"fill:#5081ac;fill-opacity:0.8;stroke:#5081ac;stroke-opacity:0.8;\" x=\"170.499362\" xlink:href=\"#mbdc0ff6fef\" y=\"66.63516\"/>\r\n     <use style=\"fill:#5081ac;fill-opacity:0.8;stroke:#5081ac;stroke-opacity:0.8;\" x=\"163.397669\" xlink:href=\"#mbdc0ff6fef\" y=\"68.754131\"/>\r\n     <use style=\"fill:#5081ac;fill-opacity:0.8;stroke:#5081ac;stroke-opacity:0.8;\" x=\"161.44564\" xlink:href=\"#mbdc0ff6fef\" y=\"74.521867\"/>\r\n     <use style=\"fill:#5081ac;fill-opacity:0.8;stroke:#5081ac;stroke-opacity:0.8;\" x=\"190.601375\" xlink:href=\"#mbdc0ff6fef\" y=\"75.872792\"/>\r\n     <use style=\"fill:#5081ac;fill-opacity:0.8;stroke:#5081ac;stroke-opacity:0.8;\" x=\"184.948119\" xlink:href=\"#mbdc0ff6fef\" y=\"78.001059\"/>\r\n     <use style=\"fill:#5081ac;fill-opacity:0.8;stroke:#5081ac;stroke-opacity:0.8;\" x=\"146.863751\" xlink:href=\"#mbdc0ff6fef\" y=\"80.31833\"/>\r\n     <use style=\"fill:#5081ac;fill-opacity:0.8;stroke:#5081ac;stroke-opacity:0.8;\" x=\"164.225281\" xlink:href=\"#mbdc0ff6fef\" y=\"81.604161\"/>\r\n     <use style=\"fill:#5081ac;fill-opacity:0.8;stroke:#5081ac;stroke-opacity:0.8;\" x=\"161.191925\" xlink:href=\"#mbdc0ff6fef\" y=\"82.478629\"/>\r\n     <use style=\"fill:#5081ac;fill-opacity:0.8;stroke:#5081ac;stroke-opacity:0.8;\" x=\"155.632726\" xlink:href=\"#mbdc0ff6fef\" y=\"83.659442\"/>\r\n     <use style=\"fill:#5081ac;fill-opacity:0.8;stroke:#5081ac;stroke-opacity:0.8;\" x=\"145.028665\" xlink:href=\"#mbdc0ff6fef\" y=\"87.069308\"/>\r\n     <use style=\"fill:#5081ac;fill-opacity:0.8;stroke:#5081ac;stroke-opacity:0.8;\" x=\"147.256335\" xlink:href=\"#mbdc0ff6fef\" y=\"92.744198\"/>\r\n     <use style=\"fill:#5081ac;fill-opacity:0.8;stroke:#5081ac;stroke-opacity:0.8;\" x=\"142.671972\" xlink:href=\"#mbdc0ff6fef\" y=\"93.50558\"/>\r\n     <use style=\"fill:#5081ac;fill-opacity:0.8;stroke:#5081ac;stroke-opacity:0.8;\" x=\"135.931382\" xlink:href=\"#mbdc0ff6fef\" y=\"94.788004\"/>\r\n     <use style=\"fill:#5081ac;fill-opacity:0.8;stroke:#5081ac;stroke-opacity:0.8;\" x=\"145.852876\" xlink:href=\"#mbdc0ff6fef\" y=\"94.932194\"/>\r\n     <use style=\"fill:#5081ac;fill-opacity:0.8;stroke:#5081ac;stroke-opacity:0.8;\" x=\"132.939938\" xlink:href=\"#mbdc0ff6fef\" y=\"95.841712\"/>\r\n     <use style=\"fill:#5081ac;fill-opacity:0.8;stroke:#5081ac;stroke-opacity:0.8;\" x=\"144.063801\" xlink:href=\"#mbdc0ff6fef\" y=\"97.165772\"/>\r\n     <use style=\"fill:#5081ac;fill-opacity:0.8;stroke:#5081ac;stroke-opacity:0.8;\" x=\"140.703671\" xlink:href=\"#mbdc0ff6fef\" y=\"97.740496\"/>\r\n     <use style=\"fill:#5081ac;fill-opacity:0.8;stroke:#5081ac;stroke-opacity:0.8;\" x=\"134.38653\" xlink:href=\"#mbdc0ff6fef\" y=\"99.108244\"/>\r\n     <use style=\"fill:#5081ac;fill-opacity:0.8;stroke:#5081ac;stroke-opacity:0.8;\" x=\"133.921262\" xlink:href=\"#mbdc0ff6fef\" y=\"100.913286\"/>\r\n     <use style=\"fill:#5081ac;fill-opacity:0.8;stroke:#5081ac;stroke-opacity:0.8;\" x=\"130.154602\" xlink:href=\"#mbdc0ff6fef\" y=\"101.758892\"/>\r\n     <use style=\"fill:#5081ac;fill-opacity:0.8;stroke:#5081ac;stroke-opacity:0.8;\" x=\"129.259511\" xlink:href=\"#mbdc0ff6fef\" y=\"103.703639\"/>\r\n     <use style=\"fill:#5081ac;fill-opacity:0.8;stroke:#5081ac;stroke-opacity:0.8;\" x=\"131.629952\" xlink:href=\"#mbdc0ff6fef\" y=\"103.747795\"/>\r\n     <use style=\"fill:#5081ac;fill-opacity:0.8;stroke:#5081ac;stroke-opacity:0.8;\" x=\"123.373851\" xlink:href=\"#mbdc0ff6fef\" y=\"104.262045\"/>\r\n     <use style=\"fill:#5081ac;fill-opacity:0.8;stroke:#5081ac;stroke-opacity:0.8;\" x=\"113.91508\" xlink:href=\"#mbdc0ff6fef\" y=\"104.314444\"/>\r\n     <use style=\"fill:#5081ac;fill-opacity:0.8;stroke:#5081ac;stroke-opacity:0.8;\" x=\"113.485268\" xlink:href=\"#mbdc0ff6fef\" y=\"104.499319\"/>\r\n     <use style=\"fill:#5081ac;fill-opacity:0.8;stroke:#5081ac;stroke-opacity:0.8;\" x=\"95.387085\" xlink:href=\"#mbdc0ff6fef\" y=\"109.072921\"/>\r\n     <use style=\"fill:#5081ac;fill-opacity:0.8;stroke:#5081ac;stroke-opacity:0.8;\" x=\"111.457394\" xlink:href=\"#mbdc0ff6fef\" y=\"109.674445\"/>\r\n     <use style=\"fill:#5081ac;fill-opacity:0.8;stroke:#5081ac;stroke-opacity:0.8;\" x=\"86.589341\" xlink:href=\"#mbdc0ff6fef\" y=\"116.584853\"/>\r\n     <use style=\"fill:#5081ac;fill-opacity:0.8;stroke:#5081ac;stroke-opacity:0.8;\" x=\"105.708371\" xlink:href=\"#mbdc0ff6fef\" y=\"116.761811\"/>\r\n     <use style=\"fill:#5081ac;fill-opacity:0.8;stroke:#5081ac;stroke-opacity:0.8;\" x=\"95.481559\" xlink:href=\"#mbdc0ff6fef\" y=\"118.953666\"/>\r\n     <use style=\"fill:#5081ac;fill-opacity:0.8;stroke:#5081ac;stroke-opacity:0.8;\" x=\"94.583016\" xlink:href=\"#mbdc0ff6fef\" y=\"119.303209\"/>\r\n     <use style=\"fill:#5081ac;fill-opacity:0.8;stroke:#5081ac;stroke-opacity:0.8;\" x=\"90.147735\" xlink:href=\"#mbdc0ff6fef\" y=\"124.296043\"/>\r\n     <use style=\"fill:#5081ac;fill-opacity:0.8;stroke:#5081ac;stroke-opacity:0.8;\" x=\"81.661848\" xlink:href=\"#mbdc0ff6fef\" y=\"125.674554\"/>\r\n     <use style=\"fill:#5081ac;fill-opacity:0.8;stroke:#5081ac;stroke-opacity:0.8;\" x=\"88.621471\" xlink:href=\"#mbdc0ff6fef\" y=\"129.28715\"/>\r\n     <use style=\"fill:#5081ac;fill-opacity:0.8;stroke:#5081ac;stroke-opacity:0.8;\" x=\"66.531056\" xlink:href=\"#mbdc0ff6fef\" y=\"129.504485\"/>\r\n     <use style=\"fill:#5081ac;fill-opacity:0.8;stroke:#5081ac;stroke-opacity:0.8;\" x=\"66.859875\" xlink:href=\"#mbdc0ff6fef\" y=\"141.736531\"/>\r\n     <use style=\"fill:#5081ac;fill-opacity:0.8;stroke:#5081ac;stroke-opacity:0.8;\" x=\"145.59141\" xlink:href=\"#mbdc0ff6fef\" y=\"147.22916\"/>\r\n     <use style=\"fill:#5081ac;fill-opacity:0.8;stroke:#5081ac;stroke-opacity:0.8;\" x=\"66.053125\" xlink:href=\"#mbdc0ff6fef\" y=\"152.686367\"/>\r\n     <use style=\"fill:#5081ac;fill-opacity:0.8;stroke:#5081ac;stroke-opacity:0.8;\" x=\"145.59141\" xlink:href=\"#mbdc0ff6fef\" y=\"169.321918\"/>\r\n    </g>\r\n   </g>\r\n   <g id=\"PolyCollection_1\">\r\n    <path clip-path=\"url(#pd189d3ac5c)\" d=\"M 66.053125 136.791367 \r\nL 66.053125 148.078651 \r\nL 67.789605 146.93041 \r\nL 69.526085 145.789106 \r\nL 71.262566 144.645253 \r\nL 72.999046 143.501401 \r\nL 74.735526 142.357548 \r\nL 76.472006 141.213696 \r\nL 78.208486 140.069843 \r\nL 79.944966 138.925125 \r\nL 81.681447 137.778967 \r\nL 83.417927 136.700787 \r\nL 85.154407 135.57697 \r\nL 86.890887 134.384431 \r\nL 88.627367 133.202018 \r\nL 90.363847 132.058918 \r\nL 92.100328 130.922932 \r\nL 93.836808 129.797592 \r\nL 95.573288 128.763076 \r\nL 97.309768 127.688749 \r\nL 99.046248 126.487084 \r\nL 100.782728 125.297181 \r\nL 102.519209 124.154701 \r\nL 104.255689 123.049466 \r\nL 105.992169 121.928198 \r\nL 107.728649 120.859403 \r\nL 109.465129 119.797229 \r\nL 111.201609 118.735055 \r\nL 112.93809 117.61893 \r\nL 114.67457 116.507486 \r\nL 116.41105 115.382252 \r\nL 118.14753 114.254884 \r\nL 119.88401 113.194461 \r\nL 121.62049 112.016922 \r\nL 123.356971 110.895326 \r\nL 125.093451 109.842477 \r\nL 126.829931 108.740014 \r\nL 128.566411 107.611555 \r\nL 130.302891 106.516645 \r\nL 132.039371 105.531182 \r\nL 133.775852 104.355367 \r\nL 135.512332 103.177668 \r\nL 137.248812 102.031049 \r\nL 138.985292 101.103308 \r\nL 140.721772 99.989403 \r\nL 142.458252 98.847739 \r\nL 144.194733 97.887958 \r\nL 145.931213 96.8643 \r\nL 147.667693 95.749419 \r\nL 149.404173 94.631718 \r\nL 151.140653 93.559243 \r\nL 152.877133 92.509083 \r\nL 154.613614 91.496592 \r\nL 156.350094 90.466496 \r\nL 158.086574 89.430031 \r\nL 159.823054 88.398221 \r\nL 161.559534 87.382158 \r\nL 163.296014 86.326879 \r\nL 165.032495 85.19745 \r\nL 166.768975 84.139628 \r\nL 168.505455 83.013196 \r\nL 170.241935 81.930059 \r\nL 171.978415 80.918763 \r\nL 173.714895 79.907778 \r\nL 175.451376 78.898793 \r\nL 177.187856 77.889442 \r\nL 178.924336 76.879287 \r\nL 180.660816 75.835366 \r\nL 182.397296 74.814335 \r\nL 184.133776 73.805923 \r\nL 185.870257 72.773085 \r\nL 187.606737 71.740024 \r\nL 189.343217 70.706963 \r\nL 191.079697 69.673902 \r\nL 192.816177 68.640547 \r\nL 194.552657 67.606925 \r\nL 196.289138 66.591555 \r\nL 198.025618 65.624294 \r\nL 199.762098 64.657032 \r\nL 201.498578 63.603935 \r\nL 203.235058 62.598987 \r\nL 204.971538 61.568774 \r\nL 206.708019 60.540674 \r\nL 208.444499 59.548425 \r\nL 210.180979 58.554838 \r\nL 211.917459 57.56072 \r\nL 213.653939 56.514039 \r\nL 215.390419 55.487376 \r\nL 217.1269 54.488941 \r\nL 218.86338 53.489957 \r\nL 220.59986 52.490974 \r\nL 222.33634 51.491991 \r\nL 224.07282 50.471596 \r\nL 225.8093 49.447107 \r\nL 227.545781 48.422478 \r\nL 229.282261 47.397849 \r\nL 231.018741 46.373219 \r\nL 232.755221 45.34859 \r\nL 234.491701 44.323961 \r\nL 236.228181 43.340351 \r\nL 237.964662 42.370332 \r\nL 237.964662 29.431439 \r\nL 237.964662 29.431439 \r\nL 236.228181 30.565597 \r\nL 234.491701 31.699756 \r\nL 232.755221 32.833914 \r\nL 231.018741 33.968072 \r\nL 229.282261 35.10223 \r\nL 227.545781 36.235743 \r\nL 225.8093 37.37967 \r\nL 224.07282 38.508981 \r\nL 222.33634 39.638293 \r\nL 220.59986 40.791539 \r\nL 218.86338 41.900805 \r\nL 217.1269 43.033665 \r\nL 215.390419 44.166525 \r\nL 213.653939 45.273743 \r\nL 211.917459 46.40081 \r\nL 210.180979 47.500845 \r\nL 208.444499 48.597363 \r\nL 206.708019 49.693881 \r\nL 204.971538 50.790718 \r\nL 203.235058 51.887891 \r\nL 201.498578 52.985063 \r\nL 199.762098 54.09144 \r\nL 198.025618 55.208197 \r\nL 196.289138 56.314869 \r\nL 194.552657 57.427004 \r\nL 192.816177 58.557783 \r\nL 191.079697 59.674775 \r\nL 189.343217 60.792683 \r\nL 187.606737 61.915231 \r\nL 185.870257 63.031035 \r\nL 184.133776 64.144201 \r\nL 182.397296 65.233048 \r\nL 180.660816 66.315725 \r\nL 178.924336 67.447547 \r\nL 177.187856 68.551286 \r\nL 175.451376 69.638664 \r\nL 173.714895 70.74591 \r\nL 171.978415 71.87552 \r\nL 170.241935 73.006724 \r\nL 168.505455 74.145718 \r\nL 166.768975 75.283871 \r\nL 165.032495 76.372367 \r\nL 163.296014 77.440645 \r\nL 161.559534 78.52761 \r\nL 159.823054 79.654197 \r\nL 158.086574 80.781088 \r\nL 156.350094 81.886048 \r\nL 154.613614 82.957107 \r\nL 152.877133 84.032301 \r\nL 151.140653 85.082265 \r\nL 149.404173 86.1445 \r\nL 147.667693 87.238673 \r\nL 145.931213 88.284286 \r\nL 144.194733 89.359704 \r\nL 142.458252 90.442463 \r\nL 140.721772 91.520283 \r\nL 138.985292 92.582019 \r\nL 137.248812 93.644228 \r\nL 135.512332 94.680722 \r\nL 133.775852 95.754597 \r\nL 132.039371 96.795708 \r\nL 130.302891 97.880901 \r\nL 128.566411 98.950105 \r\nL 126.829931 100.011644 \r\nL 125.093451 101.074876 \r\nL 123.356971 102.191717 \r\nL 121.62049 103.265894 \r\nL 119.88401 104.307075 \r\nL 118.14753 105.348282 \r\nL 116.41105 106.43871 \r\nL 114.67457 107.448644 \r\nL 112.93809 108.531349 \r\nL 111.201609 109.606206 \r\nL 109.465129 110.689104 \r\nL 107.728649 111.782213 \r\nL 105.992169 112.853534 \r\nL 104.255689 113.904781 \r\nL 102.519209 114.95984 \r\nL 100.782728 116.035347 \r\nL 99.046248 117.068418 \r\nL 97.309768 118.086159 \r\nL 95.573288 119.120902 \r\nL 93.836808 120.181821 \r\nL 92.100328 121.243046 \r\nL 90.363847 122.244679 \r\nL 88.627367 123.288661 \r\nL 86.890887 124.345513 \r\nL 85.154407 125.41991 \r\nL 83.417927 126.494307 \r\nL 81.681447 127.532633 \r\nL 79.944966 128.52117 \r\nL 78.208486 129.55284 \r\nL 76.472006 130.588123 \r\nL 74.735526 131.597256 \r\nL 72.999046 132.607123 \r\nL 71.262566 133.629774 \r\nL 69.526085 134.683214 \r\nL 67.789605 135.736675 \r\nL 66.053125 136.791367 \r\nz\r\n\" style=\"fill:#5081ac;fill-opacity:0.15;\"/>\r\n   </g>\r\n   <g id=\"matplotlib.axis_1\">\r\n    <g id=\"xtick_1\">\r\n     <g id=\"line2d_1\">\r\n      <defs>\r\n       <path d=\"M 0 0 \r\nL 0 3.5 \r\n\" id=\"m148714ce42\" style=\"stroke:#000000;stroke-width:0.8;\"/>\r\n      </defs>\r\n      <g>\r\n       <use style=\"stroke:#000000;stroke-width:0.8;\" x=\"117.643072\" xlink:href=\"#m148714ce42\" y=\"176.358281\"/>\r\n      </g>\r\n     </g>\r\n     <g id=\"text_1\">\r\n      <!-- 50000 -->\r\n      <g transform=\"translate(101.736822 190.956719)scale(0.1 -0.1)\">\r\n       <defs>\r\n        <path d=\"M 691 4666 \r\nL 3169 4666 \r\nL 3169 4134 \r\nL 1269 4134 \r\nL 1269 2991 \r\nQ 1406 3038 1543 3061 \r\nQ 1681 3084 1819 3084 \r\nQ 2600 3084 3056 2656 \r\nQ 3513 2228 3513 1497 \r\nQ 3513 744 3044 326 \r\nQ 2575 -91 1722 -91 \r\nQ 1428 -91 1123 -41 \r\nQ 819 9 494 109 \r\nL 494 744 \r\nQ 775 591 1075 516 \r\nQ 1375 441 1709 441 \r\nQ 2250 441 2565 725 \r\nQ 2881 1009 2881 1497 \r\nQ 2881 1984 2565 2268 \r\nQ 2250 2553 1709 2553 \r\nQ 1456 2553 1204 2497 \r\nQ 953 2441 691 2322 \r\nL 691 4666 \r\nz\r\n\" id=\"DejaVuSans-35\" transform=\"scale(0.015625)\"/>\r\n        <path d=\"M 2034 4250 \r\nQ 1547 4250 1301 3770 \r\nQ 1056 3291 1056 2328 \r\nQ 1056 1369 1301 889 \r\nQ 1547 409 2034 409 \r\nQ 2525 409 2770 889 \r\nQ 3016 1369 3016 2328 \r\nQ 3016 3291 2770 3770 \r\nQ 2525 4250 2034 4250 \r\nz\r\nM 2034 4750 \r\nQ 2819 4750 3233 4129 \r\nQ 3647 3509 3647 2328 \r\nQ 3647 1150 3233 529 \r\nQ 2819 -91 2034 -91 \r\nQ 1250 -91 836 529 \r\nQ 422 1150 422 2328 \r\nQ 422 3509 836 4129 \r\nQ 1250 4750 2034 4750 \r\nz\r\n\" id=\"DejaVuSans-30\" transform=\"scale(0.015625)\"/>\r\n       </defs>\r\n       <use xlink:href=\"#DejaVuSans-35\"/>\r\n       <use x=\"63.623047\" xlink:href=\"#DejaVuSans-30\"/>\r\n       <use x=\"127.246094\" xlink:href=\"#DejaVuSans-30\"/>\r\n       <use x=\"190.869141\" xlink:href=\"#DejaVuSans-30\"/>\r\n       <use x=\"254.492188\" xlink:href=\"#DejaVuSans-30\"/>\r\n      </g>\r\n     </g>\r\n    </g>\r\n    <g id=\"xtick_2\">\r\n     <g id=\"line2d_2\">\r\n      <g>\r\n       <use style=\"stroke:#000000;stroke-width:0.8;\" x=\"169.798436\" xlink:href=\"#m148714ce42\" y=\"176.358281\"/>\r\n      </g>\r\n     </g>\r\n     <g id=\"text_2\">\r\n      <!-- 100000 -->\r\n      <g transform=\"translate(150.710936 190.956719)scale(0.1 -0.1)\">\r\n       <defs>\r\n        <path d=\"M 794 531 \r\nL 1825 531 \r\nL 1825 4091 \r\nL 703 3866 \r\nL 703 4441 \r\nL 1819 4666 \r\nL 2450 4666 \r\nL 2450 531 \r\nL 3481 531 \r\nL 3481 0 \r\nL 794 0 \r\nL 794 531 \r\nz\r\n\" id=\"DejaVuSans-31\" transform=\"scale(0.015625)\"/>\r\n       </defs>\r\n       <use xlink:href=\"#DejaVuSans-31\"/>\r\n       <use x=\"63.623047\" xlink:href=\"#DejaVuSans-30\"/>\r\n       <use x=\"127.246094\" xlink:href=\"#DejaVuSans-30\"/>\r\n       <use x=\"190.869141\" xlink:href=\"#DejaVuSans-30\"/>\r\n       <use x=\"254.492188\" xlink:href=\"#DejaVuSans-30\"/>\r\n       <use x=\"318.115234\" xlink:href=\"#DejaVuSans-30\"/>\r\n      </g>\r\n     </g>\r\n    </g>\r\n    <g id=\"xtick_3\">\r\n     <g id=\"line2d_3\">\r\n      <g>\r\n       <use style=\"stroke:#000000;stroke-width:0.8;\" x=\"221.953799\" xlink:href=\"#m148714ce42\" y=\"176.358281\"/>\r\n      </g>\r\n     </g>\r\n     <g id=\"text_3\">\r\n      <!-- 150000 -->\r\n      <g transform=\"translate(202.866299 190.956719)scale(0.1 -0.1)\">\r\n       <use xlink:href=\"#DejaVuSans-31\"/>\r\n       <use x=\"63.623047\" xlink:href=\"#DejaVuSans-35\"/>\r\n       <use x=\"127.246094\" xlink:href=\"#DejaVuSans-30\"/>\r\n       <use x=\"190.869141\" xlink:href=\"#DejaVuSans-30\"/>\r\n       <use x=\"254.492188\" xlink:href=\"#DejaVuSans-30\"/>\r\n       <use x=\"318.115234\" xlink:href=\"#DejaVuSans-30\"/>\r\n      </g>\r\n     </g>\r\n    </g>\r\n    <g id=\"text_4\">\r\n     <!-- R&amp;D Spend -->\r\n     <g transform=\"translate(123.428425 204.634844)scale(0.1 -0.1)\">\r\n      <defs>\r\n       <path d=\"M 2841 2188 \r\nQ 3044 2119 3236 1894 \r\nQ 3428 1669 3622 1275 \r\nL 4263 0 \r\nL 3584 0 \r\nL 2988 1197 \r\nQ 2756 1666 2539 1819 \r\nQ 2322 1972 1947 1972 \r\nL 1259 1972 \r\nL 1259 0 \r\nL 628 0 \r\nL 628 4666 \r\nL 2053 4666 \r\nQ 2853 4666 3247 4331 \r\nQ 3641 3997 3641 3322 \r\nQ 3641 2881 3436 2590 \r\nQ 3231 2300 2841 2188 \r\nz\r\nM 1259 4147 \r\nL 1259 2491 \r\nL 2053 2491 \r\nQ 2509 2491 2742 2702 \r\nQ 2975 2913 2975 3322 \r\nQ 2975 3731 2742 3939 \r\nQ 2509 4147 2053 4147 \r\nL 1259 4147 \r\nz\r\n\" id=\"DejaVuSans-52\" transform=\"scale(0.015625)\"/>\r\n       <path d=\"M 1556 2509 \r\nQ 1272 2256 1139 2004 \r\nQ 1006 1753 1006 1478 \r\nQ 1006 1022 1337 719 \r\nQ 1669 416 2169 416 \r\nQ 2466 416 2725 514 \r\nQ 2984 613 3213 813 \r\nL 1556 2509 \r\nz\r\nM 1997 2859 \r\nL 3584 1234 \r\nQ 3769 1513 3872 1830 \r\nQ 3975 2147 3994 2503 \r\nL 4575 2503 \r\nQ 4538 2091 4375 1687 \r\nQ 4213 1284 3922 891 \r\nL 4794 0 \r\nL 4006 0 \r\nL 3559 459 \r\nQ 3234 181 2878 45 \r\nQ 2522 -91 2113 -91 \r\nQ 1359 -91 881 339 \r\nQ 403 769 403 1441 \r\nQ 403 1841 612 2192 \r\nQ 822 2544 1241 2853 \r\nQ 1091 3050 1012 3245 \r\nQ 934 3441 934 3628 \r\nQ 934 4134 1281 4442 \r\nQ 1628 4750 2203 4750 \r\nQ 2463 4750 2720 4694 \r\nQ 2978 4638 3244 4525 \r\nL 3244 3956 \r\nQ 2972 4103 2725 4179 \r\nQ 2478 4256 2266 4256 \r\nQ 1938 4256 1733 4082 \r\nQ 1528 3909 1528 3634 \r\nQ 1528 3475 1620 3314 \r\nQ 1713 3153 1997 2859 \r\nz\r\n\" id=\"DejaVuSans-26\" transform=\"scale(0.015625)\"/>\r\n       <path d=\"M 1259 4147 \r\nL 1259 519 \r\nL 2022 519 \r\nQ 2988 519 3436 956 \r\nQ 3884 1394 3884 2338 \r\nQ 3884 3275 3436 3711 \r\nQ 2988 4147 2022 4147 \r\nL 1259 4147 \r\nz\r\nM 628 4666 \r\nL 1925 4666 \r\nQ 3281 4666 3915 4102 \r\nQ 4550 3538 4550 2338 \r\nQ 4550 1131 3912 565 \r\nQ 3275 0 1925 0 \r\nL 628 0 \r\nL 628 4666 \r\nz\r\n\" id=\"DejaVuSans-44\" transform=\"scale(0.015625)\"/>\r\n       <path id=\"DejaVuSans-20\" transform=\"scale(0.015625)\"/>\r\n       <path d=\"M 3425 4513 \r\nL 3425 3897 \r\nQ 3066 4069 2747 4153 \r\nQ 2428 4238 2131 4238 \r\nQ 1616 4238 1336 4038 \r\nQ 1056 3838 1056 3469 \r\nQ 1056 3159 1242 3001 \r\nQ 1428 2844 1947 2747 \r\nL 2328 2669 \r\nQ 3034 2534 3370 2195 \r\nQ 3706 1856 3706 1288 \r\nQ 3706 609 3251 259 \r\nQ 2797 -91 1919 -91 \r\nQ 1588 -91 1214 -16 \r\nQ 841 59 441 206 \r\nL 441 856 \r\nQ 825 641 1194 531 \r\nQ 1563 422 1919 422 \r\nQ 2459 422 2753 634 \r\nQ 3047 847 3047 1241 \r\nQ 3047 1584 2836 1778 \r\nQ 2625 1972 2144 2069 \r\nL 1759 2144 \r\nQ 1053 2284 737 2584 \r\nQ 422 2884 422 3419 \r\nQ 422 4038 858 4394 \r\nQ 1294 4750 2059 4750 \r\nQ 2388 4750 2728 4690 \r\nQ 3069 4631 3425 4513 \r\nz\r\n\" id=\"DejaVuSans-53\" transform=\"scale(0.015625)\"/>\r\n       <path d=\"M 1159 525 \r\nL 1159 -1331 \r\nL 581 -1331 \r\nL 581 3500 \r\nL 1159 3500 \r\nL 1159 2969 \r\nQ 1341 3281 1617 3432 \r\nQ 1894 3584 2278 3584 \r\nQ 2916 3584 3314 3078 \r\nQ 3713 2572 3713 1747 \r\nQ 3713 922 3314 415 \r\nQ 2916 -91 2278 -91 \r\nQ 1894 -91 1617 61 \r\nQ 1341 213 1159 525 \r\nz\r\nM 3116 1747 \r\nQ 3116 2381 2855 2742 \r\nQ 2594 3103 2138 3103 \r\nQ 1681 3103 1420 2742 \r\nQ 1159 2381 1159 1747 \r\nQ 1159 1113 1420 752 \r\nQ 1681 391 2138 391 \r\nQ 2594 391 2855 752 \r\nQ 3116 1113 3116 1747 \r\nz\r\n\" id=\"DejaVuSans-70\" transform=\"scale(0.015625)\"/>\r\n       <path d=\"M 3597 1894 \r\nL 3597 1613 \r\nL 953 1613 \r\nQ 991 1019 1311 708 \r\nQ 1631 397 2203 397 \r\nQ 2534 397 2845 478 \r\nQ 3156 559 3463 722 \r\nL 3463 178 \r\nQ 3153 47 2828 -22 \r\nQ 2503 -91 2169 -91 \r\nQ 1331 -91 842 396 \r\nQ 353 884 353 1716 \r\nQ 353 2575 817 3079 \r\nQ 1281 3584 2069 3584 \r\nQ 2775 3584 3186 3129 \r\nQ 3597 2675 3597 1894 \r\nz\r\nM 3022 2063 \r\nQ 3016 2534 2758 2815 \r\nQ 2500 3097 2075 3097 \r\nQ 1594 3097 1305 2825 \r\nQ 1016 2553 972 2059 \r\nL 3022 2063 \r\nz\r\n\" id=\"DejaVuSans-65\" transform=\"scale(0.015625)\"/>\r\n       <path d=\"M 3513 2113 \r\nL 3513 0 \r\nL 2938 0 \r\nL 2938 2094 \r\nQ 2938 2591 2744 2837 \r\nQ 2550 3084 2163 3084 \r\nQ 1697 3084 1428 2787 \r\nQ 1159 2491 1159 1978 \r\nL 1159 0 \r\nL 581 0 \r\nL 581 3500 \r\nL 1159 3500 \r\nL 1159 2956 \r\nQ 1366 3272 1645 3428 \r\nQ 1925 3584 2291 3584 \r\nQ 2894 3584 3203 3211 \r\nQ 3513 2838 3513 2113 \r\nz\r\n\" id=\"DejaVuSans-6e\" transform=\"scale(0.015625)\"/>\r\n       <path d=\"M 2906 2969 \r\nL 2906 4863 \r\nL 3481 4863 \r\nL 3481 0 \r\nL 2906 0 \r\nL 2906 525 \r\nQ 2725 213 2448 61 \r\nQ 2172 -91 1784 -91 \r\nQ 1150 -91 751 415 \r\nQ 353 922 353 1747 \r\nQ 353 2572 751 3078 \r\nQ 1150 3584 1784 3584 \r\nQ 2172 3584 2448 3432 \r\nQ 2725 3281 2906 2969 \r\nz\r\nM 947 1747 \r\nQ 947 1113 1208 752 \r\nQ 1469 391 1925 391 \r\nQ 2381 391 2643 752 \r\nQ 2906 1113 2906 1747 \r\nQ 2906 2381 2643 2742 \r\nQ 2381 3103 1925 3103 \r\nQ 1469 3103 1208 2742 \r\nQ 947 2381 947 1747 \r\nz\r\n\" id=\"DejaVuSans-64\" transform=\"scale(0.015625)\"/>\r\n      </defs>\r\n      <use xlink:href=\"#DejaVuSans-52\"/>\r\n      <use x=\"69.482422\" xlink:href=\"#DejaVuSans-26\"/>\r\n      <use x=\"147.460938\" xlink:href=\"#DejaVuSans-44\"/>\r\n      <use x=\"224.462891\" xlink:href=\"#DejaVuSans-20\"/>\r\n      <use x=\"256.25\" xlink:href=\"#DejaVuSans-53\"/>\r\n      <use x=\"319.726562\" xlink:href=\"#DejaVuSans-70\"/>\r\n      <use x=\"383.203125\" xlink:href=\"#DejaVuSans-65\"/>\r\n      <use x=\"444.726562\" xlink:href=\"#DejaVuSans-6e\"/>\r\n      <use x=\"508.105469\" xlink:href=\"#DejaVuSans-64\"/>\r\n     </g>\r\n    </g>\r\n   </g>\r\n   <g id=\"matplotlib.axis_2\">\r\n    <g id=\"ytick_1\">\r\n     <g id=\"line2d_4\">\r\n      <defs>\r\n       <path d=\"M 0 0 \r\nL -3.5 0 \r\n\" id=\"me48a7b78d9\" style=\"stroke:#000000;stroke-width:0.8;\"/>\r\n      </defs>\r\n      <g>\r\n       <use style=\"stroke:#000000;stroke-width:0.8;\" x=\"66.053125\" xlink:href=\"#me48a7b78d9\" y=\"141.332965\"/>\r\n      </g>\r\n     </g>\r\n     <g id=\"text_5\">\r\n      <!-- 50000 -->\r\n      <g transform=\"translate(27.240625 145.132184)scale(0.1 -0.1)\">\r\n       <use xlink:href=\"#DejaVuSans-35\"/>\r\n       <use x=\"63.623047\" xlink:href=\"#DejaVuSans-30\"/>\r\n       <use x=\"127.246094\" xlink:href=\"#DejaVuSans-30\"/>\r\n       <use x=\"190.869141\" xlink:href=\"#DejaVuSans-30\"/>\r\n       <use x=\"254.492188\" xlink:href=\"#DejaVuSans-30\"/>\r\n      </g>\r\n     </g>\r\n    </g>\r\n    <g id=\"ytick_2\">\r\n     <g id=\"line2d_5\">\r\n      <g>\r\n       <use style=\"stroke:#000000;stroke-width:0.8;\" x=\"66.053125\" xlink:href=\"#me48a7b78d9\" y=\"101.709434\"/>\r\n      </g>\r\n     </g>\r\n     <g id=\"text_6\">\r\n      <!-- 100000 -->\r\n      <g transform=\"translate(20.878125 105.508653)scale(0.1 -0.1)\">\r\n       <use xlink:href=\"#DejaVuSans-31\"/>\r\n       <use x=\"63.623047\" xlink:href=\"#DejaVuSans-30\"/>\r\n       <use x=\"127.246094\" xlink:href=\"#DejaVuSans-30\"/>\r\n       <use x=\"190.869141\" xlink:href=\"#DejaVuSans-30\"/>\r\n       <use x=\"254.492188\" xlink:href=\"#DejaVuSans-30\"/>\r\n       <use x=\"318.115234\" xlink:href=\"#DejaVuSans-30\"/>\r\n      </g>\r\n     </g>\r\n    </g>\r\n    <g id=\"ytick_3\">\r\n     <g id=\"line2d_6\">\r\n      <g>\r\n       <use style=\"stroke:#000000;stroke-width:0.8;\" x=\"66.053125\" xlink:href=\"#me48a7b78d9\" y=\"62.085903\"/>\r\n      </g>\r\n     </g>\r\n     <g id=\"text_7\">\r\n      <!-- 150000 -->\r\n      <g transform=\"translate(20.878125 65.885122)scale(0.1 -0.1)\">\r\n       <use xlink:href=\"#DejaVuSans-31\"/>\r\n       <use x=\"63.623047\" xlink:href=\"#DejaVuSans-35\"/>\r\n       <use x=\"127.246094\" xlink:href=\"#DejaVuSans-30\"/>\r\n       <use x=\"190.869141\" xlink:href=\"#DejaVuSans-30\"/>\r\n       <use x=\"254.492188\" xlink:href=\"#DejaVuSans-30\"/>\r\n       <use x=\"318.115234\" xlink:href=\"#DejaVuSans-30\"/>\r\n      </g>\r\n     </g>\r\n    </g>\r\n    <g id=\"ytick_4\">\r\n     <g id=\"line2d_7\">\r\n      <g>\r\n       <use style=\"stroke:#000000;stroke-width:0.8;\" x=\"66.053125\" xlink:href=\"#me48a7b78d9\" y=\"22.462373\"/>\r\n      </g>\r\n     </g>\r\n     <g id=\"text_8\">\r\n      <!-- 200000 -->\r\n      <g transform=\"translate(20.878125 26.261591)scale(0.1 -0.1)\">\r\n       <defs>\r\n        <path d=\"M 1228 531 \r\nL 3431 531 \r\nL 3431 0 \r\nL 469 0 \r\nL 469 531 \r\nQ 828 903 1448 1529 \r\nQ 2069 2156 2228 2338 \r\nQ 2531 2678 2651 2914 \r\nQ 2772 3150 2772 3378 \r\nQ 2772 3750 2511 3984 \r\nQ 2250 4219 1831 4219 \r\nQ 1534 4219 1204 4116 \r\nQ 875 4013 500 3803 \r\nL 500 4441 \r\nQ 881 4594 1212 4672 \r\nQ 1544 4750 1819 4750 \r\nQ 2544 4750 2975 4387 \r\nQ 3406 4025 3406 3419 \r\nQ 3406 3131 3298 2873 \r\nQ 3191 2616 2906 2266 \r\nQ 2828 2175 2409 1742 \r\nQ 1991 1309 1228 531 \r\nz\r\n\" id=\"DejaVuSans-32\" transform=\"scale(0.015625)\"/>\r\n       </defs>\r\n       <use xlink:href=\"#DejaVuSans-32\"/>\r\n       <use x=\"63.623047\" xlink:href=\"#DejaVuSans-30\"/>\r\n       <use x=\"127.246094\" xlink:href=\"#DejaVuSans-30\"/>\r\n       <use x=\"190.869141\" xlink:href=\"#DejaVuSans-30\"/>\r\n       <use x=\"254.492188\" xlink:href=\"#DejaVuSans-30\"/>\r\n       <use x=\"318.115234\" xlink:href=\"#DejaVuSans-30\"/>\r\n      </g>\r\n     </g>\r\n    </g>\r\n    <g id=\"text_9\">\r\n     <!-- Profit -->\r\n     <g transform=\"translate(14.798438 111.997344)rotate(-90)scale(0.1 -0.1)\">\r\n      <defs>\r\n       <path d=\"M 1259 4147 \r\nL 1259 2394 \r\nL 2053 2394 \r\nQ 2494 2394 2734 2622 \r\nQ 2975 2850 2975 3272 \r\nQ 2975 3691 2734 3919 \r\nQ 2494 4147 2053 4147 \r\nL 1259 4147 \r\nz\r\nM 628 4666 \r\nL 2053 4666 \r\nQ 2838 4666 3239 4311 \r\nQ 3641 3956 3641 3272 \r\nQ 3641 2581 3239 2228 \r\nQ 2838 1875 2053 1875 \r\nL 1259 1875 \r\nL 1259 0 \r\nL 628 0 \r\nL 628 4666 \r\nz\r\n\" id=\"DejaVuSans-50\" transform=\"scale(0.015625)\"/>\r\n       <path d=\"M 2631 2963 \r\nQ 2534 3019 2420 3045 \r\nQ 2306 3072 2169 3072 \r\nQ 1681 3072 1420 2755 \r\nQ 1159 2438 1159 1844 \r\nL 1159 0 \r\nL 581 0 \r\nL 581 3500 \r\nL 1159 3500 \r\nL 1159 2956 \r\nQ 1341 3275 1631 3429 \r\nQ 1922 3584 2338 3584 \r\nQ 2397 3584 2469 3576 \r\nQ 2541 3569 2628 3553 \r\nL 2631 2963 \r\nz\r\n\" id=\"DejaVuSans-72\" transform=\"scale(0.015625)\"/>\r\n       <path d=\"M 1959 3097 \r\nQ 1497 3097 1228 2736 \r\nQ 959 2375 959 1747 \r\nQ 959 1119 1226 758 \r\nQ 1494 397 1959 397 \r\nQ 2419 397 2687 759 \r\nQ 2956 1122 2956 1747 \r\nQ 2956 2369 2687 2733 \r\nQ 2419 3097 1959 3097 \r\nz\r\nM 1959 3584 \r\nQ 2709 3584 3137 3096 \r\nQ 3566 2609 3566 1747 \r\nQ 3566 888 3137 398 \r\nQ 2709 -91 1959 -91 \r\nQ 1206 -91 779 398 \r\nQ 353 888 353 1747 \r\nQ 353 2609 779 3096 \r\nQ 1206 3584 1959 3584 \r\nz\r\n\" id=\"DejaVuSans-6f\" transform=\"scale(0.015625)\"/>\r\n       <path d=\"M 2375 4863 \r\nL 2375 4384 \r\nL 1825 4384 \r\nQ 1516 4384 1395 4259 \r\nQ 1275 4134 1275 3809 \r\nL 1275 3500 \r\nL 2222 3500 \r\nL 2222 3053 \r\nL 1275 3053 \r\nL 1275 0 \r\nL 697 0 \r\nL 697 3053 \r\nL 147 3053 \r\nL 147 3500 \r\nL 697 3500 \r\nL 697 3744 \r\nQ 697 4328 969 4595 \r\nQ 1241 4863 1831 4863 \r\nL 2375 4863 \r\nz\r\n\" id=\"DejaVuSans-66\" transform=\"scale(0.015625)\"/>\r\n       <path d=\"M 603 3500 \r\nL 1178 3500 \r\nL 1178 0 \r\nL 603 0 \r\nL 603 3500 \r\nz\r\nM 603 4863 \r\nL 1178 4863 \r\nL 1178 4134 \r\nL 603 4134 \r\nL 603 4863 \r\nz\r\n\" id=\"DejaVuSans-69\" transform=\"scale(0.015625)\"/>\r\n       <path d=\"M 1172 4494 \r\nL 1172 3500 \r\nL 2356 3500 \r\nL 2356 3053 \r\nL 1172 3053 \r\nL 1172 1153 \r\nQ 1172 725 1289 603 \r\nQ 1406 481 1766 481 \r\nL 2356 481 \r\nL 2356 0 \r\nL 1766 0 \r\nQ 1100 0 847 248 \r\nQ 594 497 594 1153 \r\nL 594 3053 \r\nL 172 3053 \r\nL 172 3500 \r\nL 594 3500 \r\nL 594 4494 \r\nL 1172 4494 \r\nz\r\n\" id=\"DejaVuSans-74\" transform=\"scale(0.015625)\"/>\r\n      </defs>\r\n      <use xlink:href=\"#DejaVuSans-50\"/>\r\n      <use x=\"58.552734\" xlink:href=\"#DejaVuSans-72\"/>\r\n      <use x=\"97.416016\" xlink:href=\"#DejaVuSans-6f\"/>\r\n      <use x=\"158.597656\" xlink:href=\"#DejaVuSans-66\"/>\r\n      <use x=\"193.802734\" xlink:href=\"#DejaVuSans-69\"/>\r\n      <use x=\"221.585938\" xlink:href=\"#DejaVuSans-74\"/>\r\n     </g>\r\n    </g>\r\n   </g>\r\n   <g id=\"line2d_8\">\r\n    <path clip-path=\"url(#pd189d3ac5c)\" d=\"M 66.053125 141.751042 \r\nL 67.789605 140.66902 \r\nL 69.526085 139.586998 \r\nL 71.262566 138.504977 \r\nL 72.999046 137.422955 \r\nL 74.735526 136.340933 \r\nL 76.472006 135.258911 \r\nL 78.208486 134.176889 \r\nL 79.944966 133.094867 \r\nL 81.681447 132.012845 \r\nL 83.417927 130.930823 \r\nL 85.154407 129.848801 \r\nL 86.890887 128.76678 \r\nL 88.627367 127.684758 \r\nL 90.363847 126.602736 \r\nL 92.100328 125.520714 \r\nL 93.836808 124.438692 \r\nL 95.573288 123.35667 \r\nL 97.309768 122.274648 \r\nL 99.046248 121.192626 \r\nL 100.782728 120.110604 \r\nL 102.519209 119.028583 \r\nL 104.255689 117.946561 \r\nL 105.992169 116.864539 \r\nL 107.728649 115.782517 \r\nL 109.465129 114.700495 \r\nL 111.201609 113.618473 \r\nL 112.93809 112.536451 \r\nL 114.67457 111.454429 \r\nL 116.41105 110.372407 \r\nL 118.14753 109.290386 \r\nL 119.88401 108.208364 \r\nL 121.62049 107.126342 \r\nL 123.356971 106.04432 \r\nL 125.093451 104.962298 \r\nL 126.829931 103.880276 \r\nL 128.566411 102.798254 \r\nL 130.302891 101.716232 \r\nL 132.039371 100.63421 \r\nL 133.775852 99.552189 \r\nL 135.512332 98.470167 \r\nL 137.248812 97.388145 \r\nL 138.985292 96.306123 \r\nL 140.721772 95.224101 \r\nL 142.458252 94.142079 \r\nL 144.194733 93.060057 \r\nL 145.931213 91.978035 \r\nL 147.667693 90.896014 \r\nL 149.404173 89.813992 \r\nL 151.140653 88.73197 \r\nL 152.877133 87.649948 \r\nL 154.613614 86.567926 \r\nL 156.350094 85.485904 \r\nL 158.086574 84.403882 \r\nL 159.823054 83.32186 \r\nL 161.559534 82.239838 \r\nL 163.296014 81.157817 \r\nL 165.032495 80.075795 \r\nL 166.768975 78.993773 \r\nL 168.505455 77.911751 \r\nL 170.241935 76.829729 \r\nL 171.978415 75.747707 \r\nL 173.714895 74.665685 \r\nL 175.451376 73.583663 \r\nL 177.187856 72.501641 \r\nL 178.924336 71.41962 \r\nL 180.660816 70.337598 \r\nL 182.397296 69.255576 \r\nL 184.133776 68.173554 \r\nL 185.870257 67.091532 \r\nL 187.606737 66.00951 \r\nL 189.343217 64.927488 \r\nL 191.079697 63.845466 \r\nL 192.816177 62.763444 \r\nL 194.552657 61.681423 \r\nL 196.289138 60.599401 \r\nL 198.025618 59.517379 \r\nL 199.762098 58.435357 \r\nL 201.498578 57.353335 \r\nL 203.235058 56.271313 \r\nL 204.971538 55.189291 \r\nL 206.708019 54.107269 \r\nL 208.444499 53.025247 \r\nL 210.180979 51.943226 \r\nL 211.917459 50.861204 \r\nL 213.653939 49.779182 \r\nL 215.390419 48.69716 \r\nL 217.1269 47.615138 \r\nL 218.86338 46.533116 \r\nL 220.59986 45.451094 \r\nL 222.33634 44.369072 \r\nL 224.07282 43.28705 \r\nL 225.8093 42.205029 \r\nL 227.545781 41.123007 \r\nL 229.282261 40.040985 \r\nL 231.018741 38.958963 \r\nL 232.755221 37.876941 \r\nL 234.491701 36.794919 \r\nL 236.228181 35.712897 \r\nL 237.964662 34.630875 \r\n\" style=\"fill:none;stroke:#5081ac;stroke-linecap:square;stroke-width:2.25;\"/>\r\n   </g>\r\n   <g id=\"patch_3\">\r\n    <path d=\"M 66.053125 176.358281 \r\nL 66.053125 21.558281 \r\n\" style=\"fill:none;stroke:#000000;stroke-linecap:square;stroke-linejoin:miter;stroke-width:0.8;\"/>\r\n   </g>\r\n   <g id=\"patch_4\">\r\n    <path d=\"M 237.964662 176.358281 \r\nL 237.964662 21.558281 \r\n\" style=\"fill:none;stroke:#000000;stroke-linecap:square;stroke-linejoin:miter;stroke-width:0.8;\"/>\r\n   </g>\r\n   <g id=\"patch_5\">\r\n    <path d=\"M 66.053125 176.358281 \r\nL 237.964662 176.358281 \r\n\" style=\"fill:none;stroke:#000000;stroke-linecap:square;stroke-linejoin:miter;stroke-width:0.8;\"/>\r\n   </g>\r\n   <g id=\"patch_6\">\r\n    <path d=\"M 66.053125 21.558281 \r\nL 237.964662 21.558281 \r\n\" style=\"fill:none;stroke:#000000;stroke-linecap:square;stroke-linejoin:miter;stroke-width:0.8;\"/>\r\n   </g>\r\n   <g id=\"text_10\">\r\n    <!-- r = 0.88      p = 0.00 -->\r\n    <g transform=\"translate(95.066706 15.558281)scale(0.11 -0.11)\">\r\n     <defs>\r\n      <path d=\"M 678 2906 \r\nL 4684 2906 \r\nL 4684 2381 \r\nL 678 2381 \r\nL 678 2906 \r\nz\r\nM 678 1631 \r\nL 4684 1631 \r\nL 4684 1100 \r\nL 678 1100 \r\nL 678 1631 \r\nz\r\n\" id=\"DejaVuSans-3d\" transform=\"scale(0.015625)\"/>\r\n      <path d=\"M 684 794 \r\nL 1344 794 \r\nL 1344 0 \r\nL 684 0 \r\nL 684 794 \r\nz\r\n\" id=\"DejaVuSans-2e\" transform=\"scale(0.015625)\"/>\r\n      <path d=\"M 2034 2216 \r\nQ 1584 2216 1326 1975 \r\nQ 1069 1734 1069 1313 \r\nQ 1069 891 1326 650 \r\nQ 1584 409 2034 409 \r\nQ 2484 409 2743 651 \r\nQ 3003 894 3003 1313 \r\nQ 3003 1734 2745 1975 \r\nQ 2488 2216 2034 2216 \r\nz\r\nM 1403 2484 \r\nQ 997 2584 770 2862 \r\nQ 544 3141 544 3541 \r\nQ 544 4100 942 4425 \r\nQ 1341 4750 2034 4750 \r\nQ 2731 4750 3128 4425 \r\nQ 3525 4100 3525 3541 \r\nQ 3525 3141 3298 2862 \r\nQ 3072 2584 2669 2484 \r\nQ 3125 2378 3379 2068 \r\nQ 3634 1759 3634 1313 \r\nQ 3634 634 3220 271 \r\nQ 2806 -91 2034 -91 \r\nQ 1263 -91 848 271 \r\nQ 434 634 434 1313 \r\nQ 434 1759 690 2068 \r\nQ 947 2378 1403 2484 \r\nz\r\nM 1172 3481 \r\nQ 1172 3119 1398 2916 \r\nQ 1625 2713 2034 2713 \r\nQ 2441 2713 2670 2916 \r\nQ 2900 3119 2900 3481 \r\nQ 2900 3844 2670 4047 \r\nQ 2441 4250 2034 4250 \r\nQ 1625 4250 1398 4047 \r\nQ 1172 3844 1172 3481 \r\nz\r\n\" id=\"DejaVuSans-38\" transform=\"scale(0.015625)\"/>\r\n     </defs>\r\n     <use xlink:href=\"#DejaVuSans-72\"/>\r\n     <use x=\"41.113281\" xlink:href=\"#DejaVuSans-20\"/>\r\n     <use x=\"72.900391\" xlink:href=\"#DejaVuSans-3d\"/>\r\n     <use x=\"156.689453\" xlink:href=\"#DejaVuSans-20\"/>\r\n     <use x=\"188.476562\" xlink:href=\"#DejaVuSans-30\"/>\r\n     <use x=\"252.099609\" xlink:href=\"#DejaVuSans-2e\"/>\r\n     <use x=\"283.886719\" xlink:href=\"#DejaVuSans-38\"/>\r\n     <use x=\"347.509766\" xlink:href=\"#DejaVuSans-38\"/>\r\n     <use x=\"411.132812\" xlink:href=\"#DejaVuSans-20\"/>\r\n     <use x=\"442.919922\" xlink:href=\"#DejaVuSans-20\"/>\r\n     <use x=\"474.707031\" xlink:href=\"#DejaVuSans-20\"/>\r\n     <use x=\"506.494141\" xlink:href=\"#DejaVuSans-20\"/>\r\n     <use x=\"538.28125\" xlink:href=\"#DejaVuSans-20\"/>\r\n     <use x=\"570.068359\" xlink:href=\"#DejaVuSans-20\"/>\r\n     <use x=\"601.855469\" xlink:href=\"#DejaVuSans-70\"/>\r\n     <use x=\"665.332031\" xlink:href=\"#DejaVuSans-20\"/>\r\n     <use x=\"697.119141\" xlink:href=\"#DejaVuSans-3d\"/>\r\n     <use x=\"780.908203\" xlink:href=\"#DejaVuSans-20\"/>\r\n     <use x=\"812.695312\" xlink:href=\"#DejaVuSans-30\"/>\r\n     <use x=\"876.318359\" xlink:href=\"#DejaVuSans-2e\"/>\r\n     <use x=\"908.105469\" xlink:href=\"#DejaVuSans-30\"/>\r\n     <use x=\"971.728516\" xlink:href=\"#DejaVuSans-30\"/>\r\n    </g>\r\n   </g>\r\n  </g>\r\n  <g id=\"axes_2\">\r\n   <g id=\"patch_7\">\r\n    <path d=\"M 309.854088 176.358281 \r\nL 481.765625 176.358281 \r\nL 481.765625 21.558281 \r\nL 309.854088 21.558281 \r\nz\r\n\" style=\"fill:#ffffff;\"/>\r\n   </g>\r\n   <g id=\"PathCollection_2\">\r\n    <g clip-path=\"url(#p8d21c2c93c)\">\r\n     <use style=\"fill:#5081ac;fill-opacity:0.8;stroke:#5081ac;stroke-opacity:0.8;\" x=\"421.896389\" xlink:href=\"#mbdc0ff6fef\" y=\"28.594645\"/>\r\n     <use style=\"fill:#5081ac;fill-opacity:0.8;stroke:#5081ac;stroke-opacity:0.8;\" x=\"440.845819\" xlink:href=\"#mbdc0ff6fef\" y=\"28.966924\"/>\r\n     <use style=\"fill:#5081ac;fill-opacity:0.8;stroke:#5081ac;stroke-opacity:0.8;\" x=\"375.10809\" xlink:href=\"#mbdc0ff6fef\" y=\"29.554675\"/>\r\n     <use style=\"fill:#5081ac;fill-opacity:0.8;stroke:#5081ac;stroke-opacity:0.8;\" x=\"398.04443\" xlink:href=\"#mbdc0ff6fef\" y=\"36.012043\"/>\r\n     <use style=\"fill:#5081ac;fill-opacity:0.8;stroke:#5081ac;stroke-opacity:0.8;\" x=\"362.343501\" xlink:href=\"#mbdc0ff6fef\" y=\"49.257437\"/>\r\n     <use style=\"fill:#5081ac;fill-opacity:0.8;stroke:#5081ac;stroke-opacity:0.8;\" x=\"373.366444\" xlink:href=\"#mbdc0ff6fef\" y=\"56.545646\"/>\r\n     <use style=\"fill:#5081ac;fill-opacity:0.8;stroke:#5081ac;stroke-opacity:0.8;\" x=\"435.377206\" xlink:href=\"#mbdc0ff6fef\" y=\"57.233994\"/>\r\n     <use style=\"fill:#5081ac;fill-opacity:0.8;stroke:#5081ac;stroke-opacity:0.8;\" x=\"433.193266\" xlink:href=\"#mbdc0ff6fef\" y=\"57.527137\"/>\r\n     <use style=\"fill:#5081ac;fill-opacity:0.8;stroke:#5081ac;stroke-opacity:0.8;\" x=\"437.366506\" xlink:href=\"#mbdc0ff6fef\" y=\"60.333141\"/>\r\n     <use style=\"fill:#5081ac;fill-opacity:0.8;stroke:#5081ac;stroke-opacity:0.8;\" x=\"384.967197\" xlink:href=\"#mbdc0ff6fef\" y=\"62.276128\"/>\r\n     <use style=\"fill:#5081ac;fill-opacity:0.8;stroke:#5081ac;stroke-opacity:0.8;\" x=\"387.473243\" xlink:href=\"#mbdc0ff6fef\" y=\"65.159144\"/>\r\n     <use style=\"fill:#5081ac;fill-opacity:0.8;stroke:#5081ac;stroke-opacity:0.8;\" x=\"362.865455\" xlink:href=\"#mbdc0ff6fef\" y=\"66.63516\"/>\r\n     <use style=\"fill:#5081ac;fill-opacity:0.8;stroke:#5081ac;stroke-opacity:0.8;\" x=\"409.362599\" xlink:href=\"#mbdc0ff6fef\" y=\"68.754131\"/>\r\n     <use style=\"fill:#5081ac;fill-opacity:0.8;stroke:#5081ac;stroke-opacity:0.8;\" x=\"420.060663\" xlink:href=\"#mbdc0ff6fef\" y=\"74.521867\"/>\r\n     <use style=\"fill:#5081ac;fill-opacity:0.8;stroke:#5081ac;stroke-opacity:0.8;\" x=\"447.611478\" xlink:href=\"#mbdc0ff6fef\" y=\"75.872792\"/>\r\n     <use style=\"fill:#5081ac;fill-opacity:0.8;stroke:#5081ac;stroke-opacity:0.8;\" x=\"403.207164\" xlink:href=\"#mbdc0ff6fef\" y=\"78.001059\"/>\r\n     <use style=\"fill:#5081ac;fill-opacity:0.8;stroke:#5081ac;stroke-opacity:0.8;\" x=\"401.873239\" xlink:href=\"#mbdc0ff6fef\" y=\"80.31833\"/>\r\n     <use style=\"fill:#5081ac;fill-opacity:0.8;stroke:#5081ac;stroke-opacity:0.8;\" x=\"432.601114\" xlink:href=\"#mbdc0ff6fef\" y=\"81.604161\"/>\r\n     <use style=\"fill:#5081ac;fill-opacity:0.8;stroke:#5081ac;stroke-opacity:0.8;\" x=\"392.160521\" xlink:href=\"#mbdc0ff6fef\" y=\"82.478629\"/>\r\n     <use style=\"fill:#5081ac;fill-opacity:0.8;stroke:#5081ac;stroke-opacity:0.8;\" x=\"443.641842\" xlink:href=\"#mbdc0ff6fef\" y=\"83.659442\"/>\r\n     <use style=\"fill:#5081ac;fill-opacity:0.8;stroke:#5081ac;stroke-opacity:0.8;\" x=\"391.756805\" xlink:href=\"#mbdc0ff6fef\" y=\"87.069308\"/>\r\n     <use style=\"fill:#5081ac;fill-opacity:0.8;stroke:#5081ac;stroke-opacity:0.8;\" x=\"443.98121\" xlink:href=\"#mbdc0ff6fef\" y=\"92.744198\"/>\r\n     <use style=\"fill:#5081ac;fill-opacity:0.8;stroke:#5081ac;stroke-opacity:0.8;\" x=\"403.424288\" xlink:href=\"#mbdc0ff6fef\" y=\"93.50558\"/>\r\n     <use style=\"fill:#5081ac;fill-opacity:0.8;stroke:#5081ac;stroke-opacity:0.8;\" x=\"381.135195\" xlink:href=\"#mbdc0ff6fef\" y=\"94.788004\"/>\r\n     <use style=\"fill:#5081ac;fill-opacity:0.8;stroke:#5081ac;stroke-opacity:0.8;\" x=\"372.668433\" xlink:href=\"#mbdc0ff6fef\" y=\"94.932194\"/>\r\n     <use style=\"fill:#5081ac;fill-opacity:0.8;stroke:#5081ac;stroke-opacity:0.8;\" x=\"425.371409\" xlink:href=\"#mbdc0ff6fef\" y=\"95.841712\"/>\r\n     <use style=\"fill:#5081ac;fill-opacity:0.8;stroke:#5081ac;stroke-opacity:0.8;\" x=\"431.36886\" xlink:href=\"#mbdc0ff6fef\" y=\"97.165772\"/>\r\n     <use style=\"fill:#5081ac;fill-opacity:0.8;stroke:#5081ac;stroke-opacity:0.8;\" x=\"410.074744\" xlink:href=\"#mbdc0ff6fef\" y=\"97.740496\"/>\r\n     <use style=\"fill:#5081ac;fill-opacity:0.8;stroke:#5081ac;stroke-opacity:0.8;\" x=\"481.765625\" xlink:href=\"#mbdc0ff6fef\" y=\"99.108244\"/>\r\n     <use style=\"fill:#5081ac;fill-opacity:0.8;stroke:#5081ac;stroke-opacity:0.8;\" x=\"443.010993\" xlink:href=\"#mbdc0ff6fef\" y=\"100.913286\"/>\r\n     <use style=\"fill:#5081ac;fill-opacity:0.8;stroke:#5081ac;stroke-opacity:0.8;\" x=\"394.07838\" xlink:href=\"#mbdc0ff6fef\" y=\"101.758892\"/>\r\n     <use style=\"fill:#5081ac;fill-opacity:0.8;stroke:#5081ac;stroke-opacity:0.8;\" x=\"442.578945\" xlink:href=\"#mbdc0ff6fef\" y=\"103.703639\"/>\r\n     <use style=\"fill:#5081ac;fill-opacity:0.8;stroke:#5081ac;stroke-opacity:0.8;\" x=\"411.848086\" xlink:href=\"#mbdc0ff6fef\" y=\"103.747795\"/>\r\n     <use style=\"fill:#5081ac;fill-opacity:0.8;stroke:#5081ac;stroke-opacity:0.8;\" x=\"377.61021\" xlink:href=\"#mbdc0ff6fef\" y=\"104.262045\"/>\r\n     <use style=\"fill:#5081ac;fill-opacity:0.8;stroke:#5081ac;stroke-opacity:0.8;\" x=\"449.111881\" xlink:href=\"#mbdc0ff6fef\" y=\"104.314444\"/>\r\n     <use style=\"fill:#5081ac;fill-opacity:0.8;stroke:#5081ac;stroke-opacity:0.8;\" x=\"354.040795\" xlink:href=\"#mbdc0ff6fef\" y=\"104.499319\"/>\r\n     <use style=\"fill:#5081ac;fill-opacity:0.8;stroke:#5081ac;stroke-opacity:0.8;\" x=\"409.016885\" xlink:href=\"#mbdc0ff6fef\" y=\"109.072921\"/>\r\n     <use style=\"fill:#5081ac;fill-opacity:0.8;stroke:#5081ac;stroke-opacity:0.8;\" x=\"309.854088\" xlink:href=\"#mbdc0ff6fef\" y=\"109.674445\"/>\r\n     <use style=\"fill:#5081ac;fill-opacity:0.8;stroke:#5081ac;stroke-opacity:0.8;\" x=\"329.045624\" xlink:href=\"#mbdc0ff6fef\" y=\"116.584853\"/>\r\n     <use style=\"fill:#5081ac;fill-opacity:0.8;stroke:#5081ac;stroke-opacity:0.8;\" x=\"351.33791\" xlink:href=\"#mbdc0ff6fef\" y=\"116.761811\"/>\r\n     <use style=\"fill:#5081ac;fill-opacity:0.8;stroke:#5081ac;stroke-opacity:0.8;\" x=\"397.879798\" xlink:href=\"#mbdc0ff6fef\" y=\"118.953666\"/>\r\n     <use style=\"fill:#5081ac;fill-opacity:0.8;stroke:#5081ac;stroke-opacity:0.8;\" x=\"353.600201\" xlink:href=\"#mbdc0ff6fef\" y=\"119.303209\"/>\r\n     <use style=\"fill:#5081ac;fill-opacity:0.8;stroke:#5081ac;stroke-opacity:0.8;\" x=\"368.62237\" xlink:href=\"#mbdc0ff6fef\" y=\"124.296043\"/>\r\n     <use style=\"fill:#5081ac;fill-opacity:0.8;stroke:#5081ac;stroke-opacity:0.8;\" x=\"409.443633\" xlink:href=\"#mbdc0ff6fef\" y=\"125.674554\"/>\r\n     <use style=\"fill:#5081ac;fill-opacity:0.8;stroke:#5081ac;stroke-opacity:0.8;\" x=\"445.332698\" xlink:href=\"#mbdc0ff6fef\" y=\"129.28715\"/>\r\n     <use style=\"fill:#5081ac;fill-opacity:0.8;stroke:#5081ac;stroke-opacity:0.8;\" x=\"405.217561\" xlink:href=\"#mbdc0ff6fef\" y=\"129.504485\"/>\r\n     <use style=\"fill:#5081ac;fill-opacity:0.8;stroke:#5081ac;stroke-opacity:0.8;\" x=\"394.307307\" xlink:href=\"#mbdc0ff6fef\" y=\"141.736531\"/>\r\n     <use style=\"fill:#5081ac;fill-opacity:0.8;stroke:#5081ac;stroke-opacity:0.8;\" x=\"419.971476\" xlink:href=\"#mbdc0ff6fef\" y=\"147.22916\"/>\r\n     <use style=\"fill:#5081ac;fill-opacity:0.8;stroke:#5081ac;stroke-opacity:0.8;\" x=\"310.456095\" xlink:href=\"#mbdc0ff6fef\" y=\"152.686367\"/>\r\n     <use style=\"fill:#5081ac;fill-opacity:0.8;stroke:#5081ac;stroke-opacity:0.8;\" x=\"395.835311\" xlink:href=\"#mbdc0ff6fef\" y=\"169.321918\"/>\r\n    </g>\r\n   </g>\r\n   <g id=\"PolyCollection_2\">\r\n    <path clip-path=\"url(#p8d21c2c93c)\" d=\"M 309.854088 83.757413 \r\nL 309.854088 128.730088 \r\nL 311.590569 128.238911 \r\nL 313.327049 127.653558 \r\nL 315.063529 126.93067 \r\nL 316.800009 126.385559 \r\nL 318.536489 125.840447 \r\nL 320.272969 125.292059 \r\nL 322.00945 124.629582 \r\nL 323.74593 123.916812 \r\nL 325.48241 123.348435 \r\nL 327.21889 122.771006 \r\nL 328.95537 122.192314 \r\nL 330.69185 121.645856 \r\nL 332.428331 121.080104 \r\nL 334.164811 120.513515 \r\nL 335.901291 119.946624 \r\nL 337.637771 119.32295 \r\nL 339.374251 118.81142 \r\nL 341.110731 118.113457 \r\nL 342.847212 117.418052 \r\nL 344.583692 116.779874 \r\nL 346.320172 116.137969 \r\nL 348.056652 115.510066 \r\nL 349.793132 114.876869 \r\nL 351.529612 114.443959 \r\nL 353.266093 113.755726 \r\nL 355.002573 113.059814 \r\nL 356.739053 112.640737 \r\nL 358.475533 111.962939 \r\nL 360.212013 111.494627 \r\nL 361.948493 110.880433 \r\nL 363.684974 110.398011 \r\nL 365.421454 109.74362 \r\nL 367.157934 109.167079 \r\nL 368.894414 108.716888 \r\nL 370.630894 108.182448 \r\nL 372.367374 107.667517 \r\nL 374.103855 107.185721 \r\nL 375.840335 106.711178 \r\nL 377.576815 106.333345 \r\nL 379.313295 105.838549 \r\nL 381.049775 105.415054 \r\nL 382.786255 104.952751 \r\nL 384.522736 104.572303 \r\nL 386.259216 104.33759 \r\nL 387.995696 103.793827 \r\nL 389.732176 103.487737 \r\nL 391.468656 103.039217 \r\nL 393.205136 102.890721 \r\nL 394.941617 102.429482 \r\nL 396.678097 102.123025 \r\nL 398.414577 101.851437 \r\nL 400.151057 101.568538 \r\nL 401.887537 101.312712 \r\nL 403.624017 100.948666 \r\nL 405.360498 100.695999 \r\nL 407.096978 100.391635 \r\nL 408.833458 100.050782 \r\nL 410.569938 99.839048 \r\nL 412.306418 99.615746 \r\nL 414.042898 99.269641 \r\nL 415.779379 99.040727 \r\nL 417.515859 98.752792 \r\nL 419.252339 98.67131 \r\nL 420.988819 98.602075 \r\nL 422.725299 98.506893 \r\nL 424.461779 98.358948 \r\nL 426.19826 98.18464 \r\nL 427.93474 98.007933 \r\nL 429.67122 98.029976 \r\nL 431.4077 98.055609 \r\nL 433.14418 98.064571 \r\nL 434.88066 98.026247 \r\nL 436.617141 98.003202 \r\nL 438.353621 97.946029 \r\nL 440.090101 97.902778 \r\nL 441.826581 97.804972 \r\nL 443.563061 97.746789 \r\nL 445.299541 97.752823 \r\nL 447.036022 97.702748 \r\nL 448.772502 97.771071 \r\nL 450.508982 97.783757 \r\nL 452.245462 97.758167 \r\nL 453.981942 97.726035 \r\nL 455.718422 97.753303 \r\nL 457.454903 97.934439 \r\nL 459.191383 98.085549 \r\nL 460.927863 98.080426 \r\nL 462.664343 98.061285 \r\nL 464.400823 98.099562 \r\nL 466.137303 98.108095 \r\nL 467.873784 98.387775 \r\nL 469.610264 98.562612 \r\nL 471.346744 98.46805 \r\nL 473.083224 98.373488 \r\nL 474.819704 98.332275 \r\nL 476.556184 98.432808 \r\nL 478.292665 98.589244 \r\nL 480.029145 98.758304 \r\nL 481.765625 98.763448 \r\nL 481.765625 59.662424 \r\nL 481.765625 59.662424 \r\nL 480.029145 60.281878 \r\nL 478.292665 61.004358 \r\nL 476.556184 61.689838 \r\nL 474.819704 62.357972 \r\nL 473.083224 63.026433 \r\nL 471.346744 63.718931 \r\nL 469.610264 64.334146 \r\nL 467.873784 64.754297 \r\nL 466.137303 65.400696 \r\nL 464.400823 66.049994 \r\nL 462.664343 66.69779 \r\nL 460.927863 67.343906 \r\nL 459.191383 67.993362 \r\nL 457.454903 68.642817 \r\nL 455.718422 69.222734 \r\nL 453.981942 69.768302 \r\nL 452.245462 70.290264 \r\nL 450.508982 70.793593 \r\nL 448.772502 71.289244 \r\nL 447.036022 71.815556 \r\nL 445.299541 72.340545 \r\nL 443.563061 72.877908 \r\nL 441.826581 73.390528 \r\nL 440.090101 73.917949 \r\nL 438.353621 74.55031 \r\nL 436.617141 75.04409 \r\nL 434.88066 75.538064 \r\nL 433.14418 76.017484 \r\nL 431.4077 76.524082 \r\nL 429.67122 77.070209 \r\nL 427.93474 77.596761 \r\nL 426.19826 78.130957 \r\nL 424.461779 78.651399 \r\nL 422.725299 79.259332 \r\nL 420.988819 79.810869 \r\nL 419.252339 80.057849 \r\nL 417.515859 80.707014 \r\nL 415.779379 81.054856 \r\nL 414.042898 81.584959 \r\nL 412.306418 81.911717 \r\nL 410.569938 82.231035 \r\nL 408.833458 82.28202 \r\nL 407.096978 82.643535 \r\nL 405.360498 82.860938 \r\nL 403.624017 83.046604 \r\nL 401.887537 83.232271 \r\nL 400.151057 83.428334 \r\nL 398.414577 83.595968 \r\nL 396.678097 83.745831 \r\nL 394.941617 83.819003 \r\nL 393.205136 83.990769 \r\nL 391.468656 84.167088 \r\nL 389.732176 84.320132 \r\nL 387.995696 84.408522 \r\nL 386.259216 84.425699 \r\nL 384.522736 84.607044 \r\nL 382.786255 84.754026 \r\nL 381.049775 84.78917 \r\nL 379.313295 84.861141 \r\nL 377.576815 84.768338 \r\nL 375.840335 84.655462 \r\nL 374.103855 84.988053 \r\nL 372.367374 84.866708 \r\nL 370.630894 84.752916 \r\nL 368.894414 84.825579 \r\nL 367.157934 84.901534 \r\nL 365.421454 84.658014 \r\nL 363.684974 84.818512 \r\nL 361.948493 84.986614 \r\nL 360.212013 85.138808 \r\nL 358.475533 85.09683 \r\nL 356.739053 85.040322 \r\nL 355.002573 84.993198 \r\nL 353.266093 84.954378 \r\nL 351.529612 85.035592 \r\nL 349.793132 85.03681 \r\nL 348.056652 85.025656 \r\nL 346.320172 85.009501 \r\nL 344.583692 84.995818 \r\nL 342.847212 85.008408 \r\nL 341.110731 84.955635 \r\nL 339.374251 84.879527 \r\nL 337.637771 84.932786 \r\nL 335.901291 84.905784 \r\nL 334.164811 84.703972 \r\nL 332.428331 84.572401 \r\nL 330.69185 84.566914 \r\nL 328.95537 84.564488 \r\nL 327.21889 84.562062 \r\nL 325.48241 84.495516 \r\nL 323.74593 84.312135 \r\nL 322.00945 84.128755 \r\nL 320.272969 84.04272 \r\nL 318.536489 83.996445 \r\nL 316.800009 83.968313 \r\nL 315.063529 83.971479 \r\nL 313.327049 83.974645 \r\nL 311.590569 83.841659 \r\nL 309.854088 83.757413 \r\nz\r\n\" style=\"fill:#5081ac;fill-opacity:0.15;\"/>\r\n   </g>\r\n   <g id=\"matplotlib.axis_3\">\r\n    <g id=\"xtick_4\">\r\n     <g id=\"line2d_9\">\r\n      <g>\r\n       <use style=\"stroke:#000000;stroke-width:0.8;\" x=\"373.60893\" xlink:href=\"#m148714ce42\" y=\"176.358281\"/>\r\n      </g>\r\n     </g>\r\n     <g id=\"text_11\">\r\n      <!-- 100000 -->\r\n      <g transform=\"translate(354.52143 190.956719)scale(0.1 -0.1)\">\r\n       <use xlink:href=\"#DejaVuSans-31\"/>\r\n       <use x=\"63.623047\" xlink:href=\"#DejaVuSans-30\"/>\r\n       <use x=\"127.246094\" xlink:href=\"#DejaVuSans-30\"/>\r\n       <use x=\"190.869141\" xlink:href=\"#DejaVuSans-30\"/>\r\n       <use x=\"254.492188\" xlink:href=\"#DejaVuSans-30\"/>\r\n       <use x=\"318.115234\" xlink:href=\"#DejaVuSans-30\"/>\r\n      </g>\r\n     </g>\r\n    </g>\r\n    <g id=\"xtick_5\">\r\n     <g id=\"line2d_10\">\r\n      <g>\r\n       <use style=\"stroke:#000000;stroke-width:0.8;\" x=\"439.042993\" xlink:href=\"#m148714ce42\" y=\"176.358281\"/>\r\n      </g>\r\n     </g>\r\n     <g id=\"text_12\">\r\n      <!-- 150000 -->\r\n      <g transform=\"translate(419.955493 190.956719)scale(0.1 -0.1)\">\r\n       <use xlink:href=\"#DejaVuSans-31\"/>\r\n       <use x=\"63.623047\" xlink:href=\"#DejaVuSans-35\"/>\r\n       <use x=\"127.246094\" xlink:href=\"#DejaVuSans-30\"/>\r\n       <use x=\"190.869141\" xlink:href=\"#DejaVuSans-30\"/>\r\n       <use x=\"254.492188\" xlink:href=\"#DejaVuSans-30\"/>\r\n       <use x=\"318.115234\" xlink:href=\"#DejaVuSans-30\"/>\r\n      </g>\r\n     </g>\r\n    </g>\r\n    <g id=\"text_13\">\r\n     <!-- Administration -->\r\n     <g transform=\"translate(359.223919 204.634844)scale(0.1 -0.1)\">\r\n      <defs>\r\n       <path d=\"M 2188 4044 \r\nL 1331 1722 \r\nL 3047 1722 \r\nL 2188 4044 \r\nz\r\nM 1831 4666 \r\nL 2547 4666 \r\nL 4325 0 \r\nL 3669 0 \r\nL 3244 1197 \r\nL 1141 1197 \r\nL 716 0 \r\nL 50 0 \r\nL 1831 4666 \r\nz\r\n\" id=\"DejaVuSans-41\" transform=\"scale(0.015625)\"/>\r\n       <path d=\"M 3328 2828 \r\nQ 3544 3216 3844 3400 \r\nQ 4144 3584 4550 3584 \r\nQ 5097 3584 5394 3201 \r\nQ 5691 2819 5691 2113 \r\nL 5691 0 \r\nL 5113 0 \r\nL 5113 2094 \r\nQ 5113 2597 4934 2840 \r\nQ 4756 3084 4391 3084 \r\nQ 3944 3084 3684 2787 \r\nQ 3425 2491 3425 1978 \r\nL 3425 0 \r\nL 2847 0 \r\nL 2847 2094 \r\nQ 2847 2600 2669 2842 \r\nQ 2491 3084 2119 3084 \r\nQ 1678 3084 1418 2786 \r\nQ 1159 2488 1159 1978 \r\nL 1159 0 \r\nL 581 0 \r\nL 581 3500 \r\nL 1159 3500 \r\nL 1159 2956 \r\nQ 1356 3278 1631 3431 \r\nQ 1906 3584 2284 3584 \r\nQ 2666 3584 2933 3390 \r\nQ 3200 3197 3328 2828 \r\nz\r\n\" id=\"DejaVuSans-6d\" transform=\"scale(0.015625)\"/>\r\n       <path d=\"M 2834 3397 \r\nL 2834 2853 \r\nQ 2591 2978 2328 3040 \r\nQ 2066 3103 1784 3103 \r\nQ 1356 3103 1142 2972 \r\nQ 928 2841 928 2578 \r\nQ 928 2378 1081 2264 \r\nQ 1234 2150 1697 2047 \r\nL 1894 2003 \r\nQ 2506 1872 2764 1633 \r\nQ 3022 1394 3022 966 \r\nQ 3022 478 2636 193 \r\nQ 2250 -91 1575 -91 \r\nQ 1294 -91 989 -36 \r\nQ 684 19 347 128 \r\nL 347 722 \r\nQ 666 556 975 473 \r\nQ 1284 391 1588 391 \r\nQ 1994 391 2212 530 \r\nQ 2431 669 2431 922 \r\nQ 2431 1156 2273 1281 \r\nQ 2116 1406 1581 1522 \r\nL 1381 1569 \r\nQ 847 1681 609 1914 \r\nQ 372 2147 372 2553 \r\nQ 372 3047 722 3315 \r\nQ 1072 3584 1716 3584 \r\nQ 2034 3584 2315 3537 \r\nQ 2597 3491 2834 3397 \r\nz\r\n\" id=\"DejaVuSans-73\" transform=\"scale(0.015625)\"/>\r\n       <path d=\"M 2194 1759 \r\nQ 1497 1759 1228 1600 \r\nQ 959 1441 959 1056 \r\nQ 959 750 1161 570 \r\nQ 1363 391 1709 391 \r\nQ 2188 391 2477 730 \r\nQ 2766 1069 2766 1631 \r\nL 2766 1759 \r\nL 2194 1759 \r\nz\r\nM 3341 1997 \r\nL 3341 0 \r\nL 2766 0 \r\nL 2766 531 \r\nQ 2569 213 2275 61 \r\nQ 1981 -91 1556 -91 \r\nQ 1019 -91 701 211 \r\nQ 384 513 384 1019 \r\nQ 384 1609 779 1909 \r\nQ 1175 2209 1959 2209 \r\nL 2766 2209 \r\nL 2766 2266 \r\nQ 2766 2663 2505 2880 \r\nQ 2244 3097 1772 3097 \r\nQ 1472 3097 1187 3025 \r\nQ 903 2953 641 2809 \r\nL 641 3341 \r\nQ 956 3463 1253 3523 \r\nQ 1550 3584 1831 3584 \r\nQ 2591 3584 2966 3190 \r\nQ 3341 2797 3341 1997 \r\nz\r\n\" id=\"DejaVuSans-61\" transform=\"scale(0.015625)\"/>\r\n      </defs>\r\n      <use xlink:href=\"#DejaVuSans-41\"/>\r\n      <use x=\"66.658203\" xlink:href=\"#DejaVuSans-64\"/>\r\n      <use x=\"130.134766\" xlink:href=\"#DejaVuSans-6d\"/>\r\n      <use x=\"227.546875\" xlink:href=\"#DejaVuSans-69\"/>\r\n      <use x=\"255.330078\" xlink:href=\"#DejaVuSans-6e\"/>\r\n      <use x=\"318.708984\" xlink:href=\"#DejaVuSans-69\"/>\r\n      <use x=\"346.492188\" xlink:href=\"#DejaVuSans-73\"/>\r\n      <use x=\"398.591797\" xlink:href=\"#DejaVuSans-74\"/>\r\n      <use x=\"437.800781\" xlink:href=\"#DejaVuSans-72\"/>\r\n      <use x=\"478.914062\" xlink:href=\"#DejaVuSans-61\"/>\r\n      <use x=\"540.193359\" xlink:href=\"#DejaVuSans-74\"/>\r\n      <use x=\"579.402344\" xlink:href=\"#DejaVuSans-69\"/>\r\n      <use x=\"607.185547\" xlink:href=\"#DejaVuSans-6f\"/>\r\n      <use x=\"668.367188\" xlink:href=\"#DejaVuSans-6e\"/>\r\n     </g>\r\n    </g>\r\n   </g>\r\n   <g id=\"matplotlib.axis_4\">\r\n    <g id=\"ytick_5\">\r\n     <g id=\"line2d_11\">\r\n      <g>\r\n       <use style=\"stroke:#000000;stroke-width:0.8;\" x=\"309.854088\" xlink:href=\"#me48a7b78d9\" y=\"141.332965\"/>\r\n      </g>\r\n     </g>\r\n     <g id=\"text_14\">\r\n      <!-- 50000 -->\r\n      <g transform=\"translate(271.041588 145.132184)scale(0.1 -0.1)\">\r\n       <use xlink:href=\"#DejaVuSans-35\"/>\r\n       <use x=\"63.623047\" xlink:href=\"#DejaVuSans-30\"/>\r\n       <use x=\"127.246094\" xlink:href=\"#DejaVuSans-30\"/>\r\n       <use x=\"190.869141\" xlink:href=\"#DejaVuSans-30\"/>\r\n       <use x=\"254.492188\" xlink:href=\"#DejaVuSans-30\"/>\r\n      </g>\r\n     </g>\r\n    </g>\r\n    <g id=\"ytick_6\">\r\n     <g id=\"line2d_12\">\r\n      <g>\r\n       <use style=\"stroke:#000000;stroke-width:0.8;\" x=\"309.854088\" xlink:href=\"#me48a7b78d9\" y=\"101.709434\"/>\r\n      </g>\r\n     </g>\r\n     <g id=\"text_15\">\r\n      <!-- 100000 -->\r\n      <g transform=\"translate(264.679088 105.508653)scale(0.1 -0.1)\">\r\n       <use xlink:href=\"#DejaVuSans-31\"/>\r\n       <use x=\"63.623047\" xlink:href=\"#DejaVuSans-30\"/>\r\n       <use x=\"127.246094\" xlink:href=\"#DejaVuSans-30\"/>\r\n       <use x=\"190.869141\" xlink:href=\"#DejaVuSans-30\"/>\r\n       <use x=\"254.492188\" xlink:href=\"#DejaVuSans-30\"/>\r\n       <use x=\"318.115234\" xlink:href=\"#DejaVuSans-30\"/>\r\n      </g>\r\n     </g>\r\n    </g>\r\n    <g id=\"ytick_7\">\r\n     <g id=\"line2d_13\">\r\n      <g>\r\n       <use style=\"stroke:#000000;stroke-width:0.8;\" x=\"309.854088\" xlink:href=\"#me48a7b78d9\" y=\"62.085903\"/>\r\n      </g>\r\n     </g>\r\n     <g id=\"text_16\">\r\n      <!-- 150000 -->\r\n      <g transform=\"translate(264.679088 65.885122)scale(0.1 -0.1)\">\r\n       <use xlink:href=\"#DejaVuSans-31\"/>\r\n       <use x=\"63.623047\" xlink:href=\"#DejaVuSans-35\"/>\r\n       <use x=\"127.246094\" xlink:href=\"#DejaVuSans-30\"/>\r\n       <use x=\"190.869141\" xlink:href=\"#DejaVuSans-30\"/>\r\n       <use x=\"254.492188\" xlink:href=\"#DejaVuSans-30\"/>\r\n       <use x=\"318.115234\" xlink:href=\"#DejaVuSans-30\"/>\r\n      </g>\r\n     </g>\r\n    </g>\r\n    <g id=\"ytick_8\">\r\n     <g id=\"line2d_14\">\r\n      <g>\r\n       <use style=\"stroke:#000000;stroke-width:0.8;\" x=\"309.854088\" xlink:href=\"#me48a7b78d9\" y=\"22.462373\"/>\r\n      </g>\r\n     </g>\r\n     <g id=\"text_17\">\r\n      <!-- 200000 -->\r\n      <g transform=\"translate(264.679088 26.261591)scale(0.1 -0.1)\">\r\n       <use xlink:href=\"#DejaVuSans-32\"/>\r\n       <use x=\"63.623047\" xlink:href=\"#DejaVuSans-30\"/>\r\n       <use x=\"127.246094\" xlink:href=\"#DejaVuSans-30\"/>\r\n       <use x=\"190.869141\" xlink:href=\"#DejaVuSans-30\"/>\r\n       <use x=\"254.492188\" xlink:href=\"#DejaVuSans-30\"/>\r\n       <use x=\"318.115234\" xlink:href=\"#DejaVuSans-30\"/>\r\n      </g>\r\n     </g>\r\n    </g>\r\n    <g id=\"text_18\">\r\n     <!-- Profit -->\r\n     <g transform=\"translate(258.599401 111.997344)rotate(-90)scale(0.1 -0.1)\">\r\n      <use xlink:href=\"#DejaVuSans-50\"/>\r\n      <use x=\"58.552734\" xlink:href=\"#DejaVuSans-72\"/>\r\n      <use x=\"97.416016\" xlink:href=\"#DejaVuSans-6f\"/>\r\n      <use x=\"158.597656\" xlink:href=\"#DejaVuSans-66\"/>\r\n      <use x=\"193.802734\" xlink:href=\"#DejaVuSans-69\"/>\r\n      <use x=\"221.585938\" xlink:href=\"#DejaVuSans-74\"/>\r\n     </g>\r\n    </g>\r\n   </g>\r\n   <g id=\"line2d_15\">\r\n    <path clip-path=\"url(#p8d21c2c93c)\" d=\"M 309.854088 108.221611 \r\nL 311.590569 107.917985 \r\nL 313.327049 107.614358 \r\nL 315.063529 107.310731 \r\nL 316.800009 107.007105 \r\nL 318.536489 106.703478 \r\nL 320.272969 106.399851 \r\nL 322.00945 106.096225 \r\nL 323.74593 105.792598 \r\nL 325.48241 105.488971 \r\nL 327.21889 105.185345 \r\nL 328.95537 104.881718 \r\nL 330.69185 104.578091 \r\nL 332.428331 104.274465 \r\nL 334.164811 103.970838 \r\nL 335.901291 103.667211 \r\nL 337.637771 103.363585 \r\nL 339.374251 103.059958 \r\nL 341.110731 102.756331 \r\nL 342.847212 102.452705 \r\nL 344.583692 102.149078 \r\nL 346.320172 101.845451 \r\nL 348.056652 101.541825 \r\nL 349.793132 101.238198 \r\nL 351.529612 100.934571 \r\nL 353.266093 100.630945 \r\nL 355.002573 100.327318 \r\nL 356.739053 100.023691 \r\nL 358.475533 99.720065 \r\nL 360.212013 99.416438 \r\nL 361.948493 99.112811 \r\nL 363.684974 98.809185 \r\nL 365.421454 98.505558 \r\nL 367.157934 98.201931 \r\nL 368.894414 97.898305 \r\nL 370.630894 97.594678 \r\nL 372.367374 97.291051 \r\nL 374.103855 96.987425 \r\nL 375.840335 96.683798 \r\nL 377.576815 96.380171 \r\nL 379.313295 96.076545 \r\nL 381.049775 95.772918 \r\nL 382.786255 95.469291 \r\nL 384.522736 95.165665 \r\nL 386.259216 94.862038 \r\nL 387.995696 94.558411 \r\nL 389.732176 94.254785 \r\nL 391.468656 93.951158 \r\nL 393.205136 93.647531 \r\nL 394.941617 93.343905 \r\nL 396.678097 93.040278 \r\nL 398.414577 92.736651 \r\nL 400.151057 92.433025 \r\nL 401.887537 92.129398 \r\nL 403.624017 91.825771 \r\nL 405.360498 91.522145 \r\nL 407.096978 91.218518 \r\nL 408.833458 90.914891 \r\nL 410.569938 90.611265 \r\nL 412.306418 90.307638 \r\nL 414.042898 90.004011 \r\nL 415.779379 89.700385 \r\nL 417.515859 89.396758 \r\nL 419.252339 89.093131 \r\nL 420.988819 88.789505 \r\nL 422.725299 88.485878 \r\nL 424.461779 88.182251 \r\nL 426.19826 87.878625 \r\nL 427.93474 87.574998 \r\nL 429.67122 87.271372 \r\nL 431.4077 86.967745 \r\nL 433.14418 86.664118 \r\nL 434.88066 86.360492 \r\nL 436.617141 86.056865 \r\nL 438.353621 85.753238 \r\nL 440.090101 85.449612 \r\nL 441.826581 85.145985 \r\nL 443.563061 84.842358 \r\nL 445.299541 84.538732 \r\nL 447.036022 84.235105 \r\nL 448.772502 83.931478 \r\nL 450.508982 83.627852 \r\nL 452.245462 83.324225 \r\nL 453.981942 83.020598 \r\nL 455.718422 82.716972 \r\nL 457.454903 82.413345 \r\nL 459.191383 82.109718 \r\nL 460.927863 81.806092 \r\nL 462.664343 81.502465 \r\nL 464.400823 81.198838 \r\nL 466.137303 80.895212 \r\nL 467.873784 80.591585 \r\nL 469.610264 80.287958 \r\nL 471.346744 79.984332 \r\nL 473.083224 79.680705 \r\nL 474.819704 79.377078 \r\nL 476.556184 79.073452 \r\nL 478.292665 78.769825 \r\nL 480.029145 78.466198 \r\nL 481.765625 78.162572 \r\n\" style=\"fill:none;stroke:#5081ac;stroke-linecap:square;stroke-width:2.25;\"/>\r\n   </g>\r\n   <g id=\"patch_8\">\r\n    <path d=\"M 309.854088 176.358281 \r\nL 309.854088 21.558281 \r\n\" style=\"fill:none;stroke:#000000;stroke-linecap:square;stroke-linejoin:miter;stroke-width:0.8;\"/>\r\n   </g>\r\n   <g id=\"patch_9\">\r\n    <path d=\"M 481.765625 176.358281 \r\nL 481.765625 21.558281 \r\n\" style=\"fill:none;stroke:#000000;stroke-linecap:square;stroke-linejoin:miter;stroke-width:0.8;\"/>\r\n   </g>\r\n   <g id=\"patch_10\">\r\n    <path d=\"M 309.854088 176.358281 \r\nL 481.765625 176.358281 \r\n\" style=\"fill:none;stroke:#000000;stroke-linecap:square;stroke-linejoin:miter;stroke-width:0.8;\"/>\r\n   </g>\r\n   <g id=\"patch_11\">\r\n    <path d=\"M 309.854088 21.558281 \r\nL 481.765625 21.558281 \r\n\" style=\"fill:none;stroke:#000000;stroke-linecap:square;stroke-linejoin:miter;stroke-width:0.8;\"/>\r\n   </g>\r\n   <g id=\"text_19\">\r\n    <!-- r = 0.20      p = 0.16 -->\r\n    <g transform=\"translate(338.867669 15.558281)scale(0.11 -0.11)\">\r\n     <defs>\r\n      <path d=\"M 2113 2584 \r\nQ 1688 2584 1439 2293 \r\nQ 1191 2003 1191 1497 \r\nQ 1191 994 1439 701 \r\nQ 1688 409 2113 409 \r\nQ 2538 409 2786 701 \r\nQ 3034 994 3034 1497 \r\nQ 3034 2003 2786 2293 \r\nQ 2538 2584 2113 2584 \r\nz\r\nM 3366 4563 \r\nL 3366 3988 \r\nQ 3128 4100 2886 4159 \r\nQ 2644 4219 2406 4219 \r\nQ 1781 4219 1451 3797 \r\nQ 1122 3375 1075 2522 \r\nQ 1259 2794 1537 2939 \r\nQ 1816 3084 2150 3084 \r\nQ 2853 3084 3261 2657 \r\nQ 3669 2231 3669 1497 \r\nQ 3669 778 3244 343 \r\nQ 2819 -91 2113 -91 \r\nQ 1303 -91 875 529 \r\nQ 447 1150 447 2328 \r\nQ 447 3434 972 4092 \r\nQ 1497 4750 2381 4750 \r\nQ 2619 4750 2861 4703 \r\nQ 3103 4656 3366 4563 \r\nz\r\n\" id=\"DejaVuSans-36\" transform=\"scale(0.015625)\"/>\r\n     </defs>\r\n     <use xlink:href=\"#DejaVuSans-72\"/>\r\n     <use x=\"41.113281\" xlink:href=\"#DejaVuSans-20\"/>\r\n     <use x=\"72.900391\" xlink:href=\"#DejaVuSans-3d\"/>\r\n     <use x=\"156.689453\" xlink:href=\"#DejaVuSans-20\"/>\r\n     <use x=\"188.476562\" xlink:href=\"#DejaVuSans-30\"/>\r\n     <use x=\"252.099609\" xlink:href=\"#DejaVuSans-2e\"/>\r\n     <use x=\"283.886719\" xlink:href=\"#DejaVuSans-32\"/>\r\n     <use x=\"347.509766\" xlink:href=\"#DejaVuSans-30\"/>\r\n     <use x=\"411.132812\" xlink:href=\"#DejaVuSans-20\"/>\r\n     <use x=\"442.919922\" xlink:href=\"#DejaVuSans-20\"/>\r\n     <use x=\"474.707031\" xlink:href=\"#DejaVuSans-20\"/>\r\n     <use x=\"506.494141\" xlink:href=\"#DejaVuSans-20\"/>\r\n     <use x=\"538.28125\" xlink:href=\"#DejaVuSans-20\"/>\r\n     <use x=\"570.068359\" xlink:href=\"#DejaVuSans-20\"/>\r\n     <use x=\"601.855469\" xlink:href=\"#DejaVuSans-70\"/>\r\n     <use x=\"665.332031\" xlink:href=\"#DejaVuSans-20\"/>\r\n     <use x=\"697.119141\" xlink:href=\"#DejaVuSans-3d\"/>\r\n     <use x=\"780.908203\" xlink:href=\"#DejaVuSans-20\"/>\r\n     <use x=\"812.695312\" xlink:href=\"#DejaVuSans-30\"/>\r\n     <use x=\"876.318359\" xlink:href=\"#DejaVuSans-2e\"/>\r\n     <use x=\"908.105469\" xlink:href=\"#DejaVuSans-31\"/>\r\n     <use x=\"971.728516\" xlink:href=\"#DejaVuSans-36\"/>\r\n    </g>\r\n   </g>\r\n  </g>\r\n  <g id=\"axes_3\">\r\n   <g id=\"patch_12\">\r\n    <path d=\"M 66.053125 386.958281 \r\nL 237.964662 386.958281 \r\nL 237.964662 232.158281 \r\nL 66.053125 232.158281 \r\nz\r\n\" style=\"fill:#ffffff;\"/>\r\n   </g>\r\n   <g id=\"PathCollection_3\">\r\n    <g clip-path=\"url(#pe052bd3e53)\">\r\n     <use style=\"fill:#5081ac;fill-opacity:0.8;stroke:#5081ac;stroke-opacity:0.8;\" x=\"237.964662\" xlink:href=\"#mbdc0ff6fef\" y=\"239.194645\"/>\r\n     <use style=\"fill:#5081ac;fill-opacity:0.8;stroke:#5081ac;stroke-opacity:0.8;\" x=\"227.762377\" xlink:href=\"#mbdc0ff6fef\" y=\"239.566924\"/>\r\n     <use style=\"fill:#5081ac;fill-opacity:0.8;stroke:#5081ac;stroke-opacity:0.8;\" x=\"214.604502\" xlink:href=\"#mbdc0ff6fef\" y=\"240.154675\"/>\r\n     <use style=\"fill:#5081ac;fill-opacity:0.8;stroke:#5081ac;stroke-opacity:0.8;\" x=\"205.554922\" xlink:href=\"#mbdc0ff6fef\" y=\"246.612043\"/>\r\n     <use style=\"fill:#5081ac;fill-opacity:0.8;stroke:#5081ac;stroke-opacity:0.8;\" x=\"199.323844\" xlink:href=\"#mbdc0ff6fef\" y=\"259.857437\"/>\r\n     <use style=\"fill:#5081ac;fill-opacity:0.8;stroke:#5081ac;stroke-opacity:0.8;\" x=\"198.113915\" xlink:href=\"#mbdc0ff6fef\" y=\"267.145646\"/>\r\n     <use style=\"fill:#5081ac;fill-opacity:0.8;stroke:#5081ac;stroke-opacity:0.8;\" x=\"112.083344\" xlink:href=\"#mbdc0ff6fef\" y=\"267.833994\"/>\r\n     <use style=\"fill:#5081ac;fill-opacity:0.8;stroke:#5081ac;stroke-opacity:0.8;\" x=\"183.850882\" xlink:href=\"#mbdc0ff6fef\" y=\"268.127137\"/>\r\n     <use style=\"fill:#5081ac;fill-opacity:0.8;stroke:#5081ac;stroke-opacity:0.8;\" x=\"179.364168\" xlink:href=\"#mbdc0ff6fef\" y=\"270.933141\"/>\r\n     <use style=\"fill:#5081ac;fill-opacity:0.8;stroke:#5081ac;stroke-opacity:0.8;\" x=\"176.937888\" xlink:href=\"#mbdc0ff6fef\" y=\"272.876128\"/>\r\n     <use style=\"fill:#5081ac;fill-opacity:0.8;stroke:#5081ac;stroke-opacity:0.8;\" x=\"149.197948\" xlink:href=\"#mbdc0ff6fef\" y=\"275.759144\"/>\r\n     <use style=\"fill:#5081ac;fill-opacity:0.8;stroke:#5081ac;stroke-opacity:0.8;\" x=\"156.728715\" xlink:href=\"#mbdc0ff6fef\" y=\"277.23516\"/>\r\n     <use style=\"fill:#5081ac;fill-opacity:0.8;stroke:#5081ac;stroke-opacity:0.8;\" x=\"156.763432\" xlink:href=\"#mbdc0ff6fef\" y=\"279.354131\"/>\r\n     <use style=\"fill:#5081ac;fill-opacity:0.8;stroke:#5081ac;stroke-opacity:0.8;\" x=\"157.797173\" xlink:href=\"#mbdc0ff6fef\" y=\"285.121867\"/>\r\n     <use style=\"fill:#5081ac;fill-opacity:0.8;stroke:#5081ac;stroke-opacity:0.8;\" x=\"159.205008\" xlink:href=\"#mbdc0ff6fef\" y=\"286.472792\"/>\r\n     <use style=\"fill:#5081ac;fill-opacity:0.8;stroke:#5081ac;stroke-opacity:0.8;\" x=\"161.130656\" xlink:href=\"#mbdc0ff6fef\" y=\"288.601059\"/>\r\n     <use style=\"fill:#5081ac;fill-opacity:0.8;stroke:#5081ac;stroke-opacity:0.8;\" x=\"162.07086\" xlink:href=\"#mbdc0ff6fef\" y=\"290.91833\"/>\r\n     <use style=\"fill:#5081ac;fill-opacity:0.8;stroke:#5081ac;stroke-opacity:0.8;\" x=\"168.739894\" xlink:href=\"#mbdc0ff6fef\" y=\"292.204161\"/>\r\n     <use style=\"fill:#5081ac;fill-opacity:0.8;stroke:#5081ac;stroke-opacity:0.8;\" x=\"173.256561\" xlink:href=\"#mbdc0ff6fef\" y=\"293.078629\"/>\r\n     <use style=\"fill:#5081ac;fill-opacity:0.8;stroke:#5081ac;stroke-opacity:0.8;\" x=\"147.490773\" xlink:href=\"#mbdc0ff6fef\" y=\"294.259442\"/>\r\n     <use style=\"fill:#5081ac;fill-opacity:0.8;stroke:#5081ac;stroke-opacity:0.8;\" x=\"174.62668\" xlink:href=\"#mbdc0ff6fef\" y=\"297.669308\"/>\r\n     <use style=\"fill:#5081ac;fill-opacity:0.8;stroke:#5081ac;stroke-opacity:0.8;\" x=\"175.019185\" xlink:href=\"#mbdc0ff6fef\" y=\"303.344198\"/>\r\n     <use style=\"fill:#5081ac;fill-opacity:0.8;stroke:#5081ac;stroke-opacity:0.8;\" x=\"176.329693\" xlink:href=\"#mbdc0ff6fef\" y=\"304.10558\"/>\r\n     <use style=\"fill:#5081ac;fill-opacity:0.8;stroke:#5081ac;stroke-opacity:0.8;\" x=\"176.86\" xlink:href=\"#mbdc0ff6fef\" y=\"305.388004\"/>\r\n     <use style=\"fill:#5081ac;fill-opacity:0.8;stroke:#5081ac;stroke-opacity:0.8;\" x=\"116.787601\" xlink:href=\"#mbdc0ff6fef\" y=\"305.532194\"/>\r\n     <use style=\"fill:#5081ac;fill-opacity:0.8;stroke:#5081ac;stroke-opacity:0.8;\" x=\"115.831898\" xlink:href=\"#mbdc0ff6fef\" y=\"306.441712\"/>\r\n     <use style=\"fill:#5081ac;fill-opacity:0.8;stroke:#5081ac;stroke-opacity:0.8;\" x=\"114.400443\" xlink:href=\"#mbdc0ff6fef\" y=\"307.765772\"/>\r\n     <use style=\"fill:#5081ac;fill-opacity:0.8;stroke:#5081ac;stroke-opacity:0.8;\" x=\"194.573262\" xlink:href=\"#mbdc0ff6fef\" y=\"308.340496\"/>\r\n     <use style=\"fill:#5081ac;fill-opacity:0.8;stroke:#5081ac;stroke-opacity:0.8;\" x=\"108.582545\" xlink:href=\"#mbdc0ff6fef\" y=\"309.708244\"/>\r\n     <use style=\"fill:#5081ac;fill-opacity:0.8;stroke:#5081ac;stroke-opacity:0.8;\" x=\"104.554465\" xlink:href=\"#mbdc0ff6fef\" y=\"311.513286\"/>\r\n     <use style=\"fill:#5081ac;fill-opacity:0.8;stroke:#5081ac;stroke-opacity:0.8;\" x=\"98.698052\" xlink:href=\"#mbdc0ff6fef\" y=\"312.358892\"/>\r\n     <use style=\"fill:#5081ac;fill-opacity:0.8;stroke:#5081ac;stroke-opacity:0.8;\" x=\"97.632291\" xlink:href=\"#mbdc0ff6fef\" y=\"314.303639\"/>\r\n     <use style=\"fill:#5081ac;fill-opacity:0.8;stroke:#5081ac;stroke-opacity:0.8;\" x=\"82.217413\" xlink:href=\"#mbdc0ff6fef\" y=\"314.347795\"/>\r\n     <use style=\"fill:#5081ac;fill-opacity:0.8;stroke:#5081ac;stroke-opacity:0.8;\" x=\"143.883378\" xlink:href=\"#mbdc0ff6fef\" y=\"314.862045\"/>\r\n     <use style=\"fill:#5081ac;fill-opacity:0.8;stroke:#5081ac;stroke-opacity:0.8;\" x=\"142.479512\" xlink:href=\"#mbdc0ff6fef\" y=\"314.914444\"/>\r\n     <use style=\"fill:#5081ac;fill-opacity:0.8;stroke:#5081ac;stroke-opacity:0.8;\" x=\"140.547747\" xlink:href=\"#mbdc0ff6fef\" y=\"315.099319\"/>\r\n     <use style=\"fill:#5081ac;fill-opacity:0.8;stroke:#5081ac;stroke-opacity:0.8;\" x=\"138.941311\" xlink:href=\"#mbdc0ff6fef\" y=\"319.672921\"/>\r\n     <use style=\"fill:#5081ac;fill-opacity:0.8;stroke:#5081ac;stroke-opacity:0.8;\" x=\"137.442226\" xlink:href=\"#mbdc0ff6fef\" y=\"320.274445\"/>\r\n     <use style=\"fill:#5081ac;fill-opacity:0.8;stroke:#5081ac;stroke-opacity:0.8;\" x=\"133.138102\" xlink:href=\"#mbdc0ff6fef\" y=\"327.184853\"/>\r\n     <use style=\"fill:#5081ac;fill-opacity:0.8;stroke:#5081ac;stroke-opacity:0.8;\" x=\"129.382231\" xlink:href=\"#mbdc0ff6fef\" y=\"327.361811\"/>\r\n     <use style=\"fill:#5081ac;fill-opacity:0.8;stroke:#5081ac;stroke-opacity:0.8;\" x=\"128.576005\" xlink:href=\"#mbdc0ff6fef\" y=\"329.553666\"/>\r\n     <use style=\"fill:#5081ac;fill-opacity:0.8;stroke:#5081ac;stroke-opacity:0.8;\" x=\"125.530215\" xlink:href=\"#mbdc0ff6fef\" y=\"329.903209\"/>\r\n     <use style=\"fill:#5081ac;fill-opacity:0.8;stroke:#5081ac;stroke-opacity:0.8;\" x=\"119.504605\" xlink:href=\"#mbdc0ff6fef\" y=\"334.896043\"/>\r\n     <use style=\"fill:#5081ac;fill-opacity:0.8;stroke:#5081ac;stroke-opacity:0.8;\" x=\"78.357169\" xlink:href=\"#mbdc0ff6fef\" y=\"336.274554\"/>\r\n     <use style=\"fill:#5081ac;fill-opacity:0.8;stroke:#5081ac;stroke-opacity:0.8;\" x=\"75.72316\" xlink:href=\"#mbdc0ff6fef\" y=\"339.88715\"/>\r\n     <use style=\"fill:#5081ac;fill-opacity:0.8;stroke:#5081ac;stroke-opacity:0.8;\" x=\"66.053125\" xlink:href=\"#mbdc0ff6fef\" y=\"340.104485\"/>\r\n     <use style=\"fill:#5081ac;fill-opacity:0.8;stroke:#5081ac;stroke-opacity:0.8;\" x=\"174.059589\" xlink:href=\"#mbdc0ff6fef\" y=\"352.336531\"/>\r\n     <use style=\"fill:#5081ac;fill-opacity:0.8;stroke:#5081ac;stroke-opacity:0.8;\" x=\"147.490773\" xlink:href=\"#mbdc0ff6fef\" y=\"357.82916\"/>\r\n     <use style=\"fill:#5081ac;fill-opacity:0.8;stroke:#5081ac;stroke-opacity:0.8;\" x=\"147.490773\" xlink:href=\"#mbdc0ff6fef\" y=\"363.286367\"/>\r\n     <use style=\"fill:#5081ac;fill-opacity:0.8;stroke:#5081ac;stroke-opacity:0.8;\" x=\"81.883677\" xlink:href=\"#mbdc0ff6fef\" y=\"379.921918\"/>\r\n    </g>\r\n   </g>\r\n   <g id=\"PolyCollection_3\">\r\n    <path clip-path=\"url(#pe052bd3e53)\" d=\"M 66.053125 333.865745 \r\nL 66.053125 361.431056 \r\nL 67.789605 360.264901 \r\nL 69.526085 359.042206 \r\nL 71.262566 357.819511 \r\nL 72.999046 356.596817 \r\nL 74.735526 355.376178 \r\nL 76.472006 354.3191 \r\nL 78.208486 353.262021 \r\nL 79.944966 352.204942 \r\nL 81.681447 351.147864 \r\nL 83.417927 350.090785 \r\nL 85.154407 349.033706 \r\nL 86.890887 347.976627 \r\nL 88.627367 346.820145 \r\nL 90.363847 345.554698 \r\nL 92.100328 344.286389 \r\nL 93.836808 343.018081 \r\nL 95.573288 341.749772 \r\nL 97.309768 340.538034 \r\nL 99.046248 339.348652 \r\nL 100.782728 338.253906 \r\nL 102.519209 337.205103 \r\nL 104.255689 335.9794 \r\nL 105.992169 334.788439 \r\nL 107.728649 333.718486 \r\nL 109.465129 332.48536 \r\nL 111.201609 331.250801 \r\nL 112.93809 330.014903 \r\nL 114.67457 328.779005 \r\nL 116.41105 327.708049 \r\nL 118.14753 326.548696 \r\nL 119.88401 325.335655 \r\nL 121.62049 324.224826 \r\nL 123.356971 323.179225 \r\nL 125.093451 322.133624 \r\nL 126.829931 321.088023 \r\nL 128.566411 320.052925 \r\nL 130.302891 319.003963 \r\nL 132.039371 318.040663 \r\nL 133.775852 316.984687 \r\nL 135.512332 315.912738 \r\nL 137.248812 314.894935 \r\nL 138.985292 313.900303 \r\nL 140.721772 312.889165 \r\nL 142.458252 311.919837 \r\nL 144.194733 310.923322 \r\nL 145.931213 309.953301 \r\nL 147.667693 309.105795 \r\nL 149.404173 308.194026 \r\nL 151.140653 307.311216 \r\nL 152.877133 306.408655 \r\nL 154.613614 305.521104 \r\nL 156.350094 304.727539 \r\nL 158.086574 303.803456 \r\nL 159.823054 303.028193 \r\nL 161.559534 302.257143 \r\nL 163.296014 301.491686 \r\nL 165.032495 300.667789 \r\nL 166.768975 299.961559 \r\nL 168.505455 299.277159 \r\nL 170.241935 298.582152 \r\nL 171.978415 297.80004 \r\nL 173.714895 296.929071 \r\nL 175.451376 296.140757 \r\nL 177.187856 295.375709 \r\nL 178.924336 294.672319 \r\nL 180.660816 293.898944 \r\nL 182.397296 293.174817 \r\nL 184.133776 292.449259 \r\nL 185.870257 291.721838 \r\nL 187.606737 290.994417 \r\nL 189.343217 290.266995 \r\nL 191.079697 289.539574 \r\nL 192.816177 288.812153 \r\nL 194.552657 288.161674 \r\nL 196.289138 287.591771 \r\nL 198.025618 286.844739 \r\nL 199.762098 286.209168 \r\nL 201.498578 285.561097 \r\nL 203.235058 284.781331 \r\nL 204.971538 284.011237 \r\nL 206.708019 283.22712 \r\nL 208.444499 282.467367 \r\nL 210.180979 281.864954 \r\nL 211.917459 281.181936 \r\nL 213.653939 280.316047 \r\nL 215.390419 279.450157 \r\nL 217.1269 278.707619 \r\nL 218.86338 278.054499 \r\nL 220.59986 277.39875 \r\nL 222.33634 276.743 \r\nL 224.07282 276.087251 \r\nL 225.8093 275.431502 \r\nL 227.545781 274.775752 \r\nL 229.282261 274.120003 \r\nL 231.018741 273.464254 \r\nL 232.755221 272.808505 \r\nL 234.491701 272.152755 \r\nL 236.228181 271.498004 \r\nL 237.964662 270.845286 \r\nL 237.964662 239.708942 \r\nL 237.964662 239.708942 \r\nL 236.228181 240.788496 \r\nL 234.491701 241.90021 \r\nL 232.755221 243.114236 \r\nL 231.018741 244.23054 \r\nL 229.282261 245.4596 \r\nL 227.545781 246.57018 \r\nL 225.8093 247.677555 \r\nL 224.07282 248.785901 \r\nL 222.33634 249.894851 \r\nL 220.59986 251.004352 \r\nL 218.86338 252.114875 \r\nL 217.1269 253.225398 \r\nL 215.390419 254.389377 \r\nL 213.653939 255.540884 \r\nL 211.917459 256.682486 \r\nL 210.180979 257.798878 \r\nL 208.444499 259.04682 \r\nL 206.708019 260.249636 \r\nL 204.971538 261.423502 \r\nL 203.235058 262.593428 \r\nL 201.498578 263.765832 \r\nL 199.762098 264.939962 \r\nL 198.025618 266.123627 \r\nL 196.289138 267.284432 \r\nL 194.552657 268.456425 \r\nL 192.816177 269.557531 \r\nL 191.079697 270.823391 \r\nL 189.343217 271.974509 \r\nL 187.606737 273.019365 \r\nL 185.870257 274.096162 \r\nL 184.133776 275.181697 \r\nL 182.397296 276.270101 \r\nL 180.660816 277.338141 \r\nL 178.924336 278.312897 \r\nL 177.187856 279.406296 \r\nL 175.451376 280.51497 \r\nL 173.714895 281.692668 \r\nL 171.978415 282.802002 \r\nL 170.241935 283.800596 \r\nL 168.505455 284.88068 \r\nL 166.768975 285.934891 \r\nL 165.032495 286.863241 \r\nL 163.296014 287.82201 \r\nL 161.559534 288.771433 \r\nL 159.823054 289.687823 \r\nL 158.086574 290.678507 \r\nL 156.350094 291.717042 \r\nL 154.613614 292.577247 \r\nL 152.877133 293.510115 \r\nL 151.140653 294.456583 \r\nL 149.404173 295.453931 \r\nL 147.667693 296.352906 \r\nL 145.931213 297.249039 \r\nL 144.194733 298.222004 \r\nL 142.458252 299.059916 \r\nL 140.721772 300.036726 \r\nL 138.985292 300.969678 \r\nL 137.248812 301.814419 \r\nL 135.512332 302.747091 \r\nL 133.775852 303.587771 \r\nL 132.039371 304.508072 \r\nL 130.302891 305.373756 \r\nL 128.566411 306.210116 \r\nL 126.829931 307.101377 \r\nL 125.093451 307.898433 \r\nL 123.356971 308.625196 \r\nL 121.62049 309.461818 \r\nL 119.88401 310.24601 \r\nL 118.14753 311.011391 \r\nL 116.41105 311.943551 \r\nL 114.67457 312.540009 \r\nL 112.93809 313.302312 \r\nL 111.201609 314.069075 \r\nL 109.465129 314.857942 \r\nL 107.728649 315.676455 \r\nL 105.992169 316.439215 \r\nL 104.255689 317.23564 \r\nL 102.519209 318.060341 \r\nL 100.782728 318.845359 \r\nL 99.046248 319.647267 \r\nL 97.309768 320.393201 \r\nL 95.573288 321.049102 \r\nL 93.836808 321.819743 \r\nL 92.100328 322.514586 \r\nL 90.363847 323.246566 \r\nL 88.627367 324.012191 \r\nL 86.890887 324.802081 \r\nL 85.154407 325.541782 \r\nL 83.417927 326.327262 \r\nL 81.681447 327.068565 \r\nL 79.944966 327.832672 \r\nL 78.208486 328.597037 \r\nL 76.472006 329.298252 \r\nL 74.735526 329.942243 \r\nL 72.999046 330.738409 \r\nL 71.262566 331.534575 \r\nL 69.526085 332.330741 \r\nL 67.789605 333.126907 \r\nL 66.053125 333.865745 \r\nz\r\n\" style=\"fill:#5081ac;fill-opacity:0.15;\"/>\r\n   </g>\r\n   <g id=\"matplotlib.axis_5\">\r\n    <g id=\"xtick_6\">\r\n     <g id=\"line2d_16\">\r\n      <g>\r\n       <use style=\"stroke:#000000;stroke-width:0.8;\" x=\"101.942799\" xlink:href=\"#m148714ce42\" y=\"386.958281\"/>\r\n      </g>\r\n     </g>\r\n     <g id=\"text_20\">\r\n      <!-- 100000 -->\r\n      <g transform=\"translate(82.855299 401.556719)scale(0.1 -0.1)\">\r\n       <use xlink:href=\"#DejaVuSans-31\"/>\r\n       <use x=\"63.623047\" xlink:href=\"#DejaVuSans-30\"/>\r\n       <use x=\"127.246094\" xlink:href=\"#DejaVuSans-30\"/>\r\n       <use x=\"190.869141\" xlink:href=\"#DejaVuSans-30\"/>\r\n       <use x=\"254.492188\" xlink:href=\"#DejaVuSans-30\"/>\r\n       <use x=\"318.115234\" xlink:href=\"#DejaVuSans-30\"/>\r\n      </g>\r\n     </g>\r\n    </g>\r\n    <g id=\"xtick_7\">\r\n     <g id=\"line2d_17\">\r\n      <g>\r\n       <use style=\"stroke:#000000;stroke-width:0.8;\" x=\"138.52905\" xlink:href=\"#m148714ce42\" y=\"386.958281\"/>\r\n      </g>\r\n     </g>\r\n     <g id=\"text_21\">\r\n      <!-- 200000 -->\r\n      <g transform=\"translate(119.44155 401.556719)scale(0.1 -0.1)\">\r\n       <use xlink:href=\"#DejaVuSans-32\"/>\r\n       <use x=\"63.623047\" xlink:href=\"#DejaVuSans-30\"/>\r\n       <use x=\"127.246094\" xlink:href=\"#DejaVuSans-30\"/>\r\n       <use x=\"190.869141\" xlink:href=\"#DejaVuSans-30\"/>\r\n       <use x=\"254.492188\" xlink:href=\"#DejaVuSans-30\"/>\r\n       <use x=\"318.115234\" xlink:href=\"#DejaVuSans-30\"/>\r\n      </g>\r\n     </g>\r\n    </g>\r\n    <g id=\"xtick_8\">\r\n     <g id=\"line2d_18\">\r\n      <g>\r\n       <use style=\"stroke:#000000;stroke-width:0.8;\" x=\"175.1153\" xlink:href=\"#m148714ce42\" y=\"386.958281\"/>\r\n      </g>\r\n     </g>\r\n     <g id=\"text_22\">\r\n      <!-- 300000 -->\r\n      <g transform=\"translate(156.0278 401.556719)scale(0.1 -0.1)\">\r\n       <defs>\r\n        <path d=\"M 2597 2516 \r\nQ 3050 2419 3304 2112 \r\nQ 3559 1806 3559 1356 \r\nQ 3559 666 3084 287 \r\nQ 2609 -91 1734 -91 \r\nQ 1441 -91 1130 -33 \r\nQ 819 25 488 141 \r\nL 488 750 \r\nQ 750 597 1062 519 \r\nQ 1375 441 1716 441 \r\nQ 2309 441 2620 675 \r\nQ 2931 909 2931 1356 \r\nQ 2931 1769 2642 2001 \r\nQ 2353 2234 1838 2234 \r\nL 1294 2234 \r\nL 1294 2753 \r\nL 1863 2753 \r\nQ 2328 2753 2575 2939 \r\nQ 2822 3125 2822 3475 \r\nQ 2822 3834 2567 4026 \r\nQ 2313 4219 1838 4219 \r\nQ 1578 4219 1281 4162 \r\nQ 984 4106 628 3988 \r\nL 628 4550 \r\nQ 988 4650 1302 4700 \r\nQ 1616 4750 1894 4750 \r\nQ 2613 4750 3031 4423 \r\nQ 3450 4097 3450 3541 \r\nQ 3450 3153 3228 2886 \r\nQ 3006 2619 2597 2516 \r\nz\r\n\" id=\"DejaVuSans-33\" transform=\"scale(0.015625)\"/>\r\n       </defs>\r\n       <use xlink:href=\"#DejaVuSans-33\"/>\r\n       <use x=\"63.623047\" xlink:href=\"#DejaVuSans-30\"/>\r\n       <use x=\"127.246094\" xlink:href=\"#DejaVuSans-30\"/>\r\n       <use x=\"190.869141\" xlink:href=\"#DejaVuSans-30\"/>\r\n       <use x=\"254.492188\" xlink:href=\"#DejaVuSans-30\"/>\r\n       <use x=\"318.115234\" xlink:href=\"#DejaVuSans-30\"/>\r\n      </g>\r\n     </g>\r\n    </g>\r\n    <g id=\"xtick_9\">\r\n     <g id=\"line2d_19\">\r\n      <g>\r\n       <use style=\"stroke:#000000;stroke-width:0.8;\" x=\"211.701551\" xlink:href=\"#m148714ce42\" y=\"386.958281\"/>\r\n      </g>\r\n     </g>\r\n     <g id=\"text_23\">\r\n      <!-- 400000 -->\r\n      <g transform=\"translate(192.614051 401.556719)scale(0.1 -0.1)\">\r\n       <defs>\r\n        <path d=\"M 2419 4116 \r\nL 825 1625 \r\nL 2419 1625 \r\nL 2419 4116 \r\nz\r\nM 2253 4666 \r\nL 3047 4666 \r\nL 3047 1625 \r\nL 3713 1625 \r\nL 3713 1100 \r\nL 3047 1100 \r\nL 3047 0 \r\nL 2419 0 \r\nL 2419 1100 \r\nL 313 1100 \r\nL 313 1709 \r\nL 2253 4666 \r\nz\r\n\" id=\"DejaVuSans-34\" transform=\"scale(0.015625)\"/>\r\n       </defs>\r\n       <use xlink:href=\"#DejaVuSans-34\"/>\r\n       <use x=\"63.623047\" xlink:href=\"#DejaVuSans-30\"/>\r\n       <use x=\"127.246094\" xlink:href=\"#DejaVuSans-30\"/>\r\n       <use x=\"190.869141\" xlink:href=\"#DejaVuSans-30\"/>\r\n       <use x=\"254.492188\" xlink:href=\"#DejaVuSans-30\"/>\r\n       <use x=\"318.115234\" xlink:href=\"#DejaVuSans-30\"/>\r\n      </g>\r\n     </g>\r\n    </g>\r\n    <g id=\"text_24\">\r\n     <!-- Marketing Spend -->\r\n     <g transform=\"translate(109.735456 415.234844)scale(0.1 -0.1)\">\r\n      <defs>\r\n       <path d=\"M 628 4666 \r\nL 1569 4666 \r\nL 2759 1491 \r\nL 3956 4666 \r\nL 4897 4666 \r\nL 4897 0 \r\nL 4281 0 \r\nL 4281 4097 \r\nL 3078 897 \r\nL 2444 897 \r\nL 1241 4097 \r\nL 1241 0 \r\nL 628 0 \r\nL 628 4666 \r\nz\r\n\" id=\"DejaVuSans-4d\" transform=\"scale(0.015625)\"/>\r\n       <path d=\"M 581 4863 \r\nL 1159 4863 \r\nL 1159 1991 \r\nL 2875 3500 \r\nL 3609 3500 \r\nL 1753 1863 \r\nL 3688 0 \r\nL 2938 0 \r\nL 1159 1709 \r\nL 1159 0 \r\nL 581 0 \r\nL 581 4863 \r\nz\r\n\" id=\"DejaVuSans-6b\" transform=\"scale(0.015625)\"/>\r\n       <path d=\"M 2906 1791 \r\nQ 2906 2416 2648 2759 \r\nQ 2391 3103 1925 3103 \r\nQ 1463 3103 1205 2759 \r\nQ 947 2416 947 1791 \r\nQ 947 1169 1205 825 \r\nQ 1463 481 1925 481 \r\nQ 2391 481 2648 825 \r\nQ 2906 1169 2906 1791 \r\nz\r\nM 3481 434 \r\nQ 3481 -459 3084 -895 \r\nQ 2688 -1331 1869 -1331 \r\nQ 1566 -1331 1297 -1286 \r\nQ 1028 -1241 775 -1147 \r\nL 775 -588 \r\nQ 1028 -725 1275 -790 \r\nQ 1522 -856 1778 -856 \r\nQ 2344 -856 2625 -561 \r\nQ 2906 -266 2906 331 \r\nL 2906 616 \r\nQ 2728 306 2450 153 \r\nQ 2172 0 1784 0 \r\nQ 1141 0 747 490 \r\nQ 353 981 353 1791 \r\nQ 353 2603 747 3093 \r\nQ 1141 3584 1784 3584 \r\nQ 2172 3584 2450 3431 \r\nQ 2728 3278 2906 2969 \r\nL 2906 3500 \r\nL 3481 3500 \r\nL 3481 434 \r\nz\r\n\" id=\"DejaVuSans-67\" transform=\"scale(0.015625)\"/>\r\n      </defs>\r\n      <use xlink:href=\"#DejaVuSans-4d\"/>\r\n      <use x=\"86.279297\" xlink:href=\"#DejaVuSans-61\"/>\r\n      <use x=\"147.558594\" xlink:href=\"#DejaVuSans-72\"/>\r\n      <use x=\"188.671875\" xlink:href=\"#DejaVuSans-6b\"/>\r\n      <use x=\"242.957031\" xlink:href=\"#DejaVuSans-65\"/>\r\n      <use x=\"304.480469\" xlink:href=\"#DejaVuSans-74\"/>\r\n      <use x=\"343.689453\" xlink:href=\"#DejaVuSans-69\"/>\r\n      <use x=\"371.472656\" xlink:href=\"#DejaVuSans-6e\"/>\r\n      <use x=\"434.851562\" xlink:href=\"#DejaVuSans-67\"/>\r\n      <use x=\"498.328125\" xlink:href=\"#DejaVuSans-20\"/>\r\n      <use x=\"530.115234\" xlink:href=\"#DejaVuSans-53\"/>\r\n      <use x=\"593.591797\" xlink:href=\"#DejaVuSans-70\"/>\r\n      <use x=\"657.068359\" xlink:href=\"#DejaVuSans-65\"/>\r\n      <use x=\"718.591797\" xlink:href=\"#DejaVuSans-6e\"/>\r\n      <use x=\"781.970703\" xlink:href=\"#DejaVuSans-64\"/>\r\n     </g>\r\n    </g>\r\n   </g>\r\n   <g id=\"matplotlib.axis_6\">\r\n    <g id=\"ytick_9\">\r\n     <g id=\"line2d_20\">\r\n      <g>\r\n       <use style=\"stroke:#000000;stroke-width:0.8;\" x=\"66.053125\" xlink:href=\"#me48a7b78d9\" y=\"351.932965\"/>\r\n      </g>\r\n     </g>\r\n     <g id=\"text_25\">\r\n      <!-- 50000 -->\r\n      <g transform=\"translate(27.240625 355.732184)scale(0.1 -0.1)\">\r\n       <use xlink:href=\"#DejaVuSans-35\"/>\r\n       <use x=\"63.623047\" xlink:href=\"#DejaVuSans-30\"/>\r\n       <use x=\"127.246094\" xlink:href=\"#DejaVuSans-30\"/>\r\n       <use x=\"190.869141\" xlink:href=\"#DejaVuSans-30\"/>\r\n       <use x=\"254.492188\" xlink:href=\"#DejaVuSans-30\"/>\r\n      </g>\r\n     </g>\r\n    </g>\r\n    <g id=\"ytick_10\">\r\n     <g id=\"line2d_21\">\r\n      <g>\r\n       <use style=\"stroke:#000000;stroke-width:0.8;\" x=\"66.053125\" xlink:href=\"#me48a7b78d9\" y=\"312.309434\"/>\r\n      </g>\r\n     </g>\r\n     <g id=\"text_26\">\r\n      <!-- 100000 -->\r\n      <g transform=\"translate(20.878125 316.108653)scale(0.1 -0.1)\">\r\n       <use xlink:href=\"#DejaVuSans-31\"/>\r\n       <use x=\"63.623047\" xlink:href=\"#DejaVuSans-30\"/>\r\n       <use x=\"127.246094\" xlink:href=\"#DejaVuSans-30\"/>\r\n       <use x=\"190.869141\" xlink:href=\"#DejaVuSans-30\"/>\r\n       <use x=\"254.492188\" xlink:href=\"#DejaVuSans-30\"/>\r\n       <use x=\"318.115234\" xlink:href=\"#DejaVuSans-30\"/>\r\n      </g>\r\n     </g>\r\n    </g>\r\n    <g id=\"ytick_11\">\r\n     <g id=\"line2d_22\">\r\n      <g>\r\n       <use style=\"stroke:#000000;stroke-width:0.8;\" x=\"66.053125\" xlink:href=\"#me48a7b78d9\" y=\"272.685903\"/>\r\n      </g>\r\n     </g>\r\n     <g id=\"text_27\">\r\n      <!-- 150000 -->\r\n      <g transform=\"translate(20.878125 276.485122)scale(0.1 -0.1)\">\r\n       <use xlink:href=\"#DejaVuSans-31\"/>\r\n       <use x=\"63.623047\" xlink:href=\"#DejaVuSans-35\"/>\r\n       <use x=\"127.246094\" xlink:href=\"#DejaVuSans-30\"/>\r\n       <use x=\"190.869141\" xlink:href=\"#DejaVuSans-30\"/>\r\n       <use x=\"254.492188\" xlink:href=\"#DejaVuSans-30\"/>\r\n       <use x=\"318.115234\" xlink:href=\"#DejaVuSans-30\"/>\r\n      </g>\r\n     </g>\r\n    </g>\r\n    <g id=\"ytick_12\">\r\n     <g id=\"line2d_23\">\r\n      <g>\r\n       <use style=\"stroke:#000000;stroke-width:0.8;\" x=\"66.053125\" xlink:href=\"#me48a7b78d9\" y=\"233.062373\"/>\r\n      </g>\r\n     </g>\r\n     <g id=\"text_28\">\r\n      <!-- 200000 -->\r\n      <g transform=\"translate(20.878125 236.861591)scale(0.1 -0.1)\">\r\n       <use xlink:href=\"#DejaVuSans-32\"/>\r\n       <use x=\"63.623047\" xlink:href=\"#DejaVuSans-30\"/>\r\n       <use x=\"127.246094\" xlink:href=\"#DejaVuSans-30\"/>\r\n       <use x=\"190.869141\" xlink:href=\"#DejaVuSans-30\"/>\r\n       <use x=\"254.492188\" xlink:href=\"#DejaVuSans-30\"/>\r\n       <use x=\"318.115234\" xlink:href=\"#DejaVuSans-30\"/>\r\n      </g>\r\n     </g>\r\n    </g>\r\n    <g id=\"text_29\">\r\n     <!-- Profit -->\r\n     <g transform=\"translate(14.798438 322.597344)rotate(-90)scale(0.1 -0.1)\">\r\n      <use xlink:href=\"#DejaVuSans-50\"/>\r\n      <use x=\"58.552734\" xlink:href=\"#DejaVuSans-72\"/>\r\n      <use x=\"97.416016\" xlink:href=\"#DejaVuSans-6f\"/>\r\n      <use x=\"158.597656\" xlink:href=\"#DejaVuSans-66\"/>\r\n      <use x=\"193.802734\" xlink:href=\"#DejaVuSans-69\"/>\r\n      <use x=\"221.585938\" xlink:href=\"#DejaVuSans-74\"/>\r\n     </g>\r\n    </g>\r\n   </g>\r\n   <g id=\"line2d_24\">\r\n    <path clip-path=\"url(#pe052bd3e53)\" d=\"M 66.053125 347.672231 \r\nL 67.789605 346.715211 \r\nL 69.526085 345.75819 \r\nL 71.262566 344.80117 \r\nL 72.999046 343.844149 \r\nL 74.735526 342.887128 \r\nL 76.472006 341.930108 \r\nL 78.208486 340.973087 \r\nL 79.944966 340.016067 \r\nL 81.681447 339.059046 \r\nL 83.417927 338.102026 \r\nL 85.154407 337.145005 \r\nL 86.890887 336.187985 \r\nL 88.627367 335.230964 \r\nL 90.363847 334.273944 \r\nL 92.100328 333.316923 \r\nL 93.836808 332.359902 \r\nL 95.573288 331.402882 \r\nL 97.309768 330.445861 \r\nL 99.046248 329.488841 \r\nL 100.782728 328.53182 \r\nL 102.519209 327.5748 \r\nL 104.255689 326.617779 \r\nL 105.992169 325.660759 \r\nL 107.728649 324.703738 \r\nL 109.465129 323.746717 \r\nL 111.201609 322.789697 \r\nL 112.93809 321.832676 \r\nL 114.67457 320.875656 \r\nL 116.41105 319.918635 \r\nL 118.14753 318.961615 \r\nL 119.88401 318.004594 \r\nL 121.62049 317.047574 \r\nL 123.356971 316.090553 \r\nL 125.093451 315.133532 \r\nL 126.829931 314.176512 \r\nL 128.566411 313.219491 \r\nL 130.302891 312.262471 \r\nL 132.039371 311.30545 \r\nL 133.775852 310.34843 \r\nL 135.512332 309.391409 \r\nL 137.248812 308.434389 \r\nL 138.985292 307.477368 \r\nL 140.721772 306.520347 \r\nL 142.458252 305.563327 \r\nL 144.194733 304.606306 \r\nL 145.931213 303.649286 \r\nL 147.667693 302.692265 \r\nL 149.404173 301.735245 \r\nL 151.140653 300.778224 \r\nL 152.877133 299.821204 \r\nL 154.613614 298.864183 \r\nL 156.350094 297.907163 \r\nL 158.086574 296.950142 \r\nL 159.823054 295.993121 \r\nL 161.559534 295.036101 \r\nL 163.296014 294.07908 \r\nL 165.032495 293.12206 \r\nL 166.768975 292.165039 \r\nL 168.505455 291.208019 \r\nL 170.241935 290.250998 \r\nL 171.978415 289.293978 \r\nL 173.714895 288.336957 \r\nL 175.451376 287.379936 \r\nL 177.187856 286.422916 \r\nL 178.924336 285.465895 \r\nL 180.660816 284.508875 \r\nL 182.397296 283.551854 \r\nL 184.133776 282.594834 \r\nL 185.870257 281.637813 \r\nL 187.606737 280.680793 \r\nL 189.343217 279.723772 \r\nL 191.079697 278.766751 \r\nL 192.816177 277.809731 \r\nL 194.552657 276.85271 \r\nL 196.289138 275.89569 \r\nL 198.025618 274.938669 \r\nL 199.762098 273.981649 \r\nL 201.498578 273.024628 \r\nL 203.235058 272.067608 \r\nL 204.971538 271.110587 \r\nL 206.708019 270.153567 \r\nL 208.444499 269.196546 \r\nL 210.180979 268.239525 \r\nL 211.917459 267.282505 \r\nL 213.653939 266.325484 \r\nL 215.390419 265.368464 \r\nL 217.1269 264.411443 \r\nL 218.86338 263.454423 \r\nL 220.59986 262.497402 \r\nL 222.33634 261.540382 \r\nL 224.07282 260.583361 \r\nL 225.8093 259.62634 \r\nL 227.545781 258.66932 \r\nL 229.282261 257.712299 \r\nL 231.018741 256.755279 \r\nL 232.755221 255.798258 \r\nL 234.491701 254.841238 \r\nL 236.228181 253.884217 \r\nL 237.964662 252.927197 \r\n\" style=\"fill:none;stroke:#5081ac;stroke-linecap:square;stroke-width:2.25;\"/>\r\n   </g>\r\n   <g id=\"patch_13\">\r\n    <path d=\"M 66.053125 386.958281 \r\nL 66.053125 232.158281 \r\n\" style=\"fill:none;stroke:#000000;stroke-linecap:square;stroke-linejoin:miter;stroke-width:0.8;\"/>\r\n   </g>\r\n   <g id=\"patch_14\">\r\n    <path d=\"M 237.964662 386.958281 \r\nL 237.964662 232.158281 \r\n\" style=\"fill:none;stroke:#000000;stroke-linecap:square;stroke-linejoin:miter;stroke-width:0.8;\"/>\r\n   </g>\r\n   <g id=\"patch_15\">\r\n    <path d=\"M 66.053125 386.958281 \r\nL 237.964662 386.958281 \r\n\" style=\"fill:none;stroke:#000000;stroke-linecap:square;stroke-linejoin:miter;stroke-width:0.8;\"/>\r\n   </g>\r\n   <g id=\"patch_16\">\r\n    <path d=\"M 66.053125 232.158281 \r\nL 237.964662 232.158281 \r\n\" style=\"fill:none;stroke:#000000;stroke-linecap:square;stroke-linejoin:miter;stroke-width:0.8;\"/>\r\n   </g>\r\n   <g id=\"text_30\">\r\n    <!-- r = 0.69      p = 0.00 -->\r\n    <g transform=\"translate(95.066706 226.158281)scale(0.11 -0.11)\">\r\n     <defs>\r\n      <path d=\"M 703 97 \r\nL 703 672 \r\nQ 941 559 1184 500 \r\nQ 1428 441 1663 441 \r\nQ 2288 441 2617 861 \r\nQ 2947 1281 2994 2138 \r\nQ 2813 1869 2534 1725 \r\nQ 2256 1581 1919 1581 \r\nQ 1219 1581 811 2004 \r\nQ 403 2428 403 3163 \r\nQ 403 3881 828 4315 \r\nQ 1253 4750 1959 4750 \r\nQ 2769 4750 3195 4129 \r\nQ 3622 3509 3622 2328 \r\nQ 3622 1225 3098 567 \r\nQ 2575 -91 1691 -91 \r\nQ 1453 -91 1209 -44 \r\nQ 966 3 703 97 \r\nz\r\nM 1959 2075 \r\nQ 2384 2075 2632 2365 \r\nQ 2881 2656 2881 3163 \r\nQ 2881 3666 2632 3958 \r\nQ 2384 4250 1959 4250 \r\nQ 1534 4250 1286 3958 \r\nQ 1038 3666 1038 3163 \r\nQ 1038 2656 1286 2365 \r\nQ 1534 2075 1959 2075 \r\nz\r\n\" id=\"DejaVuSans-39\" transform=\"scale(0.015625)\"/>\r\n     </defs>\r\n     <use xlink:href=\"#DejaVuSans-72\"/>\r\n     <use x=\"41.113281\" xlink:href=\"#DejaVuSans-20\"/>\r\n     <use x=\"72.900391\" xlink:href=\"#DejaVuSans-3d\"/>\r\n     <use x=\"156.689453\" xlink:href=\"#DejaVuSans-20\"/>\r\n     <use x=\"188.476562\" xlink:href=\"#DejaVuSans-30\"/>\r\n     <use x=\"252.099609\" xlink:href=\"#DejaVuSans-2e\"/>\r\n     <use x=\"283.886719\" xlink:href=\"#DejaVuSans-36\"/>\r\n     <use x=\"347.509766\" xlink:href=\"#DejaVuSans-39\"/>\r\n     <use x=\"411.132812\" xlink:href=\"#DejaVuSans-20\"/>\r\n     <use x=\"442.919922\" xlink:href=\"#DejaVuSans-20\"/>\r\n     <use x=\"474.707031\" xlink:href=\"#DejaVuSans-20\"/>\r\n     <use x=\"506.494141\" xlink:href=\"#DejaVuSans-20\"/>\r\n     <use x=\"538.28125\" xlink:href=\"#DejaVuSans-20\"/>\r\n     <use x=\"570.068359\" xlink:href=\"#DejaVuSans-20\"/>\r\n     <use x=\"601.855469\" xlink:href=\"#DejaVuSans-70\"/>\r\n     <use x=\"665.332031\" xlink:href=\"#DejaVuSans-20\"/>\r\n     <use x=\"697.119141\" xlink:href=\"#DejaVuSans-3d\"/>\r\n     <use x=\"780.908203\" xlink:href=\"#DejaVuSans-20\"/>\r\n     <use x=\"812.695312\" xlink:href=\"#DejaVuSans-30\"/>\r\n     <use x=\"876.318359\" xlink:href=\"#DejaVuSans-2e\"/>\r\n     <use x=\"908.105469\" xlink:href=\"#DejaVuSans-30\"/>\r\n     <use x=\"971.728516\" xlink:href=\"#DejaVuSans-30\"/>\r\n    </g>\r\n   </g>\r\n  </g>\r\n  <g id=\"axes_4\">\r\n   <g id=\"patch_17\">\r\n    <path d=\"M 309.854088 386.958281 \r\nL 481.765625 386.958281 \r\nL 481.765625 232.158281 \r\nL 309.854088 232.158281 \r\nz\r\n\" style=\"fill:#ffffff;\"/>\r\n   </g>\r\n   <g id=\"matplotlib.axis_7\">\r\n    <g id=\"xtick_10\">\r\n     <g id=\"line2d_25\">\r\n      <g>\r\n       <use style=\"stroke:#000000;stroke-width:0.8;\" x=\"309.854088\" xlink:href=\"#m148714ce42\" y=\"386.958281\"/>\r\n      </g>\r\n     </g>\r\n     <g id=\"text_31\">\r\n      <!-- 0.0 -->\r\n      <g transform=\"translate(301.902526 401.556719)scale(0.1 -0.1)\">\r\n       <use xlink:href=\"#DejaVuSans-30\"/>\r\n       <use x=\"63.623047\" xlink:href=\"#DejaVuSans-2e\"/>\r\n       <use x=\"95.410156\" xlink:href=\"#DejaVuSans-30\"/>\r\n      </g>\r\n     </g>\r\n    </g>\r\n    <g id=\"xtick_11\">\r\n     <g id=\"line2d_26\">\r\n      <g>\r\n       <use style=\"stroke:#000000;stroke-width:0.8;\" x=\"344.236396\" xlink:href=\"#m148714ce42\" y=\"386.958281\"/>\r\n      </g>\r\n     </g>\r\n     <g id=\"text_32\">\r\n      <!-- 0.2 -->\r\n      <g transform=\"translate(336.284833 401.556719)scale(0.1 -0.1)\">\r\n       <use xlink:href=\"#DejaVuSans-30\"/>\r\n       <use x=\"63.623047\" xlink:href=\"#DejaVuSans-2e\"/>\r\n       <use x=\"95.410156\" xlink:href=\"#DejaVuSans-32\"/>\r\n      </g>\r\n     </g>\r\n    </g>\r\n    <g id=\"xtick_12\">\r\n     <g id=\"line2d_27\">\r\n      <g>\r\n       <use style=\"stroke:#000000;stroke-width:0.8;\" x=\"378.618703\" xlink:href=\"#m148714ce42\" y=\"386.958281\"/>\r\n      </g>\r\n     </g>\r\n     <g id=\"text_33\">\r\n      <!-- 0.4 -->\r\n      <g transform=\"translate(370.667141 401.556719)scale(0.1 -0.1)\">\r\n       <use xlink:href=\"#DejaVuSans-30\"/>\r\n       <use x=\"63.623047\" xlink:href=\"#DejaVuSans-2e\"/>\r\n       <use x=\"95.410156\" xlink:href=\"#DejaVuSans-34\"/>\r\n      </g>\r\n     </g>\r\n    </g>\r\n    <g id=\"xtick_13\">\r\n     <g id=\"line2d_28\">\r\n      <g>\r\n       <use style=\"stroke:#000000;stroke-width:0.8;\" x=\"413.00101\" xlink:href=\"#m148714ce42\" y=\"386.958281\"/>\r\n      </g>\r\n     </g>\r\n     <g id=\"text_34\">\r\n      <!-- 0.6 -->\r\n      <g transform=\"translate(405.049448 401.556719)scale(0.1 -0.1)\">\r\n       <use xlink:href=\"#DejaVuSans-30\"/>\r\n       <use x=\"63.623047\" xlink:href=\"#DejaVuSans-2e\"/>\r\n       <use x=\"95.410156\" xlink:href=\"#DejaVuSans-36\"/>\r\n      </g>\r\n     </g>\r\n    </g>\r\n    <g id=\"xtick_14\">\r\n     <g id=\"line2d_29\">\r\n      <g>\r\n       <use style=\"stroke:#000000;stroke-width:0.8;\" x=\"447.383318\" xlink:href=\"#m148714ce42\" y=\"386.958281\"/>\r\n      </g>\r\n     </g>\r\n     <g id=\"text_35\">\r\n      <!-- 0.8 -->\r\n      <g transform=\"translate(439.431755 401.556719)scale(0.1 -0.1)\">\r\n       <use xlink:href=\"#DejaVuSans-30\"/>\r\n       <use x=\"63.623047\" xlink:href=\"#DejaVuSans-2e\"/>\r\n       <use x=\"95.410156\" xlink:href=\"#DejaVuSans-38\"/>\r\n      </g>\r\n     </g>\r\n    </g>\r\n    <g id=\"xtick_15\">\r\n     <g id=\"line2d_30\">\r\n      <g>\r\n       <use style=\"stroke:#000000;stroke-width:0.8;\" x=\"481.765625\" xlink:href=\"#m148714ce42\" y=\"386.958281\"/>\r\n      </g>\r\n     </g>\r\n     <g id=\"text_36\">\r\n      <!-- 1.0 -->\r\n      <g transform=\"translate(473.814063 401.556719)scale(0.1 -0.1)\">\r\n       <use xlink:href=\"#DejaVuSans-31\"/>\r\n       <use x=\"63.623047\" xlink:href=\"#DejaVuSans-2e\"/>\r\n       <use x=\"95.410156\" xlink:href=\"#DejaVuSans-30\"/>\r\n      </g>\r\n     </g>\r\n    </g>\r\n   </g>\r\n   <g id=\"matplotlib.axis_8\">\r\n    <g id=\"ytick_13\">\r\n     <g id=\"line2d_31\">\r\n      <g>\r\n       <use style=\"stroke:#000000;stroke-width:0.8;\" x=\"309.854088\" xlink:href=\"#me48a7b78d9\" y=\"386.958281\"/>\r\n      </g>\r\n     </g>\r\n     <g id=\"text_37\">\r\n      <!-- 0.0 -->\r\n      <g transform=\"translate(286.950963 390.7575)scale(0.1 -0.1)\">\r\n       <use xlink:href=\"#DejaVuSans-30\"/>\r\n       <use x=\"63.623047\" xlink:href=\"#DejaVuSans-2e\"/>\r\n       <use x=\"95.410156\" xlink:href=\"#DejaVuSans-30\"/>\r\n      </g>\r\n     </g>\r\n    </g>\r\n    <g id=\"ytick_14\">\r\n     <g id=\"line2d_32\">\r\n      <g>\r\n       <use style=\"stroke:#000000;stroke-width:0.8;\" x=\"309.854088\" xlink:href=\"#me48a7b78d9\" y=\"355.998281\"/>\r\n      </g>\r\n     </g>\r\n     <g id=\"text_38\">\r\n      <!-- 0.2 -->\r\n      <g transform=\"translate(286.950963 359.7975)scale(0.1 -0.1)\">\r\n       <use xlink:href=\"#DejaVuSans-30\"/>\r\n       <use x=\"63.623047\" xlink:href=\"#DejaVuSans-2e\"/>\r\n       <use x=\"95.410156\" xlink:href=\"#DejaVuSans-32\"/>\r\n      </g>\r\n     </g>\r\n    </g>\r\n    <g id=\"ytick_15\">\r\n     <g id=\"line2d_33\">\r\n      <g>\r\n       <use style=\"stroke:#000000;stroke-width:0.8;\" x=\"309.854088\" xlink:href=\"#me48a7b78d9\" y=\"325.038281\"/>\r\n      </g>\r\n     </g>\r\n     <g id=\"text_39\">\r\n      <!-- 0.4 -->\r\n      <g transform=\"translate(286.950963 328.8375)scale(0.1 -0.1)\">\r\n       <use xlink:href=\"#DejaVuSans-30\"/>\r\n       <use x=\"63.623047\" xlink:href=\"#DejaVuSans-2e\"/>\r\n       <use x=\"95.410156\" xlink:href=\"#DejaVuSans-34\"/>\r\n      </g>\r\n     </g>\r\n    </g>\r\n    <g id=\"ytick_16\">\r\n     <g id=\"line2d_34\">\r\n      <g>\r\n       <use style=\"stroke:#000000;stroke-width:0.8;\" x=\"309.854088\" xlink:href=\"#me48a7b78d9\" y=\"294.078281\"/>\r\n      </g>\r\n     </g>\r\n     <g id=\"text_40\">\r\n      <!-- 0.6 -->\r\n      <g transform=\"translate(286.950963 297.8775)scale(0.1 -0.1)\">\r\n       <use xlink:href=\"#DejaVuSans-30\"/>\r\n       <use x=\"63.623047\" xlink:href=\"#DejaVuSans-2e\"/>\r\n       <use x=\"95.410156\" xlink:href=\"#DejaVuSans-36\"/>\r\n      </g>\r\n     </g>\r\n    </g>\r\n    <g id=\"ytick_17\">\r\n     <g id=\"line2d_35\">\r\n      <g>\r\n       <use style=\"stroke:#000000;stroke-width:0.8;\" x=\"309.854088\" xlink:href=\"#me48a7b78d9\" y=\"263.118281\"/>\r\n      </g>\r\n     </g>\r\n     <g id=\"text_41\">\r\n      <!-- 0.8 -->\r\n      <g transform=\"translate(286.950963 266.9175)scale(0.1 -0.1)\">\r\n       <use xlink:href=\"#DejaVuSans-30\"/>\r\n       <use x=\"63.623047\" xlink:href=\"#DejaVuSans-2e\"/>\r\n       <use x=\"95.410156\" xlink:href=\"#DejaVuSans-38\"/>\r\n      </g>\r\n     </g>\r\n    </g>\r\n    <g id=\"ytick_18\">\r\n     <g id=\"line2d_36\">\r\n      <g>\r\n       <use style=\"stroke:#000000;stroke-width:0.8;\" x=\"309.854088\" xlink:href=\"#me48a7b78d9\" y=\"232.158281\"/>\r\n      </g>\r\n     </g>\r\n     <g id=\"text_42\">\r\n      <!-- 1.0 -->\r\n      <g transform=\"translate(286.950963 235.9575)scale(0.1 -0.1)\">\r\n       <use xlink:href=\"#DejaVuSans-31\"/>\r\n       <use x=\"63.623047\" xlink:href=\"#DejaVuSans-2e\"/>\r\n       <use x=\"95.410156\" xlink:href=\"#DejaVuSans-30\"/>\r\n      </g>\r\n     </g>\r\n    </g>\r\n   </g>\r\n   <g id=\"patch_18\">\r\n    <path d=\"M 309.854088 386.958281 \r\nL 309.854088 232.158281 \r\n\" style=\"fill:none;stroke:#000000;stroke-linecap:square;stroke-linejoin:miter;stroke-width:0.8;\"/>\r\n   </g>\r\n   <g id=\"patch_19\">\r\n    <path d=\"M 481.765625 386.958281 \r\nL 481.765625 232.158281 \r\n\" style=\"fill:none;stroke:#000000;stroke-linecap:square;stroke-linejoin:miter;stroke-width:0.8;\"/>\r\n   </g>\r\n   <g id=\"patch_20\">\r\n    <path d=\"M 309.854088 386.958281 \r\nL 481.765625 386.958281 \r\n\" style=\"fill:none;stroke:#000000;stroke-linecap:square;stroke-linejoin:miter;stroke-width:0.8;\"/>\r\n   </g>\r\n   <g id=\"patch_21\">\r\n    <path d=\"M 309.854088 232.158281 \r\nL 481.765625 232.158281 \r\n\" style=\"fill:none;stroke:#000000;stroke-linecap:square;stroke-linejoin:miter;stroke-width:0.8;\"/>\r\n   </g>\r\n  </g>\r\n </g>\r\n <defs>\r\n  <clipPath id=\"pd189d3ac5c\">\r\n   <rect height=\"154.8\" width=\"171.911537\" x=\"66.053125\" y=\"21.558281\"/>\r\n  </clipPath>\r\n  <clipPath id=\"p8d21c2c93c\">\r\n   <rect height=\"154.8\" width=\"171.911537\" x=\"309.854088\" y=\"21.558281\"/>\r\n  </clipPath>\r\n  <clipPath id=\"pe052bd3e53\">\r\n   <rect height=\"154.8\" width=\"171.911537\" x=\"66.053125\" y=\"232.158281\"/>\r\n  </clipPath>\r\n </defs>\r\n</svg>\r\n",
      "image/png": "[encoded data removed]"
     },
     "metadata": {
      "needs_background": "light"
     }
    }
   ],
   "metadata": {}
  },
  {
   "cell_type": "code",
   "execution_count": 114,
   "source": [
    "# categorical features visualisation\r\n",
    "# 'Profit' split in 'State' level\r\n",
    "sns.barplot(x = 'State', y = 'Profit', data = train, palette = \"Blues_d\")"
   ],
   "outputs": [
    {
     "output_type": "execute_result",
     "data": {
      "text/plain": [
       "<AxesSubplot:xlabel='State', ylabel='Profit'>"
      ]
     },
     "metadata": {},
     "execution_count": 114
    },
    {
     "output_type": "display_data",
     "data": {
      "text/plain": [
       "<Figure size 432x288 with 1 Axes>"
      ],
      "image/svg+xml": "<?xml version=\"1.0\" encoding=\"utf-8\" standalone=\"no\"?>\r\n<!DOCTYPE svg PUBLIC \"-//W3C//DTD SVG 1.1//EN\"\r\n  \"http://www.w3.org/Graphics/SVG/1.1/DTD/svg11.dtd\">\r\n<svg height=\"262.19625pt\" version=\"1.1\" viewBox=\"0 0 408.053125 262.19625\" width=\"408.053125pt\" xmlns=\"http://www.w3.org/2000/svg\" xmlns:xlink=\"http://www.w3.org/1999/xlink\">\r\n <metadata>\r\n  <rdf:RDF xmlns:cc=\"http://creativecommons.org/ns#\" xmlns:dc=\"http://purl.org/dc/elements/1.1/\" xmlns:rdf=\"http://www.w3.org/1999/02/22-rdf-syntax-ns#\">\r\n   <cc:Work>\r\n    <dc:type rdf:resource=\"http://purl.org/dc/dcmitype/StillImage\"/>\r\n    <dc:date>2021-08-06T16:35:22.026262</dc:date>\r\n    <dc:format>image/svg+xml</dc:format>\r\n    <dc:creator>\r\n     <cc:Agent>\r\n      <dc:title>Matplotlib v3.4.2, https://matplotlib.org/</dc:title>\r\n     </cc:Agent>\r\n    </dc:creator>\r\n   </cc:Work>\r\n  </rdf:RDF>\r\n </metadata>\r\n <defs>\r\n  <style type=\"text/css\">*{stroke-linecap:butt;stroke-linejoin:round;}</style>\r\n </defs>\r\n <g id=\"figure_1\">\r\n  <g id=\"patch_1\">\r\n   <path d=\"M 0 262.19625 \r\nL 408.053125 262.19625 \r\nL 408.053125 0 \r\nL 0 0 \r\nz\r\n\" style=\"fill:none;\"/>\r\n  </g>\r\n  <g id=\"axes_1\">\r\n   <g id=\"patch_2\">\r\n    <path d=\"M 66.053125 224.64 \r\nL 400.853125 224.64 \r\nL 400.853125 7.2 \r\nL 66.053125 7.2 \r\nz\r\n\" style=\"fill:#ffffff;\"/>\r\n   </g>\r\n   <g id=\"patch_3\">\r\n    <path clip-path=\"url(#p7435c0d1a0)\" d=\"M 77.213125 224.64 \r\nL 166.493125 224.64 \r\nL 166.493125 52.911681 \r\nL 77.213125 52.911681 \r\nz\r\n\" style=\"fill:#7da9c7;\"/>\r\n   </g>\r\n   <g id=\"patch_4\">\r\n    <path clip-path=\"url(#p7435c0d1a0)\" d=\"M 188.813125 224.64 \r\nL 278.093125 224.64 \r\nL 278.093125 67.783298 \r\nL 188.813125 67.783298 \r\nz\r\n\" style=\"fill:#4884af;\"/>\r\n   </g>\r\n   <g id=\"patch_5\">\r\n    <path clip-path=\"url(#p7435c0d1a0)\" d=\"M 300.413125 224.64 \r\nL 389.693125 224.64 \r\nL 389.693125 45.337076 \r\nL 300.413125 45.337076 \r\nz\r\n\" style=\"fill:#3d5b70;\"/>\r\n   </g>\r\n   <g id=\"matplotlib.axis_1\">\r\n    <g id=\"xtick_1\">\r\n     <g id=\"line2d_1\">\r\n      <defs>\r\n       <path d=\"M 0 0 \r\nL 0 3.5 \r\n\" id=\"m202b1d5ca6\" style=\"stroke:#000000;stroke-width:0.8;\"/>\r\n      </defs>\r\n      <g>\r\n       <use style=\"stroke:#000000;stroke-width:0.8;\" x=\"121.853125\" xlink:href=\"#m202b1d5ca6\" y=\"224.64\"/>\r\n      </g>\r\n     </g>\r\n     <g id=\"text_1\">\r\n      <!-- New York -->\r\n      <g transform=\"translate(98.95625 239.238437)scale(0.1 -0.1)\">\r\n       <defs>\r\n        <path d=\"M 628 4666 \r\nL 1478 4666 \r\nL 3547 763 \r\nL 3547 4666 \r\nL 4159 4666 \r\nL 4159 0 \r\nL 3309 0 \r\nL 1241 3903 \r\nL 1241 0 \r\nL 628 0 \r\nL 628 4666 \r\nz\r\n\" id=\"DejaVuSans-4e\" transform=\"scale(0.015625)\"/>\r\n        <path d=\"M 3597 1894 \r\nL 3597 1613 \r\nL 953 1613 \r\nQ 991 1019 1311 708 \r\nQ 1631 397 2203 397 \r\nQ 2534 397 2845 478 \r\nQ 3156 559 3463 722 \r\nL 3463 178 \r\nQ 3153 47 2828 -22 \r\nQ 2503 -91 2169 -91 \r\nQ 1331 -91 842 396 \r\nQ 353 884 353 1716 \r\nQ 353 2575 817 3079 \r\nQ 1281 3584 2069 3584 \r\nQ 2775 3584 3186 3129 \r\nQ 3597 2675 3597 1894 \r\nz\r\nM 3022 2063 \r\nQ 3016 2534 2758 2815 \r\nQ 2500 3097 2075 3097 \r\nQ 1594 3097 1305 2825 \r\nQ 1016 2553 972 2059 \r\nL 3022 2063 \r\nz\r\n\" id=\"DejaVuSans-65\" transform=\"scale(0.015625)\"/>\r\n        <path d=\"M 269 3500 \r\nL 844 3500 \r\nL 1563 769 \r\nL 2278 3500 \r\nL 2956 3500 \r\nL 3675 769 \r\nL 4391 3500 \r\nL 4966 3500 \r\nL 4050 0 \r\nL 3372 0 \r\nL 2619 2869 \r\nL 1863 0 \r\nL 1184 0 \r\nL 269 3500 \r\nz\r\n\" id=\"DejaVuSans-77\" transform=\"scale(0.015625)\"/>\r\n        <path id=\"DejaVuSans-20\" transform=\"scale(0.015625)\"/>\r\n        <path d=\"M -13 4666 \r\nL 666 4666 \r\nL 1959 2747 \r\nL 3244 4666 \r\nL 3922 4666 \r\nL 2272 2222 \r\nL 2272 0 \r\nL 1638 0 \r\nL 1638 2222 \r\nL -13 4666 \r\nz\r\n\" id=\"DejaVuSans-59\" transform=\"scale(0.015625)\"/>\r\n        <path d=\"M 1959 3097 \r\nQ 1497 3097 1228 2736 \r\nQ 959 2375 959 1747 \r\nQ 959 1119 1226 758 \r\nQ 1494 397 1959 397 \r\nQ 2419 397 2687 759 \r\nQ 2956 1122 2956 1747 \r\nQ 2956 2369 2687 2733 \r\nQ 2419 3097 1959 3097 \r\nz\r\nM 1959 3584 \r\nQ 2709 3584 3137 3096 \r\nQ 3566 2609 3566 1747 \r\nQ 3566 888 3137 398 \r\nQ 2709 -91 1959 -91 \r\nQ 1206 -91 779 398 \r\nQ 353 888 353 1747 \r\nQ 353 2609 779 3096 \r\nQ 1206 3584 1959 3584 \r\nz\r\n\" id=\"DejaVuSans-6f\" transform=\"scale(0.015625)\"/>\r\n        <path d=\"M 2631 2963 \r\nQ 2534 3019 2420 3045 \r\nQ 2306 3072 2169 3072 \r\nQ 1681 3072 1420 2755 \r\nQ 1159 2438 1159 1844 \r\nL 1159 0 \r\nL 581 0 \r\nL 581 3500 \r\nL 1159 3500 \r\nL 1159 2956 \r\nQ 1341 3275 1631 3429 \r\nQ 1922 3584 2338 3584 \r\nQ 2397 3584 2469 3576 \r\nQ 2541 3569 2628 3553 \r\nL 2631 2963 \r\nz\r\n\" id=\"DejaVuSans-72\" transform=\"scale(0.015625)\"/>\r\n        <path d=\"M 581 4863 \r\nL 1159 4863 \r\nL 1159 1991 \r\nL 2875 3500 \r\nL 3609 3500 \r\nL 1753 1863 \r\nL 3688 0 \r\nL 2938 0 \r\nL 1159 1709 \r\nL 1159 0 \r\nL 581 0 \r\nL 581 4863 \r\nz\r\n\" id=\"DejaVuSans-6b\" transform=\"scale(0.015625)\"/>\r\n       </defs>\r\n       <use xlink:href=\"#DejaVuSans-4e\"/>\r\n       <use x=\"74.804688\" xlink:href=\"#DejaVuSans-65\"/>\r\n       <use x=\"136.328125\" xlink:href=\"#DejaVuSans-77\"/>\r\n       <use x=\"218.115234\" xlink:href=\"#DejaVuSans-20\"/>\r\n       <use x=\"249.902344\" xlink:href=\"#DejaVuSans-59\"/>\r\n       <use x=\"297.736328\" xlink:href=\"#DejaVuSans-6f\"/>\r\n       <use x=\"358.917969\" xlink:href=\"#DejaVuSans-72\"/>\r\n       <use x=\"400.03125\" xlink:href=\"#DejaVuSans-6b\"/>\r\n      </g>\r\n     </g>\r\n    </g>\r\n    <g id=\"xtick_2\">\r\n     <g id=\"line2d_2\">\r\n      <g>\r\n       <use style=\"stroke:#000000;stroke-width:0.8;\" x=\"233.453125\" xlink:href=\"#m202b1d5ca6\" y=\"224.64\"/>\r\n      </g>\r\n     </g>\r\n     <g id=\"text_2\">\r\n      <!-- California -->\r\n      <g transform=\"translate(209.710156 239.238437)scale(0.1 -0.1)\">\r\n       <defs>\r\n        <path d=\"M 4122 4306 \r\nL 4122 3641 \r\nQ 3803 3938 3442 4084 \r\nQ 3081 4231 2675 4231 \r\nQ 1875 4231 1450 3742 \r\nQ 1025 3253 1025 2328 \r\nQ 1025 1406 1450 917 \r\nQ 1875 428 2675 428 \r\nQ 3081 428 3442 575 \r\nQ 3803 722 4122 1019 \r\nL 4122 359 \r\nQ 3791 134 3420 21 \r\nQ 3050 -91 2638 -91 \r\nQ 1578 -91 968 557 \r\nQ 359 1206 359 2328 \r\nQ 359 3453 968 4101 \r\nQ 1578 4750 2638 4750 \r\nQ 3056 4750 3426 4639 \r\nQ 3797 4528 4122 4306 \r\nz\r\n\" id=\"DejaVuSans-43\" transform=\"scale(0.015625)\"/>\r\n        <path d=\"M 2194 1759 \r\nQ 1497 1759 1228 1600 \r\nQ 959 1441 959 1056 \r\nQ 959 750 1161 570 \r\nQ 1363 391 1709 391 \r\nQ 2188 391 2477 730 \r\nQ 2766 1069 2766 1631 \r\nL 2766 1759 \r\nL 2194 1759 \r\nz\r\nM 3341 1997 \r\nL 3341 0 \r\nL 2766 0 \r\nL 2766 531 \r\nQ 2569 213 2275 61 \r\nQ 1981 -91 1556 -91 \r\nQ 1019 -91 701 211 \r\nQ 384 513 384 1019 \r\nQ 384 1609 779 1909 \r\nQ 1175 2209 1959 2209 \r\nL 2766 2209 \r\nL 2766 2266 \r\nQ 2766 2663 2505 2880 \r\nQ 2244 3097 1772 3097 \r\nQ 1472 3097 1187 3025 \r\nQ 903 2953 641 2809 \r\nL 641 3341 \r\nQ 956 3463 1253 3523 \r\nQ 1550 3584 1831 3584 \r\nQ 2591 3584 2966 3190 \r\nQ 3341 2797 3341 1997 \r\nz\r\n\" id=\"DejaVuSans-61\" transform=\"scale(0.015625)\"/>\r\n        <path d=\"M 603 4863 \r\nL 1178 4863 \r\nL 1178 0 \r\nL 603 0 \r\nL 603 4863 \r\nz\r\n\" id=\"DejaVuSans-6c\" transform=\"scale(0.015625)\"/>\r\n        <path d=\"M 603 3500 \r\nL 1178 3500 \r\nL 1178 0 \r\nL 603 0 \r\nL 603 3500 \r\nz\r\nM 603 4863 \r\nL 1178 4863 \r\nL 1178 4134 \r\nL 603 4134 \r\nL 603 4863 \r\nz\r\n\" id=\"DejaVuSans-69\" transform=\"scale(0.015625)\"/>\r\n        <path d=\"M 2375 4863 \r\nL 2375 4384 \r\nL 1825 4384 \r\nQ 1516 4384 1395 4259 \r\nQ 1275 4134 1275 3809 \r\nL 1275 3500 \r\nL 2222 3500 \r\nL 2222 3053 \r\nL 1275 3053 \r\nL 1275 0 \r\nL 697 0 \r\nL 697 3053 \r\nL 147 3053 \r\nL 147 3500 \r\nL 697 3500 \r\nL 697 3744 \r\nQ 697 4328 969 4595 \r\nQ 1241 4863 1831 4863 \r\nL 2375 4863 \r\nz\r\n\" id=\"DejaVuSans-66\" transform=\"scale(0.015625)\"/>\r\n        <path d=\"M 3513 2113 \r\nL 3513 0 \r\nL 2938 0 \r\nL 2938 2094 \r\nQ 2938 2591 2744 2837 \r\nQ 2550 3084 2163 3084 \r\nQ 1697 3084 1428 2787 \r\nQ 1159 2491 1159 1978 \r\nL 1159 0 \r\nL 581 0 \r\nL 581 3500 \r\nL 1159 3500 \r\nL 1159 2956 \r\nQ 1366 3272 1645 3428 \r\nQ 1925 3584 2291 3584 \r\nQ 2894 3584 3203 3211 \r\nQ 3513 2838 3513 2113 \r\nz\r\n\" id=\"DejaVuSans-6e\" transform=\"scale(0.015625)\"/>\r\n       </defs>\r\n       <use xlink:href=\"#DejaVuSans-43\"/>\r\n       <use x=\"69.824219\" xlink:href=\"#DejaVuSans-61\"/>\r\n       <use x=\"131.103516\" xlink:href=\"#DejaVuSans-6c\"/>\r\n       <use x=\"158.886719\" xlink:href=\"#DejaVuSans-69\"/>\r\n       <use x=\"186.669922\" xlink:href=\"#DejaVuSans-66\"/>\r\n       <use x=\"221.875\" xlink:href=\"#DejaVuSans-6f\"/>\r\n       <use x=\"283.056641\" xlink:href=\"#DejaVuSans-72\"/>\r\n       <use x=\"322.419922\" xlink:href=\"#DejaVuSans-6e\"/>\r\n       <use x=\"385.798828\" xlink:href=\"#DejaVuSans-69\"/>\r\n       <use x=\"413.582031\" xlink:href=\"#DejaVuSans-61\"/>\r\n      </g>\r\n     </g>\r\n    </g>\r\n    <g id=\"xtick_3\">\r\n     <g id=\"line2d_3\">\r\n      <g>\r\n       <use style=\"stroke:#000000;stroke-width:0.8;\" x=\"345.053125\" xlink:href=\"#m202b1d5ca6\" y=\"224.64\"/>\r\n      </g>\r\n     </g>\r\n     <g id=\"text_3\">\r\n      <!-- Florida -->\r\n      <g transform=\"translate(328.046094 239.238437)scale(0.1 -0.1)\">\r\n       <defs>\r\n        <path d=\"M 628 4666 \r\nL 3309 4666 \r\nL 3309 4134 \r\nL 1259 4134 \r\nL 1259 2759 \r\nL 3109 2759 \r\nL 3109 2228 \r\nL 1259 2228 \r\nL 1259 0 \r\nL 628 0 \r\nL 628 4666 \r\nz\r\n\" id=\"DejaVuSans-46\" transform=\"scale(0.015625)\"/>\r\n        <path d=\"M 2906 2969 \r\nL 2906 4863 \r\nL 3481 4863 \r\nL 3481 0 \r\nL 2906 0 \r\nL 2906 525 \r\nQ 2725 213 2448 61 \r\nQ 2172 -91 1784 -91 \r\nQ 1150 -91 751 415 \r\nQ 353 922 353 1747 \r\nQ 353 2572 751 3078 \r\nQ 1150 3584 1784 3584 \r\nQ 2172 3584 2448 3432 \r\nQ 2725 3281 2906 2969 \r\nz\r\nM 947 1747 \r\nQ 947 1113 1208 752 \r\nQ 1469 391 1925 391 \r\nQ 2381 391 2643 752 \r\nQ 2906 1113 2906 1747 \r\nQ 2906 2381 2643 2742 \r\nQ 2381 3103 1925 3103 \r\nQ 1469 3103 1208 2742 \r\nQ 947 2381 947 1747 \r\nz\r\n\" id=\"DejaVuSans-64\" transform=\"scale(0.015625)\"/>\r\n       </defs>\r\n       <use xlink:href=\"#DejaVuSans-46\"/>\r\n       <use x=\"57.519531\" xlink:href=\"#DejaVuSans-6c\"/>\r\n       <use x=\"85.302734\" xlink:href=\"#DejaVuSans-6f\"/>\r\n       <use x=\"146.484375\" xlink:href=\"#DejaVuSans-72\"/>\r\n       <use x=\"187.597656\" xlink:href=\"#DejaVuSans-69\"/>\r\n       <use x=\"215.380859\" xlink:href=\"#DejaVuSans-64\"/>\r\n       <use x=\"278.857422\" xlink:href=\"#DejaVuSans-61\"/>\r\n      </g>\r\n     </g>\r\n    </g>\r\n    <g id=\"text_4\">\r\n     <!-- State -->\r\n     <g transform=\"translate(220.217969 252.916562)scale(0.1 -0.1)\">\r\n      <defs>\r\n       <path d=\"M 3425 4513 \r\nL 3425 3897 \r\nQ 3066 4069 2747 4153 \r\nQ 2428 4238 2131 4238 \r\nQ 1616 4238 1336 4038 \r\nQ 1056 3838 1056 3469 \r\nQ 1056 3159 1242 3001 \r\nQ 1428 2844 1947 2747 \r\nL 2328 2669 \r\nQ 3034 2534 3370 2195 \r\nQ 3706 1856 3706 1288 \r\nQ 3706 609 3251 259 \r\nQ 2797 -91 1919 -91 \r\nQ 1588 -91 1214 -16 \r\nQ 841 59 441 206 \r\nL 441 856 \r\nQ 825 641 1194 531 \r\nQ 1563 422 1919 422 \r\nQ 2459 422 2753 634 \r\nQ 3047 847 3047 1241 \r\nQ 3047 1584 2836 1778 \r\nQ 2625 1972 2144 2069 \r\nL 1759 2144 \r\nQ 1053 2284 737 2584 \r\nQ 422 2884 422 3419 \r\nQ 422 4038 858 4394 \r\nQ 1294 4750 2059 4750 \r\nQ 2388 4750 2728 4690 \r\nQ 3069 4631 3425 4513 \r\nz\r\n\" id=\"DejaVuSans-53\" transform=\"scale(0.015625)\"/>\r\n       <path d=\"M 1172 4494 \r\nL 1172 3500 \r\nL 2356 3500 \r\nL 2356 3053 \r\nL 1172 3053 \r\nL 1172 1153 \r\nQ 1172 725 1289 603 \r\nQ 1406 481 1766 481 \r\nL 2356 481 \r\nL 2356 0 \r\nL 1766 0 \r\nQ 1100 0 847 248 \r\nQ 594 497 594 1153 \r\nL 594 3053 \r\nL 172 3053 \r\nL 172 3500 \r\nL 594 3500 \r\nL 594 4494 \r\nL 1172 4494 \r\nz\r\n\" id=\"DejaVuSans-74\" transform=\"scale(0.015625)\"/>\r\n      </defs>\r\n      <use xlink:href=\"#DejaVuSans-53\"/>\r\n      <use x=\"63.476562\" xlink:href=\"#DejaVuSans-74\"/>\r\n      <use x=\"102.685547\" xlink:href=\"#DejaVuSans-61\"/>\r\n      <use x=\"163.964844\" xlink:href=\"#DejaVuSans-74\"/>\r\n      <use x=\"203.173828\" xlink:href=\"#DejaVuSans-65\"/>\r\n     </g>\r\n    </g>\r\n   </g>\r\n   <g id=\"matplotlib.axis_2\">\r\n    <g id=\"ytick_1\">\r\n     <g id=\"line2d_4\">\r\n      <defs>\r\n       <path d=\"M 0 0 \r\nL -3.5 0 \r\n\" id=\"m862ada4ad0\" style=\"stroke:#000000;stroke-width:0.8;\"/>\r\n      </defs>\r\n      <g>\r\n       <use style=\"stroke:#000000;stroke-width:0.8;\" x=\"66.053125\" xlink:href=\"#m862ada4ad0\" y=\"224.64\"/>\r\n      </g>\r\n     </g>\r\n     <g id=\"text_5\">\r\n      <!-- 0 -->\r\n      <g transform=\"translate(52.690625 228.439219)scale(0.1 -0.1)\">\r\n       <defs>\r\n        <path d=\"M 2034 4250 \r\nQ 1547 4250 1301 3770 \r\nQ 1056 3291 1056 2328 \r\nQ 1056 1369 1301 889 \r\nQ 1547 409 2034 409 \r\nQ 2525 409 2770 889 \r\nQ 3016 1369 3016 2328 \r\nQ 3016 3291 2770 3770 \r\nQ 2525 4250 2034 4250 \r\nz\r\nM 2034 4750 \r\nQ 2819 4750 3233 4129 \r\nQ 3647 3509 3647 2328 \r\nQ 3647 1150 3233 529 \r\nQ 2819 -91 2034 -91 \r\nQ 1250 -91 836 529 \r\nQ 422 1150 422 2328 \r\nQ 422 3509 836 4129 \r\nQ 1250 4750 2034 4750 \r\nz\r\n\" id=\"DejaVuSans-30\" transform=\"scale(0.015625)\"/>\r\n       </defs>\r\n       <use xlink:href=\"#DejaVuSans-30\"/>\r\n      </g>\r\n     </g>\r\n    </g>\r\n    <g id=\"ytick_2\">\r\n     <g id=\"line2d_5\">\r\n      <g>\r\n       <use style=\"stroke:#000000;stroke-width:0.8;\" x=\"66.053125\" xlink:href=\"#m862ada4ad0\" y=\"194.447721\"/>\r\n      </g>\r\n     </g>\r\n     <g id=\"text_6\">\r\n      <!-- 20000 -->\r\n      <g transform=\"translate(27.240625 198.24694)scale(0.1 -0.1)\">\r\n       <defs>\r\n        <path d=\"M 1228 531 \r\nL 3431 531 \r\nL 3431 0 \r\nL 469 0 \r\nL 469 531 \r\nQ 828 903 1448 1529 \r\nQ 2069 2156 2228 2338 \r\nQ 2531 2678 2651 2914 \r\nQ 2772 3150 2772 3378 \r\nQ 2772 3750 2511 3984 \r\nQ 2250 4219 1831 4219 \r\nQ 1534 4219 1204 4116 \r\nQ 875 4013 500 3803 \r\nL 500 4441 \r\nQ 881 4594 1212 4672 \r\nQ 1544 4750 1819 4750 \r\nQ 2544 4750 2975 4387 \r\nQ 3406 4025 3406 3419 \r\nQ 3406 3131 3298 2873 \r\nQ 3191 2616 2906 2266 \r\nQ 2828 2175 2409 1742 \r\nQ 1991 1309 1228 531 \r\nz\r\n\" id=\"DejaVuSans-32\" transform=\"scale(0.015625)\"/>\r\n       </defs>\r\n       <use xlink:href=\"#DejaVuSans-32\"/>\r\n       <use x=\"63.623047\" xlink:href=\"#DejaVuSans-30\"/>\r\n       <use x=\"127.246094\" xlink:href=\"#DejaVuSans-30\"/>\r\n       <use x=\"190.869141\" xlink:href=\"#DejaVuSans-30\"/>\r\n       <use x=\"254.492188\" xlink:href=\"#DejaVuSans-30\"/>\r\n      </g>\r\n     </g>\r\n    </g>\r\n    <g id=\"ytick_3\">\r\n     <g id=\"line2d_6\">\r\n      <g>\r\n       <use style=\"stroke:#000000;stroke-width:0.8;\" x=\"66.053125\" xlink:href=\"#m862ada4ad0\" y=\"164.255442\"/>\r\n      </g>\r\n     </g>\r\n     <g id=\"text_7\">\r\n      <!-- 40000 -->\r\n      <g transform=\"translate(27.240625 168.054661)scale(0.1 -0.1)\">\r\n       <defs>\r\n        <path d=\"M 2419 4116 \r\nL 825 1625 \r\nL 2419 1625 \r\nL 2419 4116 \r\nz\r\nM 2253 4666 \r\nL 3047 4666 \r\nL 3047 1625 \r\nL 3713 1625 \r\nL 3713 1100 \r\nL 3047 1100 \r\nL 3047 0 \r\nL 2419 0 \r\nL 2419 1100 \r\nL 313 1100 \r\nL 313 1709 \r\nL 2253 4666 \r\nz\r\n\" id=\"DejaVuSans-34\" transform=\"scale(0.015625)\"/>\r\n       </defs>\r\n       <use xlink:href=\"#DejaVuSans-34\"/>\r\n       <use x=\"63.623047\" xlink:href=\"#DejaVuSans-30\"/>\r\n       <use x=\"127.246094\" xlink:href=\"#DejaVuSans-30\"/>\r\n       <use x=\"190.869141\" xlink:href=\"#DejaVuSans-30\"/>\r\n       <use x=\"254.492188\" xlink:href=\"#DejaVuSans-30\"/>\r\n      </g>\r\n     </g>\r\n    </g>\r\n    <g id=\"ytick_4\">\r\n     <g id=\"line2d_7\">\r\n      <g>\r\n       <use style=\"stroke:#000000;stroke-width:0.8;\" x=\"66.053125\" xlink:href=\"#m862ada4ad0\" y=\"134.063163\"/>\r\n      </g>\r\n     </g>\r\n     <g id=\"text_8\">\r\n      <!-- 60000 -->\r\n      <g transform=\"translate(27.240625 137.862382)scale(0.1 -0.1)\">\r\n       <defs>\r\n        <path d=\"M 2113 2584 \r\nQ 1688 2584 1439 2293 \r\nQ 1191 2003 1191 1497 \r\nQ 1191 994 1439 701 \r\nQ 1688 409 2113 409 \r\nQ 2538 409 2786 701 \r\nQ 3034 994 3034 1497 \r\nQ 3034 2003 2786 2293 \r\nQ 2538 2584 2113 2584 \r\nz\r\nM 3366 4563 \r\nL 3366 3988 \r\nQ 3128 4100 2886 4159 \r\nQ 2644 4219 2406 4219 \r\nQ 1781 4219 1451 3797 \r\nQ 1122 3375 1075 2522 \r\nQ 1259 2794 1537 2939 \r\nQ 1816 3084 2150 3084 \r\nQ 2853 3084 3261 2657 \r\nQ 3669 2231 3669 1497 \r\nQ 3669 778 3244 343 \r\nQ 2819 -91 2113 -91 \r\nQ 1303 -91 875 529 \r\nQ 447 1150 447 2328 \r\nQ 447 3434 972 4092 \r\nQ 1497 4750 2381 4750 \r\nQ 2619 4750 2861 4703 \r\nQ 3103 4656 3366 4563 \r\nz\r\n\" id=\"DejaVuSans-36\" transform=\"scale(0.015625)\"/>\r\n       </defs>\r\n       <use xlink:href=\"#DejaVuSans-36\"/>\r\n       <use x=\"63.623047\" xlink:href=\"#DejaVuSans-30\"/>\r\n       <use x=\"127.246094\" xlink:href=\"#DejaVuSans-30\"/>\r\n       <use x=\"190.869141\" xlink:href=\"#DejaVuSans-30\"/>\r\n       <use x=\"254.492188\" xlink:href=\"#DejaVuSans-30\"/>\r\n      </g>\r\n     </g>\r\n    </g>\r\n    <g id=\"ytick_5\">\r\n     <g id=\"line2d_8\">\r\n      <g>\r\n       <use style=\"stroke:#000000;stroke-width:0.8;\" x=\"66.053125\" xlink:href=\"#m862ada4ad0\" y=\"103.870884\"/>\r\n      </g>\r\n     </g>\r\n     <g id=\"text_9\">\r\n      <!-- 80000 -->\r\n      <g transform=\"translate(27.240625 107.670103)scale(0.1 -0.1)\">\r\n       <defs>\r\n        <path d=\"M 2034 2216 \r\nQ 1584 2216 1326 1975 \r\nQ 1069 1734 1069 1313 \r\nQ 1069 891 1326 650 \r\nQ 1584 409 2034 409 \r\nQ 2484 409 2743 651 \r\nQ 3003 894 3003 1313 \r\nQ 3003 1734 2745 1975 \r\nQ 2488 2216 2034 2216 \r\nz\r\nM 1403 2484 \r\nQ 997 2584 770 2862 \r\nQ 544 3141 544 3541 \r\nQ 544 4100 942 4425 \r\nQ 1341 4750 2034 4750 \r\nQ 2731 4750 3128 4425 \r\nQ 3525 4100 3525 3541 \r\nQ 3525 3141 3298 2862 \r\nQ 3072 2584 2669 2484 \r\nQ 3125 2378 3379 2068 \r\nQ 3634 1759 3634 1313 \r\nQ 3634 634 3220 271 \r\nQ 2806 -91 2034 -91 \r\nQ 1263 -91 848 271 \r\nQ 434 634 434 1313 \r\nQ 434 1759 690 2068 \r\nQ 947 2378 1403 2484 \r\nz\r\nM 1172 3481 \r\nQ 1172 3119 1398 2916 \r\nQ 1625 2713 2034 2713 \r\nQ 2441 2713 2670 2916 \r\nQ 2900 3119 2900 3481 \r\nQ 2900 3844 2670 4047 \r\nQ 2441 4250 2034 4250 \r\nQ 1625 4250 1398 4047 \r\nQ 1172 3844 1172 3481 \r\nz\r\n\" id=\"DejaVuSans-38\" transform=\"scale(0.015625)\"/>\r\n       </defs>\r\n       <use xlink:href=\"#DejaVuSans-38\"/>\r\n       <use x=\"63.623047\" xlink:href=\"#DejaVuSans-30\"/>\r\n       <use x=\"127.246094\" xlink:href=\"#DejaVuSans-30\"/>\r\n       <use x=\"190.869141\" xlink:href=\"#DejaVuSans-30\"/>\r\n       <use x=\"254.492188\" xlink:href=\"#DejaVuSans-30\"/>\r\n      </g>\r\n     </g>\r\n    </g>\r\n    <g id=\"ytick_6\">\r\n     <g id=\"line2d_9\">\r\n      <g>\r\n       <use style=\"stroke:#000000;stroke-width:0.8;\" x=\"66.053125\" xlink:href=\"#m862ada4ad0\" y=\"73.678605\"/>\r\n      </g>\r\n     </g>\r\n     <g id=\"text_10\">\r\n      <!-- 100000 -->\r\n      <g transform=\"translate(20.878125 77.477823)scale(0.1 -0.1)\">\r\n       <defs>\r\n        <path d=\"M 794 531 \r\nL 1825 531 \r\nL 1825 4091 \r\nL 703 3866 \r\nL 703 4441 \r\nL 1819 4666 \r\nL 2450 4666 \r\nL 2450 531 \r\nL 3481 531 \r\nL 3481 0 \r\nL 794 0 \r\nL 794 531 \r\nz\r\n\" id=\"DejaVuSans-31\" transform=\"scale(0.015625)\"/>\r\n       </defs>\r\n       <use xlink:href=\"#DejaVuSans-31\"/>\r\n       <use x=\"63.623047\" xlink:href=\"#DejaVuSans-30\"/>\r\n       <use x=\"127.246094\" xlink:href=\"#DejaVuSans-30\"/>\r\n       <use x=\"190.869141\" xlink:href=\"#DejaVuSans-30\"/>\r\n       <use x=\"254.492188\" xlink:href=\"#DejaVuSans-30\"/>\r\n       <use x=\"318.115234\" xlink:href=\"#DejaVuSans-30\"/>\r\n      </g>\r\n     </g>\r\n    </g>\r\n    <g id=\"ytick_7\">\r\n     <g id=\"line2d_10\">\r\n      <g>\r\n       <use style=\"stroke:#000000;stroke-width:0.8;\" x=\"66.053125\" xlink:href=\"#m862ada4ad0\" y=\"43.486326\"/>\r\n      </g>\r\n     </g>\r\n     <g id=\"text_11\">\r\n      <!-- 120000 -->\r\n      <g transform=\"translate(20.878125 47.285544)scale(0.1 -0.1)\">\r\n       <use xlink:href=\"#DejaVuSans-31\"/>\r\n       <use x=\"63.623047\" xlink:href=\"#DejaVuSans-32\"/>\r\n       <use x=\"127.246094\" xlink:href=\"#DejaVuSans-30\"/>\r\n       <use x=\"190.869141\" xlink:href=\"#DejaVuSans-30\"/>\r\n       <use x=\"254.492188\" xlink:href=\"#DejaVuSans-30\"/>\r\n       <use x=\"318.115234\" xlink:href=\"#DejaVuSans-30\"/>\r\n      </g>\r\n     </g>\r\n    </g>\r\n    <g id=\"ytick_8\">\r\n     <g id=\"line2d_11\">\r\n      <g>\r\n       <use style=\"stroke:#000000;stroke-width:0.8;\" x=\"66.053125\" xlink:href=\"#m862ada4ad0\" y=\"13.294047\"/>\r\n      </g>\r\n     </g>\r\n     <g id=\"text_12\">\r\n      <!-- 140000 -->\r\n      <g transform=\"translate(20.878125 17.093265)scale(0.1 -0.1)\">\r\n       <use xlink:href=\"#DejaVuSans-31\"/>\r\n       <use x=\"63.623047\" xlink:href=\"#DejaVuSans-34\"/>\r\n       <use x=\"127.246094\" xlink:href=\"#DejaVuSans-30\"/>\r\n       <use x=\"190.869141\" xlink:href=\"#DejaVuSans-30\"/>\r\n       <use x=\"254.492188\" xlink:href=\"#DejaVuSans-30\"/>\r\n       <use x=\"318.115234\" xlink:href=\"#DejaVuSans-30\"/>\r\n      </g>\r\n     </g>\r\n    </g>\r\n    <g id=\"text_13\">\r\n     <!-- Profit -->\r\n     <g transform=\"translate(14.798438 128.959062)rotate(-90)scale(0.1 -0.1)\">\r\n      <defs>\r\n       <path d=\"M 1259 4147 \r\nL 1259 2394 \r\nL 2053 2394 \r\nQ 2494 2394 2734 2622 \r\nQ 2975 2850 2975 3272 \r\nQ 2975 3691 2734 3919 \r\nQ 2494 4147 2053 4147 \r\nL 1259 4147 \r\nz\r\nM 628 4666 \r\nL 2053 4666 \r\nQ 2838 4666 3239 4311 \r\nQ 3641 3956 3641 3272 \r\nQ 3641 2581 3239 2228 \r\nQ 2838 1875 2053 1875 \r\nL 1259 1875 \r\nL 1259 0 \r\nL 628 0 \r\nL 628 4666 \r\nz\r\n\" id=\"DejaVuSans-50\" transform=\"scale(0.015625)\"/>\r\n      </defs>\r\n      <use xlink:href=\"#DejaVuSans-50\"/>\r\n      <use x=\"58.552734\" xlink:href=\"#DejaVuSans-72\"/>\r\n      <use x=\"97.416016\" xlink:href=\"#DejaVuSans-6f\"/>\r\n      <use x=\"158.597656\" xlink:href=\"#DejaVuSans-66\"/>\r\n      <use x=\"193.802734\" xlink:href=\"#DejaVuSans-69\"/>\r\n      <use x=\"221.585938\" xlink:href=\"#DejaVuSans-74\"/>\r\n     </g>\r\n    </g>\r\n   </g>\r\n   <g id=\"line2d_12\">\r\n    <path clip-path=\"url(#p7435c0d1a0)\" d=\"M 121.853125 80.952871 \r\nL 121.853125 21.3608 \r\n\" style=\"fill:none;stroke:#424242;stroke-linecap:square;stroke-width:2.7;\"/>\r\n   </g>\r\n   <g id=\"line2d_13\">\r\n    <path clip-path=\"url(#p7435c0d1a0)\" d=\"M 233.453125 100.248417 \r\nL 233.453125 36.528165 \r\n\" style=\"fill:none;stroke:#424242;stroke-linecap:square;stroke-width:2.7;\"/>\r\n   </g>\r\n   <g id=\"line2d_14\">\r\n    <path clip-path=\"url(#p7435c0d1a0)\" d=\"M 345.053125 69.325696 \r\nL 345.053125 17.554286 \r\n\" style=\"fill:none;stroke:#424242;stroke-linecap:square;stroke-width:2.7;\"/>\r\n   </g>\r\n   <g id=\"patch_6\">\r\n    <path d=\"M 66.053125 224.64 \r\nL 66.053125 7.2 \r\n\" style=\"fill:none;stroke:#000000;stroke-linecap:square;stroke-linejoin:miter;stroke-width:0.8;\"/>\r\n   </g>\r\n   <g id=\"patch_7\">\r\n    <path d=\"M 400.853125 224.64 \r\nL 400.853125 7.2 \r\n\" style=\"fill:none;stroke:#000000;stroke-linecap:square;stroke-linejoin:miter;stroke-width:0.8;\"/>\r\n   </g>\r\n   <g id=\"patch_8\">\r\n    <path d=\"M 66.053125 224.64 \r\nL 400.853125 224.64 \r\n\" style=\"fill:none;stroke:#000000;stroke-linecap:square;stroke-linejoin:miter;stroke-width:0.8;\"/>\r\n   </g>\r\n   <g id=\"patch_9\">\r\n    <path d=\"M 66.053125 7.2 \r\nL 400.853125 7.2 \r\n\" style=\"fill:none;stroke:#000000;stroke-linecap:square;stroke-linejoin:miter;stroke-width:0.8;\"/>\r\n   </g>\r\n  </g>\r\n </g>\r\n <defs>\r\n  <clipPath id=\"p7435c0d1a0\">\r\n   <rect height=\"217.44\" width=\"334.8\" x=\"66.053125\" y=\"7.2\"/>\r\n  </clipPath>\r\n </defs>\r\n</svg>\r\n",
      "image/png": "[encoded data removed]"
     },
     "metadata": {
      "needs_background": "light"
     }
    }
   ],
   "metadata": {
    "scrolled": true
   }
  },
  {
   "cell_type": "code",
   "execution_count": 115,
   "source": [
    "# categorical features visualisation\r\n",
    "# 'Profit' split in 'Category' level\r\n",
    "sns.barplot(x = 'Category', y = 'Profit', data = train, palette = \"Blues_d\")\r\n",
    "plt.xticks(rotation=90)"
   ],
   "outputs": [
    {
     "output_type": "execute_result",
     "data": {
      "text/plain": [
       "(array([0, 1, 2, 3, 4, 5, 6]),\n",
       " [Text(0, 0, 'Industrials'),\n",
       "  Text(1, 0, 'Technology'),\n",
       "  Text(2, 0, 'Healthcare'),\n",
       "  Text(3, 0, 'Financials'),\n",
       "  Text(4, 0, 'Telecommunications'),\n",
       "  Text(5, 0, 'None'),\n",
       "  Text(6, 0, 'Oil & Gas')])"
      ]
     },
     "metadata": {},
     "execution_count": 115
    },
    {
     "output_type": "display_data",
     "data": {
      "text/plain": [
       "<Figure size 432x288 with 1 Axes>"
      ],
      "image/svg+xml": "<?xml version=\"1.0\" encoding=\"utf-8\" standalone=\"no\"?>\r\n<!DOCTYPE svg PUBLIC \"-//W3C//DTD SVG 1.1//EN\"\r\n  \"http://www.w3.org/Graphics/SVG/1.1/DTD/svg11.dtd\">\r\n<svg height=\"354.5525pt\" version=\"1.1\" viewBox=\"0 0 408.053125 354.5525\" width=\"408.053125pt\" xmlns=\"http://www.w3.org/2000/svg\" xmlns:xlink=\"http://www.w3.org/1999/xlink\">\r\n <metadata>\r\n  <rdf:RDF xmlns:cc=\"http://creativecommons.org/ns#\" xmlns:dc=\"http://purl.org/dc/elements/1.1/\" xmlns:rdf=\"http://www.w3.org/1999/02/22-rdf-syntax-ns#\">\r\n   <cc:Work>\r\n    <dc:type rdf:resource=\"http://purl.org/dc/dcmitype/StillImage\"/>\r\n    <dc:date>2021-08-06T16:35:22.731582</dc:date>\r\n    <dc:format>image/svg+xml</dc:format>\r\n    <dc:creator>\r\n     <cc:Agent>\r\n      <dc:title>Matplotlib v3.4.2, https://matplotlib.org/</dc:title>\r\n     </cc:Agent>\r\n    </dc:creator>\r\n   </cc:Work>\r\n  </rdf:RDF>\r\n </metadata>\r\n <defs>\r\n  <style type=\"text/css\">*{stroke-linecap:butt;stroke-linejoin:round;}</style>\r\n </defs>\r\n <g id=\"figure_1\">\r\n  <g id=\"patch_1\">\r\n   <path d=\"M 0 354.5525 \r\nL 408.053125 354.5525 \r\nL 408.053125 0 \r\nL 0 0 \r\nz\r\n\" style=\"fill:none;\"/>\r\n  </g>\r\n  <g id=\"axes_1\">\r\n   <g id=\"patch_2\">\r\n    <path d=\"M 66.053125 224.64 \r\nL 400.853125 224.64 \r\nL 400.853125 7.2 \r\nL 66.053125 7.2 \r\nz\r\n\" style=\"fill:#ffffff;\"/>\r\n   </g>\r\n   <g id=\"patch_3\">\r\n    <path clip-path=\"url(#p37e549eae8)\" d=\"M 70.835982 224.64 \r\nL 109.098839 224.64 \r\nL 109.098839 77.471641 \r\nL 70.835982 77.471641 \r\nz\r\n\" style=\"fill:#98bbd3;\"/>\r\n   </g>\r\n   <g id=\"patch_4\">\r\n    <path clip-path=\"url(#p37e549eae8)\" d=\"M 118.664554 224.64 \r\nL 156.927411 224.64 \r\nL 156.927411 92.279864 \r\nL 118.664554 92.279864 \r\nz\r\n\" style=\"fill:#7da9c7;\"/>\r\n   </g>\r\n   <g id=\"patch_5\">\r\n    <path clip-path=\"url(#p37e549eae8)\" d=\"M 166.493125 224.64 \r\nL 204.755982 224.64 \r\nL 204.755982 86.029756 \r\nL 166.493125 86.029756 \r\nz\r\n\" style=\"fill:#6296bb;\"/>\r\n   </g>\r\n   <g id=\"patch_6\">\r\n    <path clip-path=\"url(#p37e549eae8)\" d=\"M 214.321696 224.64 \r\nL 252.584554 224.64 \r\nL 252.584554 92.311489 \r\nL 214.321696 92.311489 \r\nz\r\n\" style=\"fill:#4884af;\"/>\r\n   </g>\r\n   <g id=\"patch_7\">\r\n    <path clip-path=\"url(#p37e549eae8)\" d=\"M 262.150268 224.64 \r\nL 300.413125 224.64 \r\nL 300.413125 67.347007 \r\nL 262.150268 67.347007 \r\nz\r\n\" style=\"fill:#436f90;\"/>\r\n   </g>\r\n   <g id=\"patch_8\">\r\n    <path clip-path=\"url(#p37e549eae8)\" d=\"M 309.978839 224.64 \r\nL 348.241696 224.64 \r\nL 348.241696 92.373355 \r\nL 309.978839 92.373355 \r\nz\r\n\" style=\"fill:#3d5b70;\"/>\r\n   </g>\r\n   <g id=\"patch_9\">\r\n    <path clip-path=\"url(#p37e549eae8)\" d=\"M 357.807411 224.64 \r\nL 396.070268 224.64 \r\nL 396.070268 139.783496 \r\nL 357.807411 139.783496 \r\nz\r\n\" style=\"fill:#384751;\"/>\r\n   </g>\r\n   <g id=\"matplotlib.axis_1\">\r\n    <g id=\"xtick_1\">\r\n     <g id=\"line2d_1\">\r\n      <defs>\r\n       <path d=\"M 0 0 \r\nL 0 3.5 \r\n\" id=\"m63fc1b54a2\" style=\"stroke:#000000;stroke-width:0.8;\"/>\r\n      </defs>\r\n      <g>\r\n       <use style=\"stroke:#000000;stroke-width:0.8;\" x=\"89.967411\" xlink:href=\"#m63fc1b54a2\" y=\"224.64\"/>\r\n      </g>\r\n     </g>\r\n     <g id=\"text_1\">\r\n      <!-- Industrials -->\r\n      <g transform=\"translate(92.726786 283.747813)rotate(-90)scale(0.1 -0.1)\">\r\n       <defs>\r\n        <path d=\"M 628 4666 \r\nL 1259 4666 \r\nL 1259 0 \r\nL 628 0 \r\nL 628 4666 \r\nz\r\n\" id=\"DejaVuSans-49\" transform=\"scale(0.015625)\"/>\r\n        <path d=\"M 3513 2113 \r\nL 3513 0 \r\nL 2938 0 \r\nL 2938 2094 \r\nQ 2938 2591 2744 2837 \r\nQ 2550 3084 2163 3084 \r\nQ 1697 3084 1428 2787 \r\nQ 1159 2491 1159 1978 \r\nL 1159 0 \r\nL 581 0 \r\nL 581 3500 \r\nL 1159 3500 \r\nL 1159 2956 \r\nQ 1366 3272 1645 3428 \r\nQ 1925 3584 2291 3584 \r\nQ 2894 3584 3203 3211 \r\nQ 3513 2838 3513 2113 \r\nz\r\n\" id=\"DejaVuSans-6e\" transform=\"scale(0.015625)\"/>\r\n        <path d=\"M 2906 2969 \r\nL 2906 4863 \r\nL 3481 4863 \r\nL 3481 0 \r\nL 2906 0 \r\nL 2906 525 \r\nQ 2725 213 2448 61 \r\nQ 2172 -91 1784 -91 \r\nQ 1150 -91 751 415 \r\nQ 353 922 353 1747 \r\nQ 353 2572 751 3078 \r\nQ 1150 3584 1784 3584 \r\nQ 2172 3584 2448 3432 \r\nQ 2725 3281 2906 2969 \r\nz\r\nM 947 1747 \r\nQ 947 1113 1208 752 \r\nQ 1469 391 1925 391 \r\nQ 2381 391 2643 752 \r\nQ 2906 1113 2906 1747 \r\nQ 2906 2381 2643 2742 \r\nQ 2381 3103 1925 3103 \r\nQ 1469 3103 1208 2742 \r\nQ 947 2381 947 1747 \r\nz\r\n\" id=\"DejaVuSans-64\" transform=\"scale(0.015625)\"/>\r\n        <path d=\"M 544 1381 \r\nL 544 3500 \r\nL 1119 3500 \r\nL 1119 1403 \r\nQ 1119 906 1312 657 \r\nQ 1506 409 1894 409 \r\nQ 2359 409 2629 706 \r\nQ 2900 1003 2900 1516 \r\nL 2900 3500 \r\nL 3475 3500 \r\nL 3475 0 \r\nL 2900 0 \r\nL 2900 538 \r\nQ 2691 219 2414 64 \r\nQ 2138 -91 1772 -91 \r\nQ 1169 -91 856 284 \r\nQ 544 659 544 1381 \r\nz\r\nM 1991 3584 \r\nL 1991 3584 \r\nz\r\n\" id=\"DejaVuSans-75\" transform=\"scale(0.015625)\"/>\r\n        <path d=\"M 2834 3397 \r\nL 2834 2853 \r\nQ 2591 2978 2328 3040 \r\nQ 2066 3103 1784 3103 \r\nQ 1356 3103 1142 2972 \r\nQ 928 2841 928 2578 \r\nQ 928 2378 1081 2264 \r\nQ 1234 2150 1697 2047 \r\nL 1894 2003 \r\nQ 2506 1872 2764 1633 \r\nQ 3022 1394 3022 966 \r\nQ 3022 478 2636 193 \r\nQ 2250 -91 1575 -91 \r\nQ 1294 -91 989 -36 \r\nQ 684 19 347 128 \r\nL 347 722 \r\nQ 666 556 975 473 \r\nQ 1284 391 1588 391 \r\nQ 1994 391 2212 530 \r\nQ 2431 669 2431 922 \r\nQ 2431 1156 2273 1281 \r\nQ 2116 1406 1581 1522 \r\nL 1381 1569 \r\nQ 847 1681 609 1914 \r\nQ 372 2147 372 2553 \r\nQ 372 3047 722 3315 \r\nQ 1072 3584 1716 3584 \r\nQ 2034 3584 2315 3537 \r\nQ 2597 3491 2834 3397 \r\nz\r\n\" id=\"DejaVuSans-73\" transform=\"scale(0.015625)\"/>\r\n        <path d=\"M 1172 4494 \r\nL 1172 3500 \r\nL 2356 3500 \r\nL 2356 3053 \r\nL 1172 3053 \r\nL 1172 1153 \r\nQ 1172 725 1289 603 \r\nQ 1406 481 1766 481 \r\nL 2356 481 \r\nL 2356 0 \r\nL 1766 0 \r\nQ 1100 0 847 248 \r\nQ 594 497 594 1153 \r\nL 594 3053 \r\nL 172 3053 \r\nL 172 3500 \r\nL 594 3500 \r\nL 594 4494 \r\nL 1172 4494 \r\nz\r\n\" id=\"DejaVuSans-74\" transform=\"scale(0.015625)\"/>\r\n        <path d=\"M 2631 2963 \r\nQ 2534 3019 2420 3045 \r\nQ 2306 3072 2169 3072 \r\nQ 1681 3072 1420 2755 \r\nQ 1159 2438 1159 1844 \r\nL 1159 0 \r\nL 581 0 \r\nL 581 3500 \r\nL 1159 3500 \r\nL 1159 2956 \r\nQ 1341 3275 1631 3429 \r\nQ 1922 3584 2338 3584 \r\nQ 2397 3584 2469 3576 \r\nQ 2541 3569 2628 3553 \r\nL 2631 2963 \r\nz\r\n\" id=\"DejaVuSans-72\" transform=\"scale(0.015625)\"/>\r\n        <path d=\"M 603 3500 \r\nL 1178 3500 \r\nL 1178 0 \r\nL 603 0 \r\nL 603 3500 \r\nz\r\nM 603 4863 \r\nL 1178 4863 \r\nL 1178 4134 \r\nL 603 4134 \r\nL 603 4863 \r\nz\r\n\" id=\"DejaVuSans-69\" transform=\"scale(0.015625)\"/>\r\n        <path d=\"M 2194 1759 \r\nQ 1497 1759 1228 1600 \r\nQ 959 1441 959 1056 \r\nQ 959 750 1161 570 \r\nQ 1363 391 1709 391 \r\nQ 2188 391 2477 730 \r\nQ 2766 1069 2766 1631 \r\nL 2766 1759 \r\nL 2194 1759 \r\nz\r\nM 3341 1997 \r\nL 3341 0 \r\nL 2766 0 \r\nL 2766 531 \r\nQ 2569 213 2275 61 \r\nQ 1981 -91 1556 -91 \r\nQ 1019 -91 701 211 \r\nQ 384 513 384 1019 \r\nQ 384 1609 779 1909 \r\nQ 1175 2209 1959 2209 \r\nL 2766 2209 \r\nL 2766 2266 \r\nQ 2766 2663 2505 2880 \r\nQ 2244 3097 1772 3097 \r\nQ 1472 3097 1187 3025 \r\nQ 903 2953 641 2809 \r\nL 641 3341 \r\nQ 956 3463 1253 3523 \r\nQ 1550 3584 1831 3584 \r\nQ 2591 3584 2966 3190 \r\nQ 3341 2797 3341 1997 \r\nz\r\n\" id=\"DejaVuSans-61\" transform=\"scale(0.015625)\"/>\r\n        <path d=\"M 603 4863 \r\nL 1178 4863 \r\nL 1178 0 \r\nL 603 0 \r\nL 603 4863 \r\nz\r\n\" id=\"DejaVuSans-6c\" transform=\"scale(0.015625)\"/>\r\n       </defs>\r\n       <use xlink:href=\"#DejaVuSans-49\"/>\r\n       <use x=\"29.492188\" xlink:href=\"#DejaVuSans-6e\"/>\r\n       <use x=\"92.871094\" xlink:href=\"#DejaVuSans-64\"/>\r\n       <use x=\"156.347656\" xlink:href=\"#DejaVuSans-75\"/>\r\n       <use x=\"219.726562\" xlink:href=\"#DejaVuSans-73\"/>\r\n       <use x=\"271.826172\" xlink:href=\"#DejaVuSans-74\"/>\r\n       <use x=\"311.035156\" xlink:href=\"#DejaVuSans-72\"/>\r\n       <use x=\"352.148438\" xlink:href=\"#DejaVuSans-69\"/>\r\n       <use x=\"379.931641\" xlink:href=\"#DejaVuSans-61\"/>\r\n       <use x=\"441.210938\" xlink:href=\"#DejaVuSans-6c\"/>\r\n       <use x=\"468.994141\" xlink:href=\"#DejaVuSans-73\"/>\r\n      </g>\r\n     </g>\r\n    </g>\r\n    <g id=\"xtick_2\">\r\n     <g id=\"line2d_2\">\r\n      <g>\r\n       <use style=\"stroke:#000000;stroke-width:0.8;\" x=\"137.795982\" xlink:href=\"#m63fc1b54a2\" y=\"224.64\"/>\r\n      </g>\r\n     </g>\r\n     <g id=\"text_2\">\r\n      <!-- Technology -->\r\n      <g transform=\"translate(140.555357 287.657187)rotate(-90)scale(0.1 -0.1)\">\r\n       <defs>\r\n        <path d=\"M -19 4666 \r\nL 3928 4666 \r\nL 3928 4134 \r\nL 2272 4134 \r\nL 2272 0 \r\nL 1638 0 \r\nL 1638 4134 \r\nL -19 4134 \r\nL -19 4666 \r\nz\r\n\" id=\"DejaVuSans-54\" transform=\"scale(0.015625)\"/>\r\n        <path d=\"M 3597 1894 \r\nL 3597 1613 \r\nL 953 1613 \r\nQ 991 1019 1311 708 \r\nQ 1631 397 2203 397 \r\nQ 2534 397 2845 478 \r\nQ 3156 559 3463 722 \r\nL 3463 178 \r\nQ 3153 47 2828 -22 \r\nQ 2503 -91 2169 -91 \r\nQ 1331 -91 842 396 \r\nQ 353 884 353 1716 \r\nQ 353 2575 817 3079 \r\nQ 1281 3584 2069 3584 \r\nQ 2775 3584 3186 3129 \r\nQ 3597 2675 3597 1894 \r\nz\r\nM 3022 2063 \r\nQ 3016 2534 2758 2815 \r\nQ 2500 3097 2075 3097 \r\nQ 1594 3097 1305 2825 \r\nQ 1016 2553 972 2059 \r\nL 3022 2063 \r\nz\r\n\" id=\"DejaVuSans-65\" transform=\"scale(0.015625)\"/>\r\n        <path d=\"M 3122 3366 \r\nL 3122 2828 \r\nQ 2878 2963 2633 3030 \r\nQ 2388 3097 2138 3097 \r\nQ 1578 3097 1268 2742 \r\nQ 959 2388 959 1747 \r\nQ 959 1106 1268 751 \r\nQ 1578 397 2138 397 \r\nQ 2388 397 2633 464 \r\nQ 2878 531 3122 666 \r\nL 3122 134 \r\nQ 2881 22 2623 -34 \r\nQ 2366 -91 2075 -91 \r\nQ 1284 -91 818 406 \r\nQ 353 903 353 1747 \r\nQ 353 2603 823 3093 \r\nQ 1294 3584 2113 3584 \r\nQ 2378 3584 2631 3529 \r\nQ 2884 3475 3122 3366 \r\nz\r\n\" id=\"DejaVuSans-63\" transform=\"scale(0.015625)\"/>\r\n        <path d=\"M 3513 2113 \r\nL 3513 0 \r\nL 2938 0 \r\nL 2938 2094 \r\nQ 2938 2591 2744 2837 \r\nQ 2550 3084 2163 3084 \r\nQ 1697 3084 1428 2787 \r\nQ 1159 2491 1159 1978 \r\nL 1159 0 \r\nL 581 0 \r\nL 581 4863 \r\nL 1159 4863 \r\nL 1159 2956 \r\nQ 1366 3272 1645 3428 \r\nQ 1925 3584 2291 3584 \r\nQ 2894 3584 3203 3211 \r\nQ 3513 2838 3513 2113 \r\nz\r\n\" id=\"DejaVuSans-68\" transform=\"scale(0.015625)\"/>\r\n        <path d=\"M 1959 3097 \r\nQ 1497 3097 1228 2736 \r\nQ 959 2375 959 1747 \r\nQ 959 1119 1226 758 \r\nQ 1494 397 1959 397 \r\nQ 2419 397 2687 759 \r\nQ 2956 1122 2956 1747 \r\nQ 2956 2369 2687 2733 \r\nQ 2419 3097 1959 3097 \r\nz\r\nM 1959 3584 \r\nQ 2709 3584 3137 3096 \r\nQ 3566 2609 3566 1747 \r\nQ 3566 888 3137 398 \r\nQ 2709 -91 1959 -91 \r\nQ 1206 -91 779 398 \r\nQ 353 888 353 1747 \r\nQ 353 2609 779 3096 \r\nQ 1206 3584 1959 3584 \r\nz\r\n\" id=\"DejaVuSans-6f\" transform=\"scale(0.015625)\"/>\r\n        <path d=\"M 2906 1791 \r\nQ 2906 2416 2648 2759 \r\nQ 2391 3103 1925 3103 \r\nQ 1463 3103 1205 2759 \r\nQ 947 2416 947 1791 \r\nQ 947 1169 1205 825 \r\nQ 1463 481 1925 481 \r\nQ 2391 481 2648 825 \r\nQ 2906 1169 2906 1791 \r\nz\r\nM 3481 434 \r\nQ 3481 -459 3084 -895 \r\nQ 2688 -1331 1869 -1331 \r\nQ 1566 -1331 1297 -1286 \r\nQ 1028 -1241 775 -1147 \r\nL 775 -588 \r\nQ 1028 -725 1275 -790 \r\nQ 1522 -856 1778 -856 \r\nQ 2344 -856 2625 -561 \r\nQ 2906 -266 2906 331 \r\nL 2906 616 \r\nQ 2728 306 2450 153 \r\nQ 2172 0 1784 0 \r\nQ 1141 0 747 490 \r\nQ 353 981 353 1791 \r\nQ 353 2603 747 3093 \r\nQ 1141 3584 1784 3584 \r\nQ 2172 3584 2450 3431 \r\nQ 2728 3278 2906 2969 \r\nL 2906 3500 \r\nL 3481 3500 \r\nL 3481 434 \r\nz\r\n\" id=\"DejaVuSans-67\" transform=\"scale(0.015625)\"/>\r\n        <path d=\"M 2059 -325 \r\nQ 1816 -950 1584 -1140 \r\nQ 1353 -1331 966 -1331 \r\nL 506 -1331 \r\nL 506 -850 \r\nL 844 -850 \r\nQ 1081 -850 1212 -737 \r\nQ 1344 -625 1503 -206 \r\nL 1606 56 \r\nL 191 3500 \r\nL 800 3500 \r\nL 1894 763 \r\nL 2988 3500 \r\nL 3597 3500 \r\nL 2059 -325 \r\nz\r\n\" id=\"DejaVuSans-79\" transform=\"scale(0.015625)\"/>\r\n       </defs>\r\n       <use xlink:href=\"#DejaVuSans-54\"/>\r\n       <use x=\"44.083984\" xlink:href=\"#DejaVuSans-65\"/>\r\n       <use x=\"105.607422\" xlink:href=\"#DejaVuSans-63\"/>\r\n       <use x=\"160.587891\" xlink:href=\"#DejaVuSans-68\"/>\r\n       <use x=\"223.966797\" xlink:href=\"#DejaVuSans-6e\"/>\r\n       <use x=\"287.345703\" xlink:href=\"#DejaVuSans-6f\"/>\r\n       <use x=\"348.527344\" xlink:href=\"#DejaVuSans-6c\"/>\r\n       <use x=\"376.310547\" xlink:href=\"#DejaVuSans-6f\"/>\r\n       <use x=\"437.492188\" xlink:href=\"#DejaVuSans-67\"/>\r\n       <use x=\"500.96875\" xlink:href=\"#DejaVuSans-79\"/>\r\n      </g>\r\n     </g>\r\n    </g>\r\n    <g id=\"xtick_3\">\r\n     <g id=\"line2d_3\">\r\n      <g>\r\n       <use style=\"stroke:#000000;stroke-width:0.8;\" x=\"185.624554\" xlink:href=\"#m63fc1b54a2\" y=\"224.64\"/>\r\n      </g>\r\n     </g>\r\n     <g id=\"text_3\">\r\n      <!-- Healthcare -->\r\n      <g transform=\"translate(188.383929 286.143125)rotate(-90)scale(0.1 -0.1)\">\r\n       <defs>\r\n        <path d=\"M 628 4666 \r\nL 1259 4666 \r\nL 1259 2753 \r\nL 3553 2753 \r\nL 3553 4666 \r\nL 4184 4666 \r\nL 4184 0 \r\nL 3553 0 \r\nL 3553 2222 \r\nL 1259 2222 \r\nL 1259 0 \r\nL 628 0 \r\nL 628 4666 \r\nz\r\n\" id=\"DejaVuSans-48\" transform=\"scale(0.015625)\"/>\r\n       </defs>\r\n       <use xlink:href=\"#DejaVuSans-48\"/>\r\n       <use x=\"75.195312\" xlink:href=\"#DejaVuSans-65\"/>\r\n       <use x=\"136.71875\" xlink:href=\"#DejaVuSans-61\"/>\r\n       <use x=\"197.998047\" xlink:href=\"#DejaVuSans-6c\"/>\r\n       <use x=\"225.78125\" xlink:href=\"#DejaVuSans-74\"/>\r\n       <use x=\"264.990234\" xlink:href=\"#DejaVuSans-68\"/>\r\n       <use x=\"328.369141\" xlink:href=\"#DejaVuSans-63\"/>\r\n       <use x=\"383.349609\" xlink:href=\"#DejaVuSans-61\"/>\r\n       <use x=\"444.628906\" xlink:href=\"#DejaVuSans-72\"/>\r\n       <use x=\"483.492188\" xlink:href=\"#DejaVuSans-65\"/>\r\n      </g>\r\n     </g>\r\n    </g>\r\n    <g id=\"xtick_4\">\r\n     <g id=\"line2d_4\">\r\n      <g>\r\n       <use style=\"stroke:#000000;stroke-width:0.8;\" x=\"233.453125\" xlink:href=\"#m63fc1b54a2\" y=\"224.64\"/>\r\n      </g>\r\n     </g>\r\n     <g id=\"text_4\">\r\n      <!-- Financials -->\r\n      <g transform=\"translate(236.2125 280.64)rotate(-90)scale(0.1 -0.1)\">\r\n       <defs>\r\n        <path d=\"M 628 4666 \r\nL 3309 4666 \r\nL 3309 4134 \r\nL 1259 4134 \r\nL 1259 2759 \r\nL 3109 2759 \r\nL 3109 2228 \r\nL 1259 2228 \r\nL 1259 0 \r\nL 628 0 \r\nL 628 4666 \r\nz\r\n\" id=\"DejaVuSans-46\" transform=\"scale(0.015625)\"/>\r\n       </defs>\r\n       <use xlink:href=\"#DejaVuSans-46\"/>\r\n       <use x=\"50.269531\" xlink:href=\"#DejaVuSans-69\"/>\r\n       <use x=\"78.052734\" xlink:href=\"#DejaVuSans-6e\"/>\r\n       <use x=\"141.431641\" xlink:href=\"#DejaVuSans-61\"/>\r\n       <use x=\"202.710938\" xlink:href=\"#DejaVuSans-6e\"/>\r\n       <use x=\"266.089844\" xlink:href=\"#DejaVuSans-63\"/>\r\n       <use x=\"321.070312\" xlink:href=\"#DejaVuSans-69\"/>\r\n       <use x=\"348.853516\" xlink:href=\"#DejaVuSans-61\"/>\r\n       <use x=\"410.132812\" xlink:href=\"#DejaVuSans-6c\"/>\r\n       <use x=\"437.916016\" xlink:href=\"#DejaVuSans-73\"/>\r\n      </g>\r\n     </g>\r\n    </g>\r\n    <g id=\"xtick_5\">\r\n     <g id=\"line2d_5\">\r\n      <g>\r\n       <use style=\"stroke:#000000;stroke-width:0.8;\" x=\"281.281696\" xlink:href=\"#m63fc1b54a2\" y=\"224.64\"/>\r\n      </g>\r\n     </g>\r\n     <g id=\"text_5\">\r\n      <!-- Telecommunications -->\r\n      <g transform=\"translate(284.041071 333.674375)rotate(-90)scale(0.1 -0.1)\">\r\n       <defs>\r\n        <path d=\"M 3328 2828 \r\nQ 3544 3216 3844 3400 \r\nQ 4144 3584 4550 3584 \r\nQ 5097 3584 5394 3201 \r\nQ 5691 2819 5691 2113 \r\nL 5691 0 \r\nL 5113 0 \r\nL 5113 2094 \r\nQ 5113 2597 4934 2840 \r\nQ 4756 3084 4391 3084 \r\nQ 3944 3084 3684 2787 \r\nQ 3425 2491 3425 1978 \r\nL 3425 0 \r\nL 2847 0 \r\nL 2847 2094 \r\nQ 2847 2600 2669 2842 \r\nQ 2491 3084 2119 3084 \r\nQ 1678 3084 1418 2786 \r\nQ 1159 2488 1159 1978 \r\nL 1159 0 \r\nL 581 0 \r\nL 581 3500 \r\nL 1159 3500 \r\nL 1159 2956 \r\nQ 1356 3278 1631 3431 \r\nQ 1906 3584 2284 3584 \r\nQ 2666 3584 2933 3390 \r\nQ 3200 3197 3328 2828 \r\nz\r\n\" id=\"DejaVuSans-6d\" transform=\"scale(0.015625)\"/>\r\n       </defs>\r\n       <use xlink:href=\"#DejaVuSans-54\"/>\r\n       <use x=\"44.083984\" xlink:href=\"#DejaVuSans-65\"/>\r\n       <use x=\"105.607422\" xlink:href=\"#DejaVuSans-6c\"/>\r\n       <use x=\"133.390625\" xlink:href=\"#DejaVuSans-65\"/>\r\n       <use x=\"194.914062\" xlink:href=\"#DejaVuSans-63\"/>\r\n       <use x=\"249.894531\" xlink:href=\"#DejaVuSans-6f\"/>\r\n       <use x=\"311.076172\" xlink:href=\"#DejaVuSans-6d\"/>\r\n       <use x=\"408.488281\" xlink:href=\"#DejaVuSans-6d\"/>\r\n       <use x=\"505.900391\" xlink:href=\"#DejaVuSans-75\"/>\r\n       <use x=\"569.279297\" xlink:href=\"#DejaVuSans-6e\"/>\r\n       <use x=\"632.658203\" xlink:href=\"#DejaVuSans-69\"/>\r\n       <use x=\"660.441406\" xlink:href=\"#DejaVuSans-63\"/>\r\n       <use x=\"715.421875\" xlink:href=\"#DejaVuSans-61\"/>\r\n       <use x=\"776.701172\" xlink:href=\"#DejaVuSans-74\"/>\r\n       <use x=\"815.910156\" xlink:href=\"#DejaVuSans-69\"/>\r\n       <use x=\"843.693359\" xlink:href=\"#DejaVuSans-6f\"/>\r\n       <use x=\"904.875\" xlink:href=\"#DejaVuSans-6e\"/>\r\n       <use x=\"968.253906\" xlink:href=\"#DejaVuSans-73\"/>\r\n      </g>\r\n     </g>\r\n    </g>\r\n    <g id=\"xtick_6\">\r\n     <g id=\"line2d_6\">\r\n      <g>\r\n       <use style=\"stroke:#000000;stroke-width:0.8;\" x=\"329.110268\" xlink:href=\"#m63fc1b54a2\" y=\"224.64\"/>\r\n      </g>\r\n     </g>\r\n     <g id=\"text_6\">\r\n      <!-- None -->\r\n      <g transform=\"translate(331.869643 257.730625)rotate(-90)scale(0.1 -0.1)\">\r\n       <defs>\r\n        <path d=\"M 628 4666 \r\nL 1478 4666 \r\nL 3547 763 \r\nL 3547 4666 \r\nL 4159 4666 \r\nL 4159 0 \r\nL 3309 0 \r\nL 1241 3903 \r\nL 1241 0 \r\nL 628 0 \r\nL 628 4666 \r\nz\r\n\" id=\"DejaVuSans-4e\" transform=\"scale(0.015625)\"/>\r\n       </defs>\r\n       <use xlink:href=\"#DejaVuSans-4e\"/>\r\n       <use x=\"74.804688\" xlink:href=\"#DejaVuSans-6f\"/>\r\n       <use x=\"135.986328\" xlink:href=\"#DejaVuSans-6e\"/>\r\n       <use x=\"199.365234\" xlink:href=\"#DejaVuSans-65\"/>\r\n      </g>\r\n     </g>\r\n    </g>\r\n    <g id=\"xtick_7\">\r\n     <g id=\"line2d_7\">\r\n      <g>\r\n       <use style=\"stroke:#000000;stroke-width:0.8;\" x=\"376.938839\" xlink:href=\"#m63fc1b54a2\" y=\"224.64\"/>\r\n      </g>\r\n     </g>\r\n     <g id=\"text_7\">\r\n      <!-- Oil &amp; Gas -->\r\n      <g transform=\"translate(379.698214 278.30875)rotate(-90)scale(0.1 -0.1)\">\r\n       <defs>\r\n        <path d=\"M 2522 4238 \r\nQ 1834 4238 1429 3725 \r\nQ 1025 3213 1025 2328 \r\nQ 1025 1447 1429 934 \r\nQ 1834 422 2522 422 \r\nQ 3209 422 3611 934 \r\nQ 4013 1447 4013 2328 \r\nQ 4013 3213 3611 3725 \r\nQ 3209 4238 2522 4238 \r\nz\r\nM 2522 4750 \r\nQ 3503 4750 4090 4092 \r\nQ 4678 3434 4678 2328 \r\nQ 4678 1225 4090 567 \r\nQ 3503 -91 2522 -91 \r\nQ 1538 -91 948 565 \r\nQ 359 1222 359 2328 \r\nQ 359 3434 948 4092 \r\nQ 1538 4750 2522 4750 \r\nz\r\n\" id=\"DejaVuSans-4f\" transform=\"scale(0.015625)\"/>\r\n        <path id=\"DejaVuSans-20\" transform=\"scale(0.015625)\"/>\r\n        <path d=\"M 1556 2509 \r\nQ 1272 2256 1139 2004 \r\nQ 1006 1753 1006 1478 \r\nQ 1006 1022 1337 719 \r\nQ 1669 416 2169 416 \r\nQ 2466 416 2725 514 \r\nQ 2984 613 3213 813 \r\nL 1556 2509 \r\nz\r\nM 1997 2859 \r\nL 3584 1234 \r\nQ 3769 1513 3872 1830 \r\nQ 3975 2147 3994 2503 \r\nL 4575 2503 \r\nQ 4538 2091 4375 1687 \r\nQ 4213 1284 3922 891 \r\nL 4794 0 \r\nL 4006 0 \r\nL 3559 459 \r\nQ 3234 181 2878 45 \r\nQ 2522 -91 2113 -91 \r\nQ 1359 -91 881 339 \r\nQ 403 769 403 1441 \r\nQ 403 1841 612 2192 \r\nQ 822 2544 1241 2853 \r\nQ 1091 3050 1012 3245 \r\nQ 934 3441 934 3628 \r\nQ 934 4134 1281 4442 \r\nQ 1628 4750 2203 4750 \r\nQ 2463 4750 2720 4694 \r\nQ 2978 4638 3244 4525 \r\nL 3244 3956 \r\nQ 2972 4103 2725 4179 \r\nQ 2478 4256 2266 4256 \r\nQ 1938 4256 1733 4082 \r\nQ 1528 3909 1528 3634 \r\nQ 1528 3475 1620 3314 \r\nQ 1713 3153 1997 2859 \r\nz\r\n\" id=\"DejaVuSans-26\" transform=\"scale(0.015625)\"/>\r\n        <path d=\"M 3809 666 \r\nL 3809 1919 \r\nL 2778 1919 \r\nL 2778 2438 \r\nL 4434 2438 \r\nL 4434 434 \r\nQ 4069 175 3628 42 \r\nQ 3188 -91 2688 -91 \r\nQ 1594 -91 976 548 \r\nQ 359 1188 359 2328 \r\nQ 359 3472 976 4111 \r\nQ 1594 4750 2688 4750 \r\nQ 3144 4750 3555 4637 \r\nQ 3966 4525 4313 4306 \r\nL 4313 3634 \r\nQ 3963 3931 3569 4081 \r\nQ 3175 4231 2741 4231 \r\nQ 1884 4231 1454 3753 \r\nQ 1025 3275 1025 2328 \r\nQ 1025 1384 1454 906 \r\nQ 1884 428 2741 428 \r\nQ 3075 428 3337 486 \r\nQ 3600 544 3809 666 \r\nz\r\n\" id=\"DejaVuSans-47\" transform=\"scale(0.015625)\"/>\r\n       </defs>\r\n       <use xlink:href=\"#DejaVuSans-4f\"/>\r\n       <use x=\"78.710938\" xlink:href=\"#DejaVuSans-69\"/>\r\n       <use x=\"106.494141\" xlink:href=\"#DejaVuSans-6c\"/>\r\n       <use x=\"134.277344\" xlink:href=\"#DejaVuSans-20\"/>\r\n       <use x=\"166.064453\" xlink:href=\"#DejaVuSans-26\"/>\r\n       <use x=\"244.042969\" xlink:href=\"#DejaVuSans-20\"/>\r\n       <use x=\"275.830078\" xlink:href=\"#DejaVuSans-47\"/>\r\n       <use x=\"353.320312\" xlink:href=\"#DejaVuSans-61\"/>\r\n       <use x=\"414.599609\" xlink:href=\"#DejaVuSans-73\"/>\r\n      </g>\r\n     </g>\r\n    </g>\r\n    <g id=\"text_8\">\r\n     <!-- Category -->\r\n     <g transform=\"translate(210.6125 345.272812)scale(0.1 -0.1)\">\r\n      <defs>\r\n       <path d=\"M 4122 4306 \r\nL 4122 3641 \r\nQ 3803 3938 3442 4084 \r\nQ 3081 4231 2675 4231 \r\nQ 1875 4231 1450 3742 \r\nQ 1025 3253 1025 2328 \r\nQ 1025 1406 1450 917 \r\nQ 1875 428 2675 428 \r\nQ 3081 428 3442 575 \r\nQ 3803 722 4122 1019 \r\nL 4122 359 \r\nQ 3791 134 3420 21 \r\nQ 3050 -91 2638 -91 \r\nQ 1578 -91 968 557 \r\nQ 359 1206 359 2328 \r\nQ 359 3453 968 4101 \r\nQ 1578 4750 2638 4750 \r\nQ 3056 4750 3426 4639 \r\nQ 3797 4528 4122 4306 \r\nz\r\n\" id=\"DejaVuSans-43\" transform=\"scale(0.015625)\"/>\r\n      </defs>\r\n      <use xlink:href=\"#DejaVuSans-43\"/>\r\n      <use x=\"69.824219\" xlink:href=\"#DejaVuSans-61\"/>\r\n      <use x=\"131.103516\" xlink:href=\"#DejaVuSans-74\"/>\r\n      <use x=\"170.3125\" xlink:href=\"#DejaVuSans-65\"/>\r\n      <use x=\"231.835938\" xlink:href=\"#DejaVuSans-67\"/>\r\n      <use x=\"295.3125\" xlink:href=\"#DejaVuSans-6f\"/>\r\n      <use x=\"356.494141\" xlink:href=\"#DejaVuSans-72\"/>\r\n      <use x=\"397.607422\" xlink:href=\"#DejaVuSans-79\"/>\r\n     </g>\r\n    </g>\r\n   </g>\r\n   <g id=\"matplotlib.axis_2\">\r\n    <g id=\"ytick_1\">\r\n     <g id=\"line2d_8\">\r\n      <defs>\r\n       <path d=\"M 0 0 \r\nL -3.5 0 \r\n\" id=\"m1177d5664f\" style=\"stroke:#000000;stroke-width:0.8;\"/>\r\n      </defs>\r\n      <g>\r\n       <use style=\"stroke:#000000;stroke-width:0.8;\" x=\"66.053125\" xlink:href=\"#m1177d5664f\" y=\"224.64\"/>\r\n      </g>\r\n     </g>\r\n     <g id=\"text_9\">\r\n      <!-- 0 -->\r\n      <g transform=\"translate(52.690625 228.439219)scale(0.1 -0.1)\">\r\n       <defs>\r\n        <path d=\"M 2034 4250 \r\nQ 1547 4250 1301 3770 \r\nQ 1056 3291 1056 2328 \r\nQ 1056 1369 1301 889 \r\nQ 1547 409 2034 409 \r\nQ 2525 409 2770 889 \r\nQ 3016 1369 3016 2328 \r\nQ 3016 3291 2770 3770 \r\nQ 2525 4250 2034 4250 \r\nz\r\nM 2034 4750 \r\nQ 2819 4750 3233 4129 \r\nQ 3647 3509 3647 2328 \r\nQ 3647 1150 3233 529 \r\nQ 2819 -91 2034 -91 \r\nQ 1250 -91 836 529 \r\nQ 422 1150 422 2328 \r\nQ 422 3509 836 4129 \r\nQ 1250 4750 2034 4750 \r\nz\r\n\" id=\"DejaVuSans-30\" transform=\"scale(0.015625)\"/>\r\n       </defs>\r\n       <use xlink:href=\"#DejaVuSans-30\"/>\r\n      </g>\r\n     </g>\r\n    </g>\r\n    <g id=\"ytick_2\">\r\n     <g id=\"line2d_9\">\r\n      <g>\r\n       <use style=\"stroke:#000000;stroke-width:0.8;\" x=\"66.053125\" xlink:href=\"#m1177d5664f\" y=\"200.311518\"/>\r\n      </g>\r\n     </g>\r\n     <g id=\"text_10\">\r\n      <!-- 20000 -->\r\n      <g transform=\"translate(27.240625 204.110737)scale(0.1 -0.1)\">\r\n       <defs>\r\n        <path d=\"M 1228 531 \r\nL 3431 531 \r\nL 3431 0 \r\nL 469 0 \r\nL 469 531 \r\nQ 828 903 1448 1529 \r\nQ 2069 2156 2228 2338 \r\nQ 2531 2678 2651 2914 \r\nQ 2772 3150 2772 3378 \r\nQ 2772 3750 2511 3984 \r\nQ 2250 4219 1831 4219 \r\nQ 1534 4219 1204 4116 \r\nQ 875 4013 500 3803 \r\nL 500 4441 \r\nQ 881 4594 1212 4672 \r\nQ 1544 4750 1819 4750 \r\nQ 2544 4750 2975 4387 \r\nQ 3406 4025 3406 3419 \r\nQ 3406 3131 3298 2873 \r\nQ 3191 2616 2906 2266 \r\nQ 2828 2175 2409 1742 \r\nQ 1991 1309 1228 531 \r\nz\r\n\" id=\"DejaVuSans-32\" transform=\"scale(0.015625)\"/>\r\n       </defs>\r\n       <use xlink:href=\"#DejaVuSans-32\"/>\r\n       <use x=\"63.623047\" xlink:href=\"#DejaVuSans-30\"/>\r\n       <use x=\"127.246094\" xlink:href=\"#DejaVuSans-30\"/>\r\n       <use x=\"190.869141\" xlink:href=\"#DejaVuSans-30\"/>\r\n       <use x=\"254.492188\" xlink:href=\"#DejaVuSans-30\"/>\r\n      </g>\r\n     </g>\r\n    </g>\r\n    <g id=\"ytick_3\">\r\n     <g id=\"line2d_10\">\r\n      <g>\r\n       <use style=\"stroke:#000000;stroke-width:0.8;\" x=\"66.053125\" xlink:href=\"#m1177d5664f\" y=\"175.983036\"/>\r\n      </g>\r\n     </g>\r\n     <g id=\"text_11\">\r\n      <!-- 40000 -->\r\n      <g transform=\"translate(27.240625 179.782255)scale(0.1 -0.1)\">\r\n       <defs>\r\n        <path d=\"M 2419 4116 \r\nL 825 1625 \r\nL 2419 1625 \r\nL 2419 4116 \r\nz\r\nM 2253 4666 \r\nL 3047 4666 \r\nL 3047 1625 \r\nL 3713 1625 \r\nL 3713 1100 \r\nL 3047 1100 \r\nL 3047 0 \r\nL 2419 0 \r\nL 2419 1100 \r\nL 313 1100 \r\nL 313 1709 \r\nL 2253 4666 \r\nz\r\n\" id=\"DejaVuSans-34\" transform=\"scale(0.015625)\"/>\r\n       </defs>\r\n       <use xlink:href=\"#DejaVuSans-34\"/>\r\n       <use x=\"63.623047\" xlink:href=\"#DejaVuSans-30\"/>\r\n       <use x=\"127.246094\" xlink:href=\"#DejaVuSans-30\"/>\r\n       <use x=\"190.869141\" xlink:href=\"#DejaVuSans-30\"/>\r\n       <use x=\"254.492188\" xlink:href=\"#DejaVuSans-30\"/>\r\n      </g>\r\n     </g>\r\n    </g>\r\n    <g id=\"ytick_4\">\r\n     <g id=\"line2d_11\">\r\n      <g>\r\n       <use style=\"stroke:#000000;stroke-width:0.8;\" x=\"66.053125\" xlink:href=\"#m1177d5664f\" y=\"151.654554\"/>\r\n      </g>\r\n     </g>\r\n     <g id=\"text_12\">\r\n      <!-- 60000 -->\r\n      <g transform=\"translate(27.240625 155.453773)scale(0.1 -0.1)\">\r\n       <defs>\r\n        <path d=\"M 2113 2584 \r\nQ 1688 2584 1439 2293 \r\nQ 1191 2003 1191 1497 \r\nQ 1191 994 1439 701 \r\nQ 1688 409 2113 409 \r\nQ 2538 409 2786 701 \r\nQ 3034 994 3034 1497 \r\nQ 3034 2003 2786 2293 \r\nQ 2538 2584 2113 2584 \r\nz\r\nM 3366 4563 \r\nL 3366 3988 \r\nQ 3128 4100 2886 4159 \r\nQ 2644 4219 2406 4219 \r\nQ 1781 4219 1451 3797 \r\nQ 1122 3375 1075 2522 \r\nQ 1259 2794 1537 2939 \r\nQ 1816 3084 2150 3084 \r\nQ 2853 3084 3261 2657 \r\nQ 3669 2231 3669 1497 \r\nQ 3669 778 3244 343 \r\nQ 2819 -91 2113 -91 \r\nQ 1303 -91 875 529 \r\nQ 447 1150 447 2328 \r\nQ 447 3434 972 4092 \r\nQ 1497 4750 2381 4750 \r\nQ 2619 4750 2861 4703 \r\nQ 3103 4656 3366 4563 \r\nz\r\n\" id=\"DejaVuSans-36\" transform=\"scale(0.015625)\"/>\r\n       </defs>\r\n       <use xlink:href=\"#DejaVuSans-36\"/>\r\n       <use x=\"63.623047\" xlink:href=\"#DejaVuSans-30\"/>\r\n       <use x=\"127.246094\" xlink:href=\"#DejaVuSans-30\"/>\r\n       <use x=\"190.869141\" xlink:href=\"#DejaVuSans-30\"/>\r\n       <use x=\"254.492188\" xlink:href=\"#DejaVuSans-30\"/>\r\n      </g>\r\n     </g>\r\n    </g>\r\n    <g id=\"ytick_5\">\r\n     <g id=\"line2d_12\">\r\n      <g>\r\n       <use style=\"stroke:#000000;stroke-width:0.8;\" x=\"66.053125\" xlink:href=\"#m1177d5664f\" y=\"127.326072\"/>\r\n      </g>\r\n     </g>\r\n     <g id=\"text_13\">\r\n      <!-- 80000 -->\r\n      <g transform=\"translate(27.240625 131.125291)scale(0.1 -0.1)\">\r\n       <defs>\r\n        <path d=\"M 2034 2216 \r\nQ 1584 2216 1326 1975 \r\nQ 1069 1734 1069 1313 \r\nQ 1069 891 1326 650 \r\nQ 1584 409 2034 409 \r\nQ 2484 409 2743 651 \r\nQ 3003 894 3003 1313 \r\nQ 3003 1734 2745 1975 \r\nQ 2488 2216 2034 2216 \r\nz\r\nM 1403 2484 \r\nQ 997 2584 770 2862 \r\nQ 544 3141 544 3541 \r\nQ 544 4100 942 4425 \r\nQ 1341 4750 2034 4750 \r\nQ 2731 4750 3128 4425 \r\nQ 3525 4100 3525 3541 \r\nQ 3525 3141 3298 2862 \r\nQ 3072 2584 2669 2484 \r\nQ 3125 2378 3379 2068 \r\nQ 3634 1759 3634 1313 \r\nQ 3634 634 3220 271 \r\nQ 2806 -91 2034 -91 \r\nQ 1263 -91 848 271 \r\nQ 434 634 434 1313 \r\nQ 434 1759 690 2068 \r\nQ 947 2378 1403 2484 \r\nz\r\nM 1172 3481 \r\nQ 1172 3119 1398 2916 \r\nQ 1625 2713 2034 2713 \r\nQ 2441 2713 2670 2916 \r\nQ 2900 3119 2900 3481 \r\nQ 2900 3844 2670 4047 \r\nQ 2441 4250 2034 4250 \r\nQ 1625 4250 1398 4047 \r\nQ 1172 3844 1172 3481 \r\nz\r\n\" id=\"DejaVuSans-38\" transform=\"scale(0.015625)\"/>\r\n       </defs>\r\n       <use xlink:href=\"#DejaVuSans-38\"/>\r\n       <use x=\"63.623047\" xlink:href=\"#DejaVuSans-30\"/>\r\n       <use x=\"127.246094\" xlink:href=\"#DejaVuSans-30\"/>\r\n       <use x=\"190.869141\" xlink:href=\"#DejaVuSans-30\"/>\r\n       <use x=\"254.492188\" xlink:href=\"#DejaVuSans-30\"/>\r\n      </g>\r\n     </g>\r\n    </g>\r\n    <g id=\"ytick_6\">\r\n     <g id=\"line2d_13\">\r\n      <g>\r\n       <use style=\"stroke:#000000;stroke-width:0.8;\" x=\"66.053125\" xlink:href=\"#m1177d5664f\" y=\"102.99759\"/>\r\n      </g>\r\n     </g>\r\n     <g id=\"text_14\">\r\n      <!-- 100000 -->\r\n      <g transform=\"translate(20.878125 106.796809)scale(0.1 -0.1)\">\r\n       <defs>\r\n        <path d=\"M 794 531 \r\nL 1825 531 \r\nL 1825 4091 \r\nL 703 3866 \r\nL 703 4441 \r\nL 1819 4666 \r\nL 2450 4666 \r\nL 2450 531 \r\nL 3481 531 \r\nL 3481 0 \r\nL 794 0 \r\nL 794 531 \r\nz\r\n\" id=\"DejaVuSans-31\" transform=\"scale(0.015625)\"/>\r\n       </defs>\r\n       <use xlink:href=\"#DejaVuSans-31\"/>\r\n       <use x=\"63.623047\" xlink:href=\"#DejaVuSans-30\"/>\r\n       <use x=\"127.246094\" xlink:href=\"#DejaVuSans-30\"/>\r\n       <use x=\"190.869141\" xlink:href=\"#DejaVuSans-30\"/>\r\n       <use x=\"254.492188\" xlink:href=\"#DejaVuSans-30\"/>\r\n       <use x=\"318.115234\" xlink:href=\"#DejaVuSans-30\"/>\r\n      </g>\r\n     </g>\r\n    </g>\r\n    <g id=\"ytick_7\">\r\n     <g id=\"line2d_14\">\r\n      <g>\r\n       <use style=\"stroke:#000000;stroke-width:0.8;\" x=\"66.053125\" xlink:href=\"#m1177d5664f\" y=\"78.669109\"/>\r\n      </g>\r\n     </g>\r\n     <g id=\"text_15\">\r\n      <!-- 120000 -->\r\n      <g transform=\"translate(20.878125 82.468327)scale(0.1 -0.1)\">\r\n       <use xlink:href=\"#DejaVuSans-31\"/>\r\n       <use x=\"63.623047\" xlink:href=\"#DejaVuSans-32\"/>\r\n       <use x=\"127.246094\" xlink:href=\"#DejaVuSans-30\"/>\r\n       <use x=\"190.869141\" xlink:href=\"#DejaVuSans-30\"/>\r\n       <use x=\"254.492188\" xlink:href=\"#DejaVuSans-30\"/>\r\n       <use x=\"318.115234\" xlink:href=\"#DejaVuSans-30\"/>\r\n      </g>\r\n     </g>\r\n    </g>\r\n    <g id=\"ytick_8\">\r\n     <g id=\"line2d_15\">\r\n      <g>\r\n       <use style=\"stroke:#000000;stroke-width:0.8;\" x=\"66.053125\" xlink:href=\"#m1177d5664f\" y=\"54.340627\"/>\r\n      </g>\r\n     </g>\r\n     <g id=\"text_16\">\r\n      <!-- 140000 -->\r\n      <g transform=\"translate(20.878125 58.139845)scale(0.1 -0.1)\">\r\n       <use xlink:href=\"#DejaVuSans-31\"/>\r\n       <use x=\"63.623047\" xlink:href=\"#DejaVuSans-34\"/>\r\n       <use x=\"127.246094\" xlink:href=\"#DejaVuSans-30\"/>\r\n       <use x=\"190.869141\" xlink:href=\"#DejaVuSans-30\"/>\r\n       <use x=\"254.492188\" xlink:href=\"#DejaVuSans-30\"/>\r\n       <use x=\"318.115234\" xlink:href=\"#DejaVuSans-30\"/>\r\n      </g>\r\n     </g>\r\n    </g>\r\n    <g id=\"ytick_9\">\r\n     <g id=\"line2d_16\">\r\n      <g>\r\n       <use style=\"stroke:#000000;stroke-width:0.8;\" x=\"66.053125\" xlink:href=\"#m1177d5664f\" y=\"30.012145\"/>\r\n      </g>\r\n     </g>\r\n     <g id=\"text_17\">\r\n      <!-- 160000 -->\r\n      <g transform=\"translate(20.878125 33.811363)scale(0.1 -0.1)\">\r\n       <use xlink:href=\"#DejaVuSans-31\"/>\r\n       <use x=\"63.623047\" xlink:href=\"#DejaVuSans-36\"/>\r\n       <use x=\"127.246094\" xlink:href=\"#DejaVuSans-30\"/>\r\n       <use x=\"190.869141\" xlink:href=\"#DejaVuSans-30\"/>\r\n       <use x=\"254.492188\" xlink:href=\"#DejaVuSans-30\"/>\r\n       <use x=\"318.115234\" xlink:href=\"#DejaVuSans-30\"/>\r\n      </g>\r\n     </g>\r\n    </g>\r\n    <g id=\"text_18\">\r\n     <!-- Profit -->\r\n     <g transform=\"translate(14.798438 128.959062)rotate(-90)scale(0.1 -0.1)\">\r\n      <defs>\r\n       <path d=\"M 1259 4147 \r\nL 1259 2394 \r\nL 2053 2394 \r\nQ 2494 2394 2734 2622 \r\nQ 2975 2850 2975 3272 \r\nQ 2975 3691 2734 3919 \r\nQ 2494 4147 2053 4147 \r\nL 1259 4147 \r\nz\r\nM 628 4666 \r\nL 2053 4666 \r\nQ 2838 4666 3239 4311 \r\nQ 3641 3956 3641 3272 \r\nQ 3641 2581 3239 2228 \r\nQ 2838 1875 2053 1875 \r\nL 1259 1875 \r\nL 1259 0 \r\nL 628 0 \r\nL 628 4666 \r\nz\r\n\" id=\"DejaVuSans-50\" transform=\"scale(0.015625)\"/>\r\n       <path d=\"M 2375 4863 \r\nL 2375 4384 \r\nL 1825 4384 \r\nQ 1516 4384 1395 4259 \r\nQ 1275 4134 1275 3809 \r\nL 1275 3500 \r\nL 2222 3500 \r\nL 2222 3053 \r\nL 1275 3053 \r\nL 1275 0 \r\nL 697 0 \r\nL 697 3053 \r\nL 147 3053 \r\nL 147 3500 \r\nL 697 3500 \r\nL 697 3744 \r\nQ 697 4328 969 4595 \r\nQ 1241 4863 1831 4863 \r\nL 2375 4863 \r\nz\r\n\" id=\"DejaVuSans-66\" transform=\"scale(0.015625)\"/>\r\n      </defs>\r\n      <use xlink:href=\"#DejaVuSans-50\"/>\r\n      <use x=\"58.552734\" xlink:href=\"#DejaVuSans-72\"/>\r\n      <use x=\"97.416016\" xlink:href=\"#DejaVuSans-6f\"/>\r\n      <use x=\"158.597656\" xlink:href=\"#DejaVuSans-66\"/>\r\n      <use x=\"193.802734\" xlink:href=\"#DejaVuSans-69\"/>\r\n      <use x=\"221.585938\" xlink:href=\"#DejaVuSans-74\"/>\r\n     </g>\r\n    </g>\r\n   </g>\r\n   <g id=\"line2d_17\">\r\n    <path clip-path=\"url(#p37e549eae8)\" d=\"M 89.967411 143.43406 \r\nL 89.967411 17.554286 \r\n\" style=\"fill:none;stroke:#424242;stroke-linecap:square;stroke-width:2.7;\"/>\r\n   </g>\r\n   <g id=\"line2d_18\">\r\n    <path clip-path=\"url(#p37e549eae8)\" d=\"M 137.795982 109.31985 \r\nL 137.795982 76.312907 \r\n\" style=\"fill:none;stroke:#424242;stroke-linecap:square;stroke-width:2.7;\"/>\r\n   </g>\r\n   <g id=\"line2d_19\">\r\n    <path clip-path=\"url(#p37e549eae8)\" d=\"M 185.624554 113.10881 \r\nL 185.624554 57.308725 \r\n\" style=\"fill:none;stroke:#424242;stroke-linecap:square;stroke-width:2.7;\"/>\r\n   </g>\r\n   <g id=\"line2d_20\">\r\n    <path clip-path=\"url(#p37e549eae8)\" d=\"M 233.453125 128.942872 \r\nL 233.453125 51.869976 \r\n\" style=\"fill:none;stroke:#424242;stroke-linecap:square;stroke-width:2.7;\"/>\r\n   </g>\r\n   <g id=\"line2d_21\">\r\n    <path clip-path=\"url(#p37e549eae8)\" d=\"M 281.281696 100.493496 \r\nL 281.281696 34.200518 \r\n\" style=\"fill:none;stroke:#424242;stroke-linecap:square;stroke-width:2.7;\"/>\r\n   </g>\r\n   <g id=\"line2d_22\">\r\n    <path clip-path=\"url(#p37e549eae8)\" style=\"fill:none;stroke:#424242;stroke-linecap:square;stroke-width:2.7;\"/>\r\n   </g>\r\n   <g id=\"line2d_23\">\r\n    <path clip-path=\"url(#p37e549eae8)\" style=\"fill:none;stroke:#424242;stroke-linecap:square;stroke-width:2.7;\"/>\r\n   </g>\r\n   <g id=\"patch_10\">\r\n    <path d=\"M 66.053125 224.64 \r\nL 66.053125 7.2 \r\n\" style=\"fill:none;stroke:#000000;stroke-linecap:square;stroke-linejoin:miter;stroke-width:0.8;\"/>\r\n   </g>\r\n   <g id=\"patch_11\">\r\n    <path d=\"M 400.853125 224.64 \r\nL 400.853125 7.2 \r\n\" style=\"fill:none;stroke:#000000;stroke-linecap:square;stroke-linejoin:miter;stroke-width:0.8;\"/>\r\n   </g>\r\n   <g id=\"patch_12\">\r\n    <path d=\"M 66.053125 224.64 \r\nL 400.853125 224.64 \r\n\" style=\"fill:none;stroke:#000000;stroke-linecap:square;stroke-linejoin:miter;stroke-width:0.8;\"/>\r\n   </g>\r\n   <g id=\"patch_13\">\r\n    <path d=\"M 66.053125 7.2 \r\nL 400.853125 7.2 \r\n\" style=\"fill:none;stroke:#000000;stroke-linecap:square;stroke-linejoin:miter;stroke-width:0.8;\"/>\r\n   </g>\r\n  </g>\r\n </g>\r\n <defs>\r\n  <clipPath id=\"p37e549eae8\">\r\n   <rect height=\"217.44\" width=\"334.8\" x=\"66.053125\" y=\"7.2\"/>\r\n  </clipPath>\r\n </defs>\r\n</svg>\r\n",
      "image/png": "[encoded data removed]"
     },
     "metadata": {
      "needs_background": "light"
     }
    }
   ],
   "metadata": {
    "scrolled": false
   }
  },
  {
   "cell_type": "markdown",
   "source": [
    "## Part 3: Data Wrangling and Transformation."
   ],
   "metadata": {}
  },
  {
   "cell_type": "markdown",
   "source": [
    "* ### One-Hot Encoding"
   ],
   "metadata": {}
  },
  {
   "cell_type": "code",
   "execution_count": 116,
   "source": [
    "# One-Hot Encoding Train dataset\r\n",
    "\r\n",
    "train = pd.get_dummies(train,columns=['State', 'Category'])\r\n",
    "# Drop target variable \r\n",
    "train = train.drop(columns=['Profit'])\r\n"
   ],
   "outputs": [],
   "metadata": {}
  },
  {
   "cell_type": "code",
   "execution_count": 117,
   "source": [
    "# preview of the first 5 lines of the loaded Train data \r\n",
    "train.head()"
   ],
   "outputs": [
    {
     "output_type": "execute_result",
     "data": {
      "text/plain": [
       "    R&D Spend  Administration  Marketing Spend  State_California  \\\n",
       "ID                                                                 \n",
       "0   165349.20       136897.80        471784.10                 0   \n",
       "1   162597.70       151377.59        443898.53                 1   \n",
       "2   153441.51       101145.55        407934.54                 0   \n",
       "3   144372.41       118671.85        383199.62                 0   \n",
       "4   142107.34        91391.77        366168.42                 0   \n",
       "\n",
       "    State_Florida  State_New York  Category_Financials  Category_Healthcare  \\\n",
       "ID                                                                            \n",
       "0               0               1                    0                    0   \n",
       "1               0               0                    0                    0   \n",
       "2               1               0                    0                    1   \n",
       "3               0               1                    1                    0   \n",
       "4               1               0                    0                    0   \n",
       "\n",
       "    Category_Industrials  Category_None  Category_Oil & Gas  \\\n",
       "ID                                                            \n",
       "0                      1              0                   0   \n",
       "1                      0              0                   0   \n",
       "2                      0              0                   0   \n",
       "3                      0              0                   0   \n",
       "4                      1              0                   0   \n",
       "\n",
       "    Category_Technology  Category_Telecommunications  \n",
       "ID                                                    \n",
       "0                     0                            0  \n",
       "1                     1                            0  \n",
       "2                     0                            0  \n",
       "3                     0                            0  \n",
       "4                     0                            0  "
      ],
      "text/html": [
       "<div>\n",
       "<style scoped>\n",
       "    .dataframe tbody tr th:only-of-type {\n",
       "        vertical-align: middle;\n",
       "    }\n",
       "\n",
       "    .dataframe tbody tr th {\n",
       "        vertical-align: top;\n",
       "    }\n",
       "\n",
       "    .dataframe thead th {\n",
       "        text-align: right;\n",
       "    }\n",
       "</style>\n",
       "<table border=\"1\" class=\"dataframe\">\n",
       "  <thead>\n",
       "    <tr style=\"text-align: right;\">\n",
       "      <th></th>\n",
       "      <th>R&amp;D Spend</th>\n",
       "      <th>Administration</th>\n",
       "      <th>Marketing Spend</th>\n",
       "      <th>State_California</th>\n",
       "      <th>State_Florida</th>\n",
       "      <th>State_New York</th>\n",
       "      <th>Category_Financials</th>\n",
       "      <th>Category_Healthcare</th>\n",
       "      <th>Category_Industrials</th>\n",
       "      <th>Category_None</th>\n",
       "      <th>Category_Oil &amp; Gas</th>\n",
       "      <th>Category_Technology</th>\n",
       "      <th>Category_Telecommunications</th>\n",
       "    </tr>\n",
       "    <tr>\n",
       "      <th>ID</th>\n",
       "      <th></th>\n",
       "      <th></th>\n",
       "      <th></th>\n",
       "      <th></th>\n",
       "      <th></th>\n",
       "      <th></th>\n",
       "      <th></th>\n",
       "      <th></th>\n",
       "      <th></th>\n",
       "      <th></th>\n",
       "      <th></th>\n",
       "      <th></th>\n",
       "      <th></th>\n",
       "    </tr>\n",
       "  </thead>\n",
       "  <tbody>\n",
       "    <tr>\n",
       "      <th>0</th>\n",
       "      <td>165349.20</td>\n",
       "      <td>136897.80</td>\n",
       "      <td>471784.10</td>\n",
       "      <td>0</td>\n",
       "      <td>0</td>\n",
       "      <td>1</td>\n",
       "      <td>0</td>\n",
       "      <td>0</td>\n",
       "      <td>1</td>\n",
       "      <td>0</td>\n",
       "      <td>0</td>\n",
       "      <td>0</td>\n",
       "      <td>0</td>\n",
       "    </tr>\n",
       "    <tr>\n",
       "      <th>1</th>\n",
       "      <td>162597.70</td>\n",
       "      <td>151377.59</td>\n",
       "      <td>443898.53</td>\n",
       "      <td>1</td>\n",
       "      <td>0</td>\n",
       "      <td>0</td>\n",
       "      <td>0</td>\n",
       "      <td>0</td>\n",
       "      <td>0</td>\n",
       "      <td>0</td>\n",
       "      <td>0</td>\n",
       "      <td>1</td>\n",
       "      <td>0</td>\n",
       "    </tr>\n",
       "    <tr>\n",
       "      <th>2</th>\n",
       "      <td>153441.51</td>\n",
       "      <td>101145.55</td>\n",
       "      <td>407934.54</td>\n",
       "      <td>0</td>\n",
       "      <td>1</td>\n",
       "      <td>0</td>\n",
       "      <td>0</td>\n",
       "      <td>1</td>\n",
       "      <td>0</td>\n",
       "      <td>0</td>\n",
       "      <td>0</td>\n",
       "      <td>0</td>\n",
       "      <td>0</td>\n",
       "    </tr>\n",
       "    <tr>\n",
       "      <th>3</th>\n",
       "      <td>144372.41</td>\n",
       "      <td>118671.85</td>\n",
       "      <td>383199.62</td>\n",
       "      <td>0</td>\n",
       "      <td>0</td>\n",
       "      <td>1</td>\n",
       "      <td>1</td>\n",
       "      <td>0</td>\n",
       "      <td>0</td>\n",
       "      <td>0</td>\n",
       "      <td>0</td>\n",
       "      <td>0</td>\n",
       "      <td>0</td>\n",
       "    </tr>\n",
       "    <tr>\n",
       "      <th>4</th>\n",
       "      <td>142107.34</td>\n",
       "      <td>91391.77</td>\n",
       "      <td>366168.42</td>\n",
       "      <td>0</td>\n",
       "      <td>1</td>\n",
       "      <td>0</td>\n",
       "      <td>0</td>\n",
       "      <td>0</td>\n",
       "      <td>1</td>\n",
       "      <td>0</td>\n",
       "      <td>0</td>\n",
       "      <td>0</td>\n",
       "      <td>0</td>\n",
       "    </tr>\n",
       "  </tbody>\n",
       "</table>\n",
       "</div>"
      ]
     },
     "metadata": {},
     "execution_count": 117
    }
   ],
   "metadata": {}
  },
  {
   "cell_type": "code",
   "execution_count": 118,
   "source": [
    "# Train data shape\r\n",
    "train.shape"
   ],
   "outputs": [
    {
     "output_type": "execute_result",
     "data": {
      "text/plain": [
       "(50, 13)"
      ]
     },
     "metadata": {},
     "execution_count": 118
    }
   ],
   "metadata": {}
  },
  {
   "cell_type": "code",
   "execution_count": 119,
   "source": [
    "# One Hot-Encoding Test dataset\r\n",
    "test = pd.get_dummies(test,columns=['State', 'Category'])"
   ],
   "outputs": [],
   "metadata": {}
  },
  {
   "cell_type": "code",
   "execution_count": 120,
   "source": [
    "# preview of the first 5 lines of the loaded Test data \r\n",
    "test.head()"
   ],
   "outputs": [
    {
     "output_type": "execute_result",
     "data": {
      "text/plain": [
       "    R&D Spend  Administration  Marketing Spend  State_California  \\\n",
       "ID                                                                 \n",
       "0   165349.20       136897.80        471784.10                 0   \n",
       "1   162597.70       151377.59        443898.53                 1   \n",
       "2   153441.51       101145.55        407934.54                 0   \n",
       "3   144372.41       118671.85        383199.62                 0   \n",
       "4   142107.34        91391.77        366168.42                 0   \n",
       "\n",
       "    State_Florida  State_New York  State_None  Category_Financials  \\\n",
       "ID                                                                   \n",
       "0               0               1           0                    0   \n",
       "1               0               0           0                    0   \n",
       "2               1               0           0                    0   \n",
       "3               0               1           0                    1   \n",
       "4               1               0           0                    0   \n",
       "\n",
       "    Category_Healthcare  Category_Industrials  Category_Oil & Gas  \\\n",
       "ID                                                                  \n",
       "0                     0                     1                   0   \n",
       "1                     0                     0                   0   \n",
       "2                     1                     0                   0   \n",
       "3                     0                     0                   0   \n",
       "4                     0                     1                   0   \n",
       "\n",
       "    Category_Technology  Category_Telecommunications  \n",
       "ID                                                    \n",
       "0                     0                            0  \n",
       "1                     1                            0  \n",
       "2                     0                            0  \n",
       "3                     0                            0  \n",
       "4                     0                            0  "
      ],
      "text/html": [
       "<div>\n",
       "<style scoped>\n",
       "    .dataframe tbody tr th:only-of-type {\n",
       "        vertical-align: middle;\n",
       "    }\n",
       "\n",
       "    .dataframe tbody tr th {\n",
       "        vertical-align: top;\n",
       "    }\n",
       "\n",
       "    .dataframe thead th {\n",
       "        text-align: right;\n",
       "    }\n",
       "</style>\n",
       "<table border=\"1\" class=\"dataframe\">\n",
       "  <thead>\n",
       "    <tr style=\"text-align: right;\">\n",
       "      <th></th>\n",
       "      <th>R&amp;D Spend</th>\n",
       "      <th>Administration</th>\n",
       "      <th>Marketing Spend</th>\n",
       "      <th>State_California</th>\n",
       "      <th>State_Florida</th>\n",
       "      <th>State_New York</th>\n",
       "      <th>State_None</th>\n",
       "      <th>Category_Financials</th>\n",
       "      <th>Category_Healthcare</th>\n",
       "      <th>Category_Industrials</th>\n",
       "      <th>Category_Oil &amp; Gas</th>\n",
       "      <th>Category_Technology</th>\n",
       "      <th>Category_Telecommunications</th>\n",
       "    </tr>\n",
       "    <tr>\n",
       "      <th>ID</th>\n",
       "      <th></th>\n",
       "      <th></th>\n",
       "      <th></th>\n",
       "      <th></th>\n",
       "      <th></th>\n",
       "      <th></th>\n",
       "      <th></th>\n",
       "      <th></th>\n",
       "      <th></th>\n",
       "      <th></th>\n",
       "      <th></th>\n",
       "      <th></th>\n",
       "      <th></th>\n",
       "    </tr>\n",
       "  </thead>\n",
       "  <tbody>\n",
       "    <tr>\n",
       "      <th>0</th>\n",
       "      <td>165349.20</td>\n",
       "      <td>136897.80</td>\n",
       "      <td>471784.10</td>\n",
       "      <td>0</td>\n",
       "      <td>0</td>\n",
       "      <td>1</td>\n",
       "      <td>0</td>\n",
       "      <td>0</td>\n",
       "      <td>0</td>\n",
       "      <td>1</td>\n",
       "      <td>0</td>\n",
       "      <td>0</td>\n",
       "      <td>0</td>\n",
       "    </tr>\n",
       "    <tr>\n",
       "      <th>1</th>\n",
       "      <td>162597.70</td>\n",
       "      <td>151377.59</td>\n",
       "      <td>443898.53</td>\n",
       "      <td>1</td>\n",
       "      <td>0</td>\n",
       "      <td>0</td>\n",
       "      <td>0</td>\n",
       "      <td>0</td>\n",
       "      <td>0</td>\n",
       "      <td>0</td>\n",
       "      <td>0</td>\n",
       "      <td>1</td>\n",
       "      <td>0</td>\n",
       "    </tr>\n",
       "    <tr>\n",
       "      <th>2</th>\n",
       "      <td>153441.51</td>\n",
       "      <td>101145.55</td>\n",
       "      <td>407934.54</td>\n",
       "      <td>0</td>\n",
       "      <td>1</td>\n",
       "      <td>0</td>\n",
       "      <td>0</td>\n",
       "      <td>0</td>\n",
       "      <td>1</td>\n",
       "      <td>0</td>\n",
       "      <td>0</td>\n",
       "      <td>0</td>\n",
       "      <td>0</td>\n",
       "    </tr>\n",
       "    <tr>\n",
       "      <th>3</th>\n",
       "      <td>144372.41</td>\n",
       "      <td>118671.85</td>\n",
       "      <td>383199.62</td>\n",
       "      <td>0</td>\n",
       "      <td>0</td>\n",
       "      <td>1</td>\n",
       "      <td>0</td>\n",
       "      <td>1</td>\n",
       "      <td>0</td>\n",
       "      <td>0</td>\n",
       "      <td>0</td>\n",
       "      <td>0</td>\n",
       "      <td>0</td>\n",
       "    </tr>\n",
       "    <tr>\n",
       "      <th>4</th>\n",
       "      <td>142107.34</td>\n",
       "      <td>91391.77</td>\n",
       "      <td>366168.42</td>\n",
       "      <td>0</td>\n",
       "      <td>1</td>\n",
       "      <td>0</td>\n",
       "      <td>0</td>\n",
       "      <td>0</td>\n",
       "      <td>0</td>\n",
       "      <td>1</td>\n",
       "      <td>0</td>\n",
       "      <td>0</td>\n",
       "      <td>0</td>\n",
       "    </tr>\n",
       "  </tbody>\n",
       "</table>\n",
       "</div>"
      ]
     },
     "metadata": {},
     "execution_count": 120
    }
   ],
   "metadata": {
    "scrolled": true
   }
  },
  {
   "cell_type": "code",
   "execution_count": 121,
   "source": [
    "# Test data shape\r\n",
    "test.shape"
   ],
   "outputs": [
    {
     "output_type": "execute_result",
     "data": {
      "text/plain": [
       "(50, 13)"
      ]
     },
     "metadata": {},
     "execution_count": 121
    }
   ],
   "metadata": {}
  },
  {
   "cell_type": "code",
   "execution_count": 122,
   "source": [
    "# Drop unnecessary variables \r\n",
    "train = train.drop(columns=['Category_None'])\r\n",
    "test = test.drop(columns=['State_None'])"
   ],
   "outputs": [],
   "metadata": {}
  },
  {
   "cell_type": "markdown",
   "source": [
    "* ### StandardScaler"
   ],
   "metadata": {}
  },
  {
   "cell_type": "code",
   "execution_count": null,
   "source": [],
   "outputs": [],
   "metadata": {}
  },
  {
   "cell_type": "markdown",
   "source": [
    "* ### Creating datasets for ML part"
   ],
   "metadata": {}
  },
  {
   "cell_type": "code",
   "execution_count": 123,
   "source": [
    "# set 'X' for features of scaled Train dataset 'sc_train'\r\n",
    "\r\n",
    "\r\n",
    "# set 'y' for the target 'Profit'\r\n",
    "\r\n",
    "\r\n",
    "# 'X_Test' for features of scaled Test dataset 'sc_test'\r\n"
   ],
   "outputs": [],
   "metadata": {}
  },
  {
   "cell_type": "markdown",
   "source": [
    "* ### 'Train\\Test' split"
   ],
   "metadata": {}
  },
  {
   "cell_type": "code",
   "execution_count": null,
   "source": [],
   "outputs": [],
   "metadata": {}
  },
  {
   "cell_type": "code",
   "execution_count": null,
   "source": [],
   "outputs": [],
   "metadata": {}
  },
  {
   "cell_type": "code",
   "execution_count": null,
   "source": [],
   "outputs": [],
   "metadata": {}
  },
  {
   "cell_type": "code",
   "execution_count": null,
   "source": [],
   "outputs": [],
   "metadata": {}
  },
  {
   "cell_type": "markdown",
   "source": [
    "## Part 4: Machine Learning."
   ],
   "metadata": {}
  },
  {
   "cell_type": "markdown",
   "source": [
    "* ### Build, train, evaluate and visualise models"
   ],
   "metadata": {}
  },
  {
   "cell_type": "markdown",
   "source": [
    "* #### Linear Regression"
   ],
   "metadata": {}
  },
  {
   "cell_type": "code",
   "execution_count": 124,
   "source": [
    "# Linear Regression model\n",
    "\n",
    "\n",
    "# Model Training\n",
    "\n",
    "# Model Prediction\n"
   ],
   "outputs": [],
   "metadata": {
    "scrolled": true
   }
  },
  {
   "cell_type": "code",
   "execution_count": 125,
   "source": [
    "# Model R2 score\n"
   ],
   "outputs": [],
   "metadata": {}
  },
  {
   "cell_type": "code",
   "execution_count": 126,
   "source": [
    "# Model Metrics\n"
   ],
   "outputs": [],
   "metadata": {
    "scrolled": true
   }
  },
  {
   "cell_type": "code",
   "execution_count": 127,
   "source": [
    "# visualisation of Train dataset predictions\n",
    "\n",
    "# Plot outputs\n"
   ],
   "outputs": [],
   "metadata": {}
  },
  {
   "cell_type": "code",
   "execution_count": 128,
   "source": [
    "# Test final predictions\n"
   ],
   "outputs": [],
   "metadata": {
    "scrolled": true
   }
  },
  {
   "cell_type": "code",
   "execution_count": 129,
   "source": [
    "# Model Metrics\n"
   ],
   "outputs": [],
   "metadata": {}
  },
  {
   "cell_type": "code",
   "execution_count": 130,
   "source": [
    "# visualisation of Test dataset predictions\n",
    "\n",
    "# Plot outputs\n"
   ],
   "outputs": [],
   "metadata": {}
  },
  {
   "cell_type": "code",
   "execution_count": 131,
   "source": [
    "# comparison between Actual 'Profit' from Train dataset abd Predicted 'Profit' from Test dataset\n"
   ],
   "outputs": [],
   "metadata": {
    "scrolled": false
   }
  },
  {
   "cell_type": "markdown",
   "source": [
    "* #### Gradient Boosting Regressor"
   ],
   "metadata": {}
  },
  {
   "cell_type": "code",
   "execution_count": 132,
   "source": [
    "# Gradient Boosting Regressor model\n",
    "\n",
    "\n",
    "# Model Training\n",
    "\n",
    "\n",
    "# Model Prediction\n",
    "\n",
    "\n",
    "# Model R2 score\n"
   ],
   "outputs": [],
   "metadata": {}
  },
  {
   "cell_type": "code",
   "execution_count": 133,
   "source": [
    "# Model Metrics\n"
   ],
   "outputs": [],
   "metadata": {}
  },
  {
   "cell_type": "code",
   "execution_count": 134,
   "source": [
    "# Test final predictions\n"
   ],
   "outputs": [],
   "metadata": {}
  },
  {
   "cell_type": "code",
   "execution_count": 135,
   "source": [
    "# Model Metrics\n"
   ],
   "outputs": [],
   "metadata": {}
  },
  {
   "cell_type": "code",
   "execution_count": 136,
   "source": [
    "# visualisation of Test dataset predictions\n",
    "\n",
    "# Plot outputs\n"
   ],
   "outputs": [],
   "metadata": {}
  },
  {
   "cell_type": "markdown",
   "source": [
    "### Model comparison"
   ],
   "metadata": {}
  },
  {
   "cell_type": "code",
   "execution_count": 137,
   "source": [
    "# score comparison of models\n"
   ],
   "outputs": [],
   "metadata": {
    "scrolled": true
   }
  },
  {
   "cell_type": "code",
   "execution_count": 138,
   "source": [
    "# comparison between Actual 'Profit' from Train dataset abd Predicted 'Profit' from Test dataset\n"
   ],
   "outputs": [],
   "metadata": {
    "scrolled": false
   }
  },
  {
   "cell_type": "markdown",
   "source": [
    "**Result**: The best model is **Gradient Boosting Regressor** with **R2 score = 0.972002**."
   ],
   "metadata": {}
  },
  {
   "cell_type": "markdown",
   "source": [
    "##  Conclusion."
   ],
   "metadata": {}
  },
  {
   "cell_type": "code",
   "execution_count": 139,
   "source": [
    "# submission of .csv file with final predictions\n"
   ],
   "outputs": [],
   "metadata": {}
  },
  {
   "cell_type": "code",
   "execution_count": null,
   "source": [],
   "outputs": [],
   "metadata": {}
  }
 ],
 "metadata": {
  "kernelspec": {
   "name": "python3",
   "display_name": "Python 3.9.6 64-bit"
  },
  "language_info": {
   "codemirror_mode": {
    "name": "ipython",
    "version": 3
   },
   "file_extension": ".py",
   "mimetype": "text/x-python",
   "name": "python",
   "nbconvert_exporter": "python",
   "pygments_lexer": "ipython3",
   "version": "3.9.6"
  },
  "interpreter": {
   "hash": "693051ef44f00f42ebfc2dafa13228827441a703622fcbcdf4cce777ad1fbe12"
  }
 },
 "nbformat": 4,
 "nbformat_minor": 4
}