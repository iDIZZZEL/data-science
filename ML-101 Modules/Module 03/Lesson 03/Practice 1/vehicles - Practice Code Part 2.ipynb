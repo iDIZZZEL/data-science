{
 "cells": [
  {
   "cell_type": "markdown",
   "metadata": {},
   "source": [
    "# \"Vehicles.\""
   ]
  },
  {
   "cell_type": "markdown",
   "metadata": {},
   "source": [
    "## Part 3: Data Wrangling and Transformation."
   ]
  },
  {
   "cell_type": "markdown",
   "metadata": {},
   "source": [
    "* ### StandardScaler"
   ]
  },
  {
   "cell_type": "code",
   "execution_count": 15,
   "metadata": {},
   "outputs": [
    {
     "data": {
      "text/html": [
       "<div>\n",
       "<style scoped>\n",
       "    .dataframe tbody tr th:only-of-type {\n",
       "        vertical-align: middle;\n",
       "    }\n",
       "\n",
       "    .dataframe tbody tr th {\n",
       "        vertical-align: top;\n",
       "    }\n",
       "\n",
       "    .dataframe thead th {\n",
       "        text-align: right;\n",
       "    }\n",
       "</style>\n",
       "<table border=\"1\" class=\"dataframe\">\n",
       "  <thead>\n",
       "    <tr style=\"text-align: right;\">\n",
       "      <th></th>\n",
       "      <th>0</th>\n",
       "      <th>1</th>\n",
       "      <th>2</th>\n",
       "      <th>3</th>\n",
       "      <th>4</th>\n",
       "      <th>5</th>\n",
       "      <th>6</th>\n",
       "      <th>7</th>\n",
       "      <th>8</th>\n",
       "      <th>9</th>\n",
       "      <th>10</th>\n",
       "      <th>11</th>\n",
       "      <th>12</th>\n",
       "      <th>13</th>\n",
       "      <th>14</th>\n",
       "      <th>15</th>\n",
       "      <th>16</th>\n",
       "      <th>17</th>\n",
       "    </tr>\n",
       "  </thead>\n",
       "  <tbody>\n",
       "    <tr>\n",
       "      <th>0</th>\n",
       "      <td>0.160580</td>\n",
       "      <td>0.508950</td>\n",
       "      <td>0.057819</td>\n",
       "      <td>0.270806</td>\n",
       "      <td>1.307291</td>\n",
       "      <td>0.311542</td>\n",
       "      <td>-0.205844</td>\n",
       "      <td>0.136570</td>\n",
       "      <td>-0.224944</td>\n",
       "      <td>0.758332</td>\n",
       "      <td>-0.402383</td>\n",
       "      <td>-0.344935</td>\n",
       "      <td>0.285812</td>\n",
       "      <td>-0.329056</td>\n",
       "      <td>-0.076711</td>\n",
       "      <td>0.380991</td>\n",
       "      <td>-0.313722</td>\n",
       "      <td>0.183957</td>\n",
       "    </tr>\n",
       "    <tr>\n",
       "      <th>1</th>\n",
       "      <td>-0.325470</td>\n",
       "      <td>-0.626268</td>\n",
       "      <td>0.121261</td>\n",
       "      <td>-0.835244</td>\n",
       "      <td>-0.595396</td>\n",
       "      <td>0.094079</td>\n",
       "      <td>-0.597112</td>\n",
       "      <td>0.520843</td>\n",
       "      <td>-0.610954</td>\n",
       "      <td>-0.344578</td>\n",
       "      <td>-0.593611</td>\n",
       "      <td>-0.622416</td>\n",
       "      <td>-0.513517</td>\n",
       "      <td>-0.061767</td>\n",
       "      <td>0.533610</td>\n",
       "      <td>0.156925</td>\n",
       "      <td>0.010937</td>\n",
       "      <td>0.452977</td>\n",
       "    </tr>\n",
       "    <tr>\n",
       "      <th>2</th>\n",
       "      <td>1.254193</td>\n",
       "      <td>0.833298</td>\n",
       "      <td>1.517005</td>\n",
       "      <td>1.197496</td>\n",
       "      <td>0.546217</td>\n",
       "      <td>0.311542</td>\n",
       "      <td>1.148544</td>\n",
       "      <td>-1.144341</td>\n",
       "      <td>0.933086</td>\n",
       "      <td>0.689401</td>\n",
       "      <td>1.095564</td>\n",
       "      <td>1.104766</td>\n",
       "      <td>1.392577</td>\n",
       "      <td>0.071877</td>\n",
       "      <td>1.550812</td>\n",
       "      <td>-0.403238</td>\n",
       "      <td>-0.151393</td>\n",
       "      <td>0.049447</td>\n",
       "    </tr>\n",
       "    <tr>\n",
       "      <th>3</th>\n",
       "      <td>-0.082445</td>\n",
       "      <td>-0.626268</td>\n",
       "      <td>-0.005624</td>\n",
       "      <td>-0.297166</td>\n",
       "      <td>0.165679</td>\n",
       "      <td>0.094079</td>\n",
       "      <td>-0.747600</td>\n",
       "      <td>0.648935</td>\n",
       "      <td>-0.610954</td>\n",
       "      <td>-0.344578</td>\n",
       "      <td>-0.912323</td>\n",
       "      <td>-0.741337</td>\n",
       "      <td>-1.466565</td>\n",
       "      <td>-1.264566</td>\n",
       "      <td>-0.076711</td>\n",
       "      <td>-0.291206</td>\n",
       "      <td>1.634233</td>\n",
       "      <td>1.529056</td>\n",
       "    </tr>\n",
       "    <tr>\n",
       "      <th>4</th>\n",
       "      <td>-1.054545</td>\n",
       "      <td>-0.139746</td>\n",
       "      <td>-0.766939</td>\n",
       "      <td>1.077923</td>\n",
       "      <td>5.239511</td>\n",
       "      <td>9.444962</td>\n",
       "      <td>-0.597112</td>\n",
       "      <td>0.520843</td>\n",
       "      <td>-0.610954</td>\n",
       "      <td>-0.275646</td>\n",
       "      <td>1.669245</td>\n",
       "      <td>-0.650731</td>\n",
       "      <td>0.408786</td>\n",
       "      <td>7.288670</td>\n",
       "      <td>0.533610</td>\n",
       "      <td>-0.179173</td>\n",
       "      <td>-1.450029</td>\n",
       "      <td>-1.699181</td>\n",
       "    </tr>\n",
       "  </tbody>\n",
       "</table>\n",
       "</div>"
      ],
      "text/plain": [
       "         0         1         2         3         4         5         6   \\\n",
       "0  0.160580  0.508950  0.057819  0.270806  1.307291  0.311542 -0.205844   \n",
       "1 -0.325470 -0.626268  0.121261 -0.835244 -0.595396  0.094079 -0.597112   \n",
       "2  1.254193  0.833298  1.517005  1.197496  0.546217  0.311542  1.148544   \n",
       "3 -0.082445 -0.626268 -0.005624 -0.297166  0.165679  0.094079 -0.747600   \n",
       "4 -1.054545 -0.139746 -0.766939  1.077923  5.239511  9.444962 -0.597112   \n",
       "\n",
       "         7         8         9         10        11        12        13  \\\n",
       "0  0.136570 -0.224944  0.758332 -0.402383 -0.344935  0.285812 -0.329056   \n",
       "1  0.520843 -0.610954 -0.344578 -0.593611 -0.622416 -0.513517 -0.061767   \n",
       "2 -1.144341  0.933086  0.689401  1.095564  1.104766  1.392577  0.071877   \n",
       "3  0.648935 -0.610954 -0.344578 -0.912323 -0.741337 -1.466565 -1.264566   \n",
       "4  0.520843 -0.610954 -0.275646  1.669245 -0.650731  0.408786  7.288670   \n",
       "\n",
       "         14        15        16        17  \n",
       "0 -0.076711  0.380991 -0.313722  0.183957  \n",
       "1  0.533610  0.156925  0.010937  0.452977  \n",
       "2  1.550812 -0.403238 -0.151393  0.049447  \n",
       "3 -0.076711 -0.291206  1.634233  1.529056  \n",
       "4  0.533610 -0.179173 -1.450029 -1.699181  "
      ]
     },
     "execution_count": 15,
     "metadata": {},
     "output_type": "execute_result"
    }
   ],
   "source": [
    "# StandardScaler \n",
    "sc = StandardScaler()\n",
    "dataset_sc = sc.fit_transform(dataset)\n",
    "dataset_sc = pd.DataFrame(dataset_sc)\n",
    "dataset_sc.head()"
   ]
  },
  {
   "cell_type": "markdown",
   "metadata": {},
   "source": [
    "* ### Creating datasets for ML part"
   ]
  },
  {
   "cell_type": "code",
   "execution_count": 16,
   "metadata": {},
   "outputs": [],
   "source": [
    "# set 'X' for features' and y' for the target ('Class').\n",
    "X = dataset_sc.copy()\n",
    "y = target"
   ]
  },
  {
   "cell_type": "markdown",
   "metadata": {},
   "source": [
    "* ### 'Train\\Test' split"
   ]
  },
  {
   "cell_type": "code",
   "execution_count": 17,
   "metadata": {},
   "outputs": [],
   "source": [
    "# apply 'Train\\Test' splitting method\n",
    "X_train, X_test, y_train, y_test = train_test_split(X, y, test_size=0.24, random_state=0)"
   ]
  },
  {
   "cell_type": "code",
   "execution_count": 18,
   "metadata": {},
   "outputs": [
    {
     "data": {
      "text/plain": [
       "((642, 18), (642,))"
      ]
     },
     "execution_count": 18,
     "metadata": {},
     "output_type": "execute_result"
    }
   ],
   "source": [
    "# print shape of X_train and y_train\n",
    "X_train.shape, y_train.shape"
   ]
  },
  {
   "cell_type": "code",
   "execution_count": 19,
   "metadata": {
    "scrolled": true
   },
   "outputs": [
    {
     "data": {
      "text/plain": [
       "((204, 18), (204,))"
      ]
     },
     "execution_count": 19,
     "metadata": {},
     "output_type": "execute_result"
    }
   ],
   "source": [
    "# print shape of X_test and y_test\n",
    "X_test.shape, y_test.shape"
   ]
  },
  {
   "cell_type": "markdown",
   "metadata": {},
   "source": [
    "## Part 4: Machine Learning."
   ]
  },
  {
   "cell_type": "markdown",
   "metadata": {},
   "source": [
    "* ### Build, train and evaluate model"
   ]
  },
  {
   "cell_type": "markdown",
   "metadata": {},
   "source": [
    "* SVC model"
   ]
  },
  {
   "cell_type": "code",
   "execution_count": 20,
   "metadata": {
    "scrolled": true
   },
   "outputs": [
    {
     "name": "stdout",
     "output_type": "stream",
     "text": [
      "Accuracy: 80.88235294117648\n"
     ]
    }
   ],
   "source": [
    "classifier = SVC(kernel='linear', decision_function_shape='ovo', tol=0.03)\n",
    "classifier.fit(X_train, y_train)\n",
    "SVC_pred = classifier.predict(X_test)\n",
    "accuracy = accuracy_score(SVC_pred, y_test)\n",
    "print(\"Accuracy:\", accuracy * 100)"
   ]
  },
  {
   "cell_type": "markdown",
   "metadata": {},
   "source": [
    "* ### Classification report"
   ]
  },
  {
   "cell_type": "code",
   "execution_count": 21,
   "metadata": {
    "scrolled": false
   },
   "outputs": [
    {
     "name": "stdout",
     "output_type": "stream",
     "text": [
      "SVC Classification Report: \n",
      "               precision    recall  f1-score   support\n",
      "\n",
      "         bus   0.901961  1.000000  0.948454        46\n",
      "        opel   0.653061  0.666667  0.659794        48\n",
      "        saab   0.727273  0.634921  0.677966        63\n",
      "         van   0.959184  1.000000  0.979167        47\n",
      "\n",
      "    accuracy                       0.808824       204\n",
      "   macro avg   0.810370  0.825397  0.816345       204\n",
      "weighted avg   0.802632  0.808824  0.804077       204\n",
      "\n"
     ]
    }
   ],
   "source": [
    "print(\"SVC Classification Report: \\n\", classification_report(y_test, SVC_pred, digits = 6))"
   ]
  },
  {
   "cell_type": "markdown",
   "metadata": {},
   "source": [
    "Вывод:\n",
    "* SVC linear model показывает достаточно хорошую метрику accuracy = 80.8% или 80.88235294117648;\n",
    "* Количество примеров классов представленных в тестовом сете данных (204 примера): \"bus\"=46, \"opel\"=48, \"saab\"=63, \"van\"=47;\n",
    "* По метрике f1-score сразу можно сказать, что лучше всех определился класс \"van\", за ним класс \"bus\", далее класс \"saab\", и хуже всех класс \"opel\". Давайте проверим это на confusion matrix."
   ]
  },
  {
   "cell_type": "markdown",
   "metadata": {},
   "source": [
    "* ### Confusion matrix"
   ]
  },
  {
   "cell_type": "markdown",
   "metadata": {},
   "source": [
    "По диагонали (от верха слева до низа справа или самые темные квадраты с цифрами): кол-во верно предсказанных данных в определенном классе;\n",
    "\n",
    "По вертикали: сколько раз данный класс неверно предсказался в других классах (не учитывая диагональное число, суммируем все числа);\n",
    "\n",
    "По горизонтали: сколько раз другие классы неверно предсказались в данном классе (не учитывая диагональное число, суммируем все числа);"
   ]
  },
  {
   "cell_type": "code",
   "execution_count": 22,
   "metadata": {
    "scrolled": true
   },
   "outputs": [
    {
     "name": "stdout",
     "output_type": "stream",
     "text": [
      "SVC Confusion Matrix\n"
     ]
    },
    {
     "data": {
      "image/png": "[encoded data removed]",
      "text/plain": [
       "<Figure size 432x288 with 2 Axes>"
      ]
     },
     "metadata": {
      "needs_background": "light"
     },
     "output_type": "display_data"
    }
   ],
   "source": [
    "# confusion matrix of SVC model\n",
    "labels = [\"bus\", \"opel\", \"saab\", \"van\"]\n",
    "cm = confusion_matrix(y_test, SVC_pred, labels=None)\n",
    "print('SVC Confusion Matrix')\n",
    "\n",
    "# visualisation of matrix\n",
    "df_cm = pd.DataFrame(cm, index=labels, columns=labels)\n",
    "sns.heatmap(df_cm, annot=True, fmt=\"d\", cmap = 'Blues', linewidths = 0.5, annot_kws = {'size': 15})\n",
    "plt.ylabel(\"Actual Vehicle Class\")\n",
    "plt.xlabel(\"Predicted Vehicle Class\")    \n",
    "plt.show()"
   ]
  },
  {
   "cell_type": "markdown",
   "metadata": {},
   "source": [
    "* ### Misclassification plot"
   ]
  },
  {
   "cell_type": "code",
   "execution_count": 23,
   "metadata": {},
   "outputs": [
    {
     "data": {
      "image/png": "[encoded data removed]",
      "text/plain": [
       "<Figure size 432x288 with 1 Axes>"
      ]
     },
     "metadata": {
      "needs_background": "light"
     },
     "output_type": "display_data"
    }
   ],
   "source": [
    "# misclassification vehicle plot \n",
    "for label in df_cm.columns:\n",
    "    df_cm.at[label, label] = 0\n",
    "    \n",
    "ax = df_cm.plot(kind=\"bar\", title=\"Misclassified Vehicle Classes\")\n",
    "ax.set_xlabel(\"Vehicle Classes\")\n",
    "ax.set_ylabel(\"Number of Incorrectly Predicted Class\")    \n",
    "plt.show()"
   ]
  },
  {
   "cell_type": "markdown",
   "metadata": {},
   "source": [
    "Вывод:\n",
    "* класс \"van\": _верно определен_ 47 раз из 47 примеров; _неверно определен в других классах_ 2 раза, _другие классы неверно определены в данном классе_ 0 раз.\n",
    "* класс \"bus\": _верно определен_ 46 раз из 46 примеров; _неверно определен в других классах_ 5 раз, _другие классы неверно определены в данном классе_ 0 раз.\n",
    "* класс \"saab\": _верно определен_ 40 раз из 63 примеров; _неверно определен в других классах_ 15 раз, _другие классы неверно определены в данном классе_ 23 раз.\n",
    "* класс \"opel\": _верно определен_ 32 раза из 48 примеров; _неверно определен в других классах_ 17 раз, _другие классы неверно определены в данном классе_ 16 раз.\n"
   ]
  },
  {
   "cell_type": "markdown",
   "metadata": {},
   "source": [
    "* ### Comparison table between Actual 'Class' and Predicted 'Class'"
   ]
  },
  {
   "cell_type": "code",
   "execution_count": 24,
   "metadata": {},
   "outputs": [
    {
     "data": {
      "text/html": [
       "<div>\n",
       "<style scoped>\n",
       "    .dataframe tbody tr th:only-of-type {\n",
       "        vertical-align: middle;\n",
       "    }\n",
       "\n",
       "    .dataframe tbody tr th {\n",
       "        vertical-align: top;\n",
       "    }\n",
       "\n",
       "    .dataframe thead th {\n",
       "        text-align: right;\n",
       "    }\n",
       "</style>\n",
       "<table border=\"1\" class=\"dataframe\">\n",
       "  <thead>\n",
       "    <tr style=\"text-align: right;\">\n",
       "      <th></th>\n",
       "      <th>Actual Vehicle Class</th>\n",
       "      <th>SVC Predicted Vehicle Class</th>\n",
       "    </tr>\n",
       "  </thead>\n",
       "  <tbody>\n",
       "    <tr>\n",
       "      <th>506</th>\n",
       "      <td>saab</td>\n",
       "      <td>opel</td>\n",
       "    </tr>\n",
       "    <tr>\n",
       "      <th>222</th>\n",
       "      <td>bus</td>\n",
       "      <td>bus</td>\n",
       "    </tr>\n",
       "    <tr>\n",
       "      <th>612</th>\n",
       "      <td>opel</td>\n",
       "      <td>van</td>\n",
       "    </tr>\n",
       "    <tr>\n",
       "      <th>730</th>\n",
       "      <td>opel</td>\n",
       "      <td>opel</td>\n",
       "    </tr>\n",
       "    <tr>\n",
       "      <th>661</th>\n",
       "      <td>saab</td>\n",
       "      <td>saab</td>\n",
       "    </tr>\n",
       "    <tr>\n",
       "      <th>577</th>\n",
       "      <td>opel</td>\n",
       "      <td>saab</td>\n",
       "    </tr>\n",
       "    <tr>\n",
       "      <th>31</th>\n",
       "      <td>saab</td>\n",
       "      <td>van</td>\n",
       "    </tr>\n",
       "    <tr>\n",
       "      <th>145</th>\n",
       "      <td>opel</td>\n",
       "      <td>opel</td>\n",
       "    </tr>\n",
       "    <tr>\n",
       "      <th>794</th>\n",
       "      <td>bus</td>\n",
       "      <td>bus</td>\n",
       "    </tr>\n",
       "    <tr>\n",
       "      <th>416</th>\n",
       "      <td>bus</td>\n",
       "      <td>bus</td>\n",
       "    </tr>\n",
       "  </tbody>\n",
       "</table>\n",
       "</div>"
      ],
      "text/plain": [
       "    Actual Vehicle Class SVC Predicted Vehicle Class\n",
       "506                 saab                        opel\n",
       "222                  bus                         bus\n",
       "612                 opel                         van\n",
       "730                 opel                        opel\n",
       "661                 saab                        saab\n",
       "577                 opel                        saab\n",
       "31                  saab                         van\n",
       "145                 opel                        opel\n",
       "794                  bus                         bus\n",
       "416                  bus                         bus"
      ]
     },
     "execution_count": 24,
     "metadata": {},
     "output_type": "execute_result"
    }
   ],
   "source": [
    "# comparison table between Actual 'Class' and Predicted 'Class'\n",
    "actualvspredicted = pd.DataFrame({\"Actual Vehicle Class\":y_test,\"SVC Predicted Vehicle Class\":SVC_pred})\n",
    "actualvspredicted.head(10)"
   ]
  },
  {
   "cell_type": "markdown",
   "metadata": {},
   "source": [
    "##  Conclusion."
   ]
  },
  {
   "cell_type": "code",
   "execution_count": 25,
   "metadata": {},
   "outputs": [],
   "source": [
    "# submission of .csv file with test predictions\n",
    "sub = pd.DataFrame()\n",
    "sub['ID'] = X_test.index\n",
    "sub['Class'] = SVC_pred\n",
    "sub.to_csv('VehiclesPredictionsTest.csv', index=False)"
   ]
  },
  {
   "cell_type": "markdown",
   "metadata": {},
   "source": [
    "**Question**: Определите класс транспортного средства по набору данных, описывающих геометрические особенности силуэтов транспортных средств, полученных по фотографиям для распознавания изображений (use multi-class classification; check balance of classes; calculate perdictions).\n",
    "\n",
    "**Answers**:\n",
    "\n",
    "1. Multi-class classification was applied.\n",
    "\n",
    "2. Classes were balanced in our dataset. \n",
    "    \n",
    "3. SVC model was used for ML process.\n",
    "\n",
    "4. Result: \n",
    "    * Train/Test split: test_size=0.24, random_state=0;\n",
    "    * SVC linear model показывает достаточно хорошую метрику accuracy = 80.8% или 80.88235294117648;\n",
    "    * Сonfusion matrix показывает, что из 204 примеров тестовых данных были верно определены 165 примеров и неверно определены 39 примеров;\n",
    "    * Сonfusion matrix так же показывает, что самыми хорошо определяемыми классами являются \"van\" и \"bus\", а самыми трудно определяемыми \"saab\" и \"opel\"."
   ]
  },
  {
   "cell_type": "code",
   "execution_count": null,
   "metadata": {},
   "outputs": [],
   "source": []
  }
 ],
 "metadata": {
  "kernelspec": {
   "display_name": "Python 3",
   "language": "python",
   "name": "python3"
  },
  "language_info": {
   "codemirror_mode": {
    "name": "ipython",
    "version": 3
   },
   "file_extension": ".py",
   "mimetype": "text/x-python",
   "name": "python",
   "nbconvert_exporter": "python",
   "pygments_lexer": "ipython3",
   "version": "3.7.3"
  }
 },
 "nbformat": 4,
 "nbformat_minor": 2
}
